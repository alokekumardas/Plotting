{
 "cells": [
  {
   "cell_type": "code",
   "execution_count": 15,
   "metadata": {},
   "outputs": [
    {
     "name": "stdout",
     "output_type": "stream",
     "text": [
      "pwd: error retrieving current directory: getcwd: cannot access parent directories: No such file or directory\r\n"
     ]
    }
   ],
   "source": [
    "import uproot\n",
    "!pwd"
   ]
  },
  {
   "cell_type": "code",
   "execution_count": 11,
   "metadata": {},
   "outputs": [],
   "source": [
    "ListOfFiles = [\"fitDiagnosticsAR_both.root\", \"fitDiagnosticsCR123_both.root\", \"fitDiagnosticsCR1_both.root\",  \"fitDiagnosticsCR2_both.root\", \"fitDiagnosticsCR3_both.root\",\n",
    "\t\t\t   \"fitDiagnosticsCR4_both.root\", \"fitDiagnosticsCR5_both.root\", \"fitDiagnosticsCR6_both.root\", \"fitDiagnosticsCR7_both.root\",  \"fitDiagnosticsSR8_both.root\"]"
   ]
  },
  {
   "cell_type": "code",
   "execution_count": 12,
   "metadata": {},
   "outputs": [],
   "source": [
    "controlRegionDict ={\"SR8\":\"tight\", \"CR123\":\"looseCRge2e0\", \"AR\":\"looseCRge2ge0\", \"CR7\":\"looseCRe3ge2\", \"CR3\":\"looseCRge4e0\", \"CR2\":\"looseCRe3e0\", \n",
    "\t\t\t\t   \"CR4\":\"looseCRe2e1\", \"CR1\":\"looseCRe2e0\", \"CR6\":\"looseCRe2e2\", \"CR5\":\"looseCRe3e1\" }"
   ]
  },
  {
   "cell_type": "code",
   "execution_count": 13,
   "metadata": {},
   "outputs": [
    {
     "name": "stdout",
     "output_type": "stream",
     "text": [
      "\\hline\n",
      "Control Regions & ZJetsSF 2017 \\\\\n",
      "\\hline\n",
      "AR & $ 0.886 \\substack{ -0.002 \\\\ + 0.002 }$ \\\\\n",
      "CR123 & $ 0.886 \\substack{ -0.002 \\\\ + 0.002 }$ \\\\\n",
      "CR1 & $ 0.886 \\substack{ -0.002 \\\\ + 0.002 }$ \\\\\n",
      "CR2 & $ 0.89 \\substack{ -0.005 \\\\ + 0.005 }$ \\\\\n",
      "CR3 & $ 0.881 \\substack{ -0.009 \\\\ + 0.009 }$ \\\\\n",
      "CR4 & $ 0.886 \\substack{ -0.008 \\\\ + 0.008 }$ \\\\\n",
      "CR5 & $ 0.942 \\substack{ -0.015 \\\\ + 0.015 }$ \\\\\n",
      "CR6 & $ 0.753 \\substack{ -0.021 \\\\ + 0.022 }$ \\\\\n",
      "CR7 & $ 0.754 \\substack{ -0.03 \\\\ + 0.032 }$ \\\\\n",
      "SR8 & $ 0.937 \\substack{ -0.022 \\\\ + 0.022 }$ \\\\\n"
     ]
    }
   ],
   "source": [
    "print \"\\\\hline\"\n",
    "print \"Control Regions & ZJetsSF 2017 \\\\\\\\\"\n",
    "print \"\\\\hline\"\n",
    "for ifile in ListOfFiles:\n",
    "    itree = uproot.open(ifile)[\"tree_fit_sb\"]\n",
    "    print ifile[14:-10],\"&\",\"$\",round(itree.array(\"r\"),3),\"\\substack{\" ,-round(itree.array(\"rLoErr\"),3),\"\\\\\\\\\", \"+\",round(itree.array(\"rHiErr\"),3),\"}$ \\\\\\\\\""
   ]
  },
  {
   "cell_type": "code",
   "execution_count": 14,
   "metadata": {},
   "outputs": [
    {
     "name": "stdout",
     "output_type": "stream",
     "text": [
      "/uscms_data/d3/npoudyal/TTGammaSemiLeptonic13TeV/CMSSW_10_2_14/src/HiggsAnalysis/CombinedLimit/ttgammaCombineFitting/Datacard_ZJets_2017\n",
      "AR looseCRge2ge0 ZJetSF= 0.886 ;\n",
      "CR123 looseCRge2e0 ZJetSF= 0.886 ;\n",
      "CR1 looseCRe2e0 ZJetSF= 0.886 ;\n",
      "CR2 looseCRe3e0 ZJetSF= 0.89 ;\n",
      "CR3 looseCRge4e0 ZJetSF= 0.881 ;\n",
      "CR4 looseCRe2e1 ZJetSF= 0.886 ;\n",
      "CR5 looseCRe3e1 ZJetSF= 0.942 ;\n",
      "CR6 looseCRe2e2 ZJetSF= 0.753 ;\n",
      "CR7 looseCRe3ge2 ZJetSF= 0.754 ;\n",
      "SR8 tight ZJetSF= 0.937 ;\n",
      "[0.886, 0.886, 0.886, 0.89, 0.881, 0.886, 0.942, 0.753, 0.754, 0.937]\n"
     ]
    }
   ],
   "source": [
    "!pwd\n",
    "myArray = []\n",
    "for ifile in ListOfFiles:\n",
    "    itree = uproot.open(ifile)[\"tree_fit_sb\"]\n",
    "    print ifile[14:-10],controlRegionDict[ifile[14:-10]],\"ZJetSF=\",round(itree.array(\"r\"),3),\";\"\n",
    "    myArray.append(round(itree.array(\"r\"),3))\n",
    "print myArray"
   ]
  },
  {
   "cell_type": "code",
   "execution_count": null,
   "metadata": {},
   "outputs": [],
   "source": []
  }
 ],
 "metadata": {
  "kernelspec": {
   "display_name": "Python 2",
   "language": "python",
   "name": "python2"
  },
  "language_info": {
   "codemirror_mode": {
    "name": "ipython",
    "version": 2
   },
   "file_extension": ".py",
   "mimetype": "text/x-python",
   "name": "python",
   "nbconvert_exporter": "python",
   "pygments_lexer": "ipython2",
   "version": "2.7.14+"
  }
 },
 "nbformat": 4,
 "nbformat_minor": 2
}
