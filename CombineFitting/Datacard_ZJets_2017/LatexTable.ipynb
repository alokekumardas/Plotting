{
 "cells": [
  {
   "cell_type": "code",
   "execution_count": 1,
   "metadata": {},
   "outputs": [
    {
     "name": "stdout",
     "output_type": "stream",
     "text": [
      "/uscms_data/d3/npoudyal/TTGammaSemiLeptonic13TeV/CMSSW_10_2_14/src/HiggsAnalysis/CombinedLimit/ttgammaCombineFitting/Datacard_ZJets_2017\r\n"
     ]
    }
   ],
   "source": [
    "import uproot\n",
    "!pwd"
   ]
  },
  {
   "cell_type": "code",
   "execution_count": 2,
   "metadata": {},
   "outputs": [],
   "source": [
    "ListOfFiles = [\"fitDiagnosticsAR_both.root\", \"fitDiagnosticsCR123_both.root\", \"fitDiagnosticsCR1_both.root\",  \"fitDiagnosticsCR2_both.root\", \"fitDiagnosticsCR3_both.root\",\n",
    "\t\t\t   \"fitDiagnosticsCR4_both.root\", \"fitDiagnosticsCR5_both.root\", \"fitDiagnosticsCR6_both.root\", \"fitDiagnosticsCR7_both.root\",  \"fitDiagnosticsSR8_both.root\"]"
   ]
  },
  {
   "cell_type": "code",
   "execution_count": 3,
   "metadata": {},
   "outputs": [],
   "source": [
    "controlRegionDict ={\"SR8\":\"tight\", \"CR123\":\"looseCRge2e0\", \"AR\":\"looseCRge2ge0\", \"CR7\":\"looseCRe3ge2\", \"CR3\":\"looseCRge4e0\", \"CR2\":\"looseCRe3e0\", \n",
    "\t\t\t\t   \"CR4\":\"looseCRe2e1\", \"CR1\":\"looseCRe2e0\", \"CR6\":\"looseCRe2e2\", \"CR5\":\"looseCRe3e1\" }"
   ]
  },
  {
   "cell_type": "code",
   "execution_count": 4,
   "metadata": {},
   "outputs": [
    {
     "name": "stdout",
     "output_type": "stream",
     "text": [
      "\\hline\n",
      "Control Regions & ZJetsSF 2017 \\\\\n",
      "\\hline\n",
      "AR & $ 1.166 \\substack{ -0.002 \\\\ + 0.003 }$ \\\\\n",
      "CR123 & $ 1.166 \\substack{ -0.002 \\\\ + 0.003 }$ \\\\\n",
      "CR1 & $ 1.165 \\substack{ -0.003 \\\\ + 0.003 }$ \\\\\n",
      "CR2 & $ 1.174 \\substack{ -0.006 \\\\ + 0.006 }$ \\\\\n",
      "CR3 & $ 1.158 \\substack{ -0.011 \\\\ + 0.011 }$ \\\\\n",
      "CR4 & $ 1.173 \\substack{ -0.01 \\\\ + 0.01 }$ \\\\\n",
      "CR5 & $ 1.27 \\substack{ -0.019 \\\\ + 0.019 }$ \\\\\n",
      "CR6 & $ 1.042 \\substack{ -0.027 \\\\ + 0.028 }$ \\\\\n",
      "CR7 & $ 1.075 \\substack{ -0.04 \\\\ + 0.042 }$ \\\\\n",
      "SR8 & $ 1.292 \\substack{ -0.028 \\\\ + 0.029 }$ \\\\\n"
     ]
    }
   ],
   "source": [
    "print \"\\\\hline\"\n",
    "print \"Control Regions & ZJetsSF 2017 \\\\\\\\\"\n",
    "print \"\\\\hline\"\n",
    "for ifile in ListOfFiles:\n",
    "    itree = uproot.open(ifile)[\"tree_fit_sb\"]\n",
    "    print ifile[14:-10],\"&\",\"$\",round(itree.array(\"r\"),3),\"\\substack{\" ,-round(itree.array(\"rLoErr\"),3),\"\\\\\\\\\", \"+\",round(itree.array(\"rHiErr\"),3),\"}$ \\\\\\\\\""
   ]
  },
  {
   "cell_type": "code",
   "execution_count": 5,
   "metadata": {},
   "outputs": [
    {
     "name": "stdout",
     "output_type": "stream",
     "text": [
      "/uscms_data/d3/npoudyal/TTGammaSemiLeptonic13TeV/CMSSW_10_2_14/src/HiggsAnalysis/CombinedLimit/ttgammaCombineFitting/Datacard_ZJets_2017\n",
      "AR looseCRge2ge0 ZJetSF= 1.166 ;\n",
      "CR123 looseCRge2e0 ZJetSF= 1.166 ;\n",
      "CR1 looseCRe2e0 ZJetSF= 1.165 ;\n",
      "CR2 looseCRe3e0 ZJetSF= 1.174 ;\n",
      "CR3 looseCRge4e0 ZJetSF= 1.158 ;\n",
      "CR4 looseCRe2e1 ZJetSF= 1.173 ;\n",
      "CR5 looseCRe3e1 ZJetSF= 1.27 ;\n",
      "CR6 looseCRe2e2 ZJetSF= 1.042 ;\n",
      "CR7 looseCRe3ge2 ZJetSF= 1.075 ;\n",
      "SR8 tight ZJetSF= 1.292 ;\n",
      "[1.166, 1.166, 1.165, 1.174, 1.158, 1.173, 1.27, 1.042, 1.075, 1.292]\n"
     ]
    }
   ],
   "source": [
    "!pwd\n",
    "myArray = []\n",
    "for ifile in ListOfFiles:\n",
    "    itree = uproot.open(ifile)[\"tree_fit_sb\"]\n",
    "    print ifile[14:-10],controlRegionDict[ifile[14:-10]],\"ZJetSF=\",round(itree.array(\"r\"),3),\";\"\n",
    "    myArray.append(round(itree.array(\"r\"),3))\n",
    "print myArray"
   ]
  },
  {
   "cell_type": "code",
   "execution_count": null,
   "metadata": {},
   "outputs": [],
   "source": []
  }
 ],
 "metadata": {
  "kernelspec": {
   "display_name": "Python 2",
   "language": "python",
   "name": "python2"
  },
  "language_info": {
   "codemirror_mode": {
    "name": "ipython",
    "version": 2
   },
   "file_extension": ".py",
   "mimetype": "text/x-python",
   "name": "python",
   "nbconvert_exporter": "python",
   "pygments_lexer": "ipython2",
   "version": "2.7.14+"
  }
 },
 "nbformat": 4,
 "nbformat_minor": 2
}
