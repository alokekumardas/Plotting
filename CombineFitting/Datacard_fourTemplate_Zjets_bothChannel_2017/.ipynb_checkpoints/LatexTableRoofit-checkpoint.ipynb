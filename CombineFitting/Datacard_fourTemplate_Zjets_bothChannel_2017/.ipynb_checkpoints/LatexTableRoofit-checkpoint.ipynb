{
 "cells": [
  {
   "cell_type": "code",
   "execution_count": null,
   "metadata": {},
   "outputs": [],
   "source": [
    "import ROOT"
   ]
  },
  {
   "cell_type": "code",
   "execution_count": null,
   "metadata": {},
   "outputs": [],
   "source": [
    "ListOfFiles = [\"fitDiagnosticsCR123.root\", \"fitDiagnosticsCR1.root\",  \"fitDiagnosticsCR2.root\", \"fitDiagnosticsCR3.root\",\n",
    "\t\t\t   \"fitDiagnosticsCR4.root\"]"
   ]
  },
  {
   "cell_type": "code",
   "execution_count": null,
   "metadata": {},
   "outputs": [],
   "source": [
    "controlRegionDict ={\"SR8\":\"tight\", \"CR123\":\"looseCRge2e0\", \"AR\":\"looseCRge2ge0\", \"CR7\":\"looseCRe3ge2\", \"CR3\":\"looseCRge4e0\", \"CR2\":\"looseCRe3e0\", \n",
    "\t\t\t\t   \"CR4\":\"looseCRe2e1\", \"CR1\":\"looseCRe2e0\", \"CR6\":\"looseCRe2e2\", \"CR5\":\"looseCRe3e1\" }"
   ]
  },
  {
   "cell_type": "code",
   "execution_count": null,
   "metadata": {},
   "outputs": [],
   "source": [
    "print \"\\\\hline\"\n",
    "print \"Control Regions &  2016 \\\\\\\\\"\n",
    "print \"\\\\hline\"\n",
    "for ifile in ListOfFiles:\n",
    "    myfile = ROOT.TFile(ifile,\"read\")\n",
    "    if myfile.GetListOfKeys().Contains(\"fit_s\") is False:\n",
    "        print ifile, \"Fit failed.\"\n",
    "        continue\n",
    "    fit_s = myfile.Get(\"fit_s\")\n",
    "\n",
    "    print ifile[14:-5], round(fit_s.floatParsFinal().find(\"r\").getVal(),3), round(fit_s.floatParsFinal().find(\"r\").getErrorLo(),3), round(fit_s.floatParsFinal().find(\"r\").getErrorHi(),3)\n",
    "    print ifile[14:-5], round(fit_s.floatParsFinal().find(\"ZGammaBkgPhotonSF\").getVal(),3), round(fit_s.floatParsFinal().find(\"ZGammaBkgPhotonSF\").getErrorLo(),3), round(fit_s.floatParsFinal().find(\"r\").getErrorHi(),3)\n",
    "    print ifile[14:-5], round(fit_s.floatParsFinal().find(\"WGammaBkgPhotonSF\").getVal(),3), round(fit_s.floatParsFinal().find(\"WGammaBkgPhotonSF\").getErrorLo(),3), round(fit_s.floatParsFinal().find(\"r\").getErrorHi(),3)\n",
    "    print \"------------------------------\"\n",
    "    del myfile"
   ]
  },
  {
   "cell_type": "code",
   "execution_count": null,
   "metadata": {},
   "outputs": [],
   "source": [
    "for ifile in ListOfFiles:\n",
    "    myfile = ROOT.TFile(ifile,\"read\")\n",
    "    if myfile.GetListOfKeys().Contains(\"fit_s\") is False:\n",
    "        print ifile, \"Fit failed.\"\n",
    "        continue\n",
    "    fit_s = myfile.Get(\"fit_s\")\n",
    "    print ifile[14:-5], round(fit_s.floatParsFinal().find(\"r\").getVal(),3), round(fit_s.floatParsFinal().find(\"r\").getErrorLo(),3), round(fit_s.floatParsFinal().find(\"r\").getErrorHi(),3)\n",
    "    print fit_s.floatParsFinal().find(\"ZGammaBkgPhotonSF\").getVal(), fit_s.floatParsFinal().find(\"ZGammaBkgPhotonSF\").getError()\n",
    "    print fit_s.floatParsFinal().find(\"WGammaBkgPhotonSF\").getVal(), fit_s.floatParsFinal().find(\"WGammaBkgPhotonSF\").getError()\n",
    "    print \"------------------------------\"\n",
    "    del myfile"
   ]
  },
  {
   "cell_type": "code",
   "execution_count": null,
   "metadata": {},
   "outputs": [],
   "source": []
  }
 ],
 "metadata": {
  "kernelspec": {
   "display_name": "Python 2",
   "language": "python",
   "name": "python2"
  },
  "language_info": {
   "codemirror_mode": {
    "name": "ipython",
    "version": 2
   },
   "file_extension": ".py",
   "mimetype": "text/x-python",
   "name": "python",
   "nbconvert_exporter": "python",
   "pygments_lexer": "ipython2",
   "version": "2.7.14+"
  }
 },
 "nbformat": 4,
 "nbformat_minor": 2
}
