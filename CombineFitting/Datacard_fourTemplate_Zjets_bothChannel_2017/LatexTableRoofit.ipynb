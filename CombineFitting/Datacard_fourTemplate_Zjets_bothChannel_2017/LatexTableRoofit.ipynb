{
 "cells": [
  {
   "cell_type": "code",
   "execution_count": 11,
   "metadata": {},
   "outputs": [
    {
     "name": "stdout",
     "output_type": "stream",
     "text": [
      "/uscms_data/d3/npoudyal/TTGammaSemiLeptonic13TeV/CMSSW_10_2_14/src/HiggsAnalysis/CombinedLimit/ttgammaCombineFitting/Datacard_fourTemplate_Zjets_bothChannel_2017\r\n"
     ]
    }
   ],
   "source": [
    "import ROOT\n",
    "!pwd"
   ]
  },
  {
   "cell_type": "code",
   "execution_count": 2,
   "metadata": {},
   "outputs": [],
   "source": [
    "ListOfFiles = [\"fitDiagnosticsCR123.root\", \"fitDiagnosticsCR1.root\",  \"fitDiagnosticsCR2.root\", \"fitDiagnosticsCR3.root\",\n",
    "\t\t\t   \"fitDiagnosticsCR4.root\"]"
   ]
  },
  {
   "cell_type": "code",
   "execution_count": 3,
   "metadata": {},
   "outputs": [],
   "source": [
    "controlRegionDict ={\"SR8\":\"tight\", \"CR123\":\"looseCRge2e0\", \"AR\":\"looseCRge2ge0\", \"CR7\":\"looseCRe3ge2\", \"CR3\":\"looseCRge4e0\", \"CR2\":\"looseCRe3e0\", \n",
    "\t\t\t\t   \"CR4\":\"looseCRe2e1\", \"CR1\":\"looseCRe2e0\", \"CR6\":\"looseCRe2e2\", \"CR5\":\"looseCRe3e1\" }"
   ]
  },
  {
   "cell_type": "code",
   "execution_count": 10,
   "metadata": {},
   "outputs": [
    {
     "name": "stdout",
     "output_type": "stream",
     "text": [
      "/uscms_data/d3/npoudyal/TTGammaSemiLeptonic13TeV/CMSSW_10_2_14/src/HiggsAnalysis/CombinedLimit/ttgammaCombineFitting/Datacard_fourTemplate_Zjets_bothChannel_2017\n",
      "\\begin{tabular}{|l||l|l|l|} \n",
      "\\hline\n",
      "Control Regions & MisIDEleSF & ZGammaSF & WGammaSF \\\\  \n",
      "\\hline\n",
      "CR123 & $ 2.566 \\substack{ -0.07 \\\\ + 0.073 }$ & $ 0.598 \\substack{ -0.052 \\\\ + 0.073 }$ & $ 1.075 \\substack{ -0.054 \\\\ + 0.073 }$ \\\\\n",
      "CR1 & $ 2.517 \\substack{ -0.076 \\\\ + 0.08 }$ & $ 0.546 \\substack{ -0.054 \\\\ + 0.08 }$ & $ 1.15 \\substack{ -0.062 \\\\ + 0.08 }$ \\\\\n",
      "CR2 & $ 2.735 \\substack{ -0.173 \\\\ + 0.191 }$ & $ 0.663 \\substack{ -0.131 \\\\ + 0.191 }$ & $ 1.103 \\substack{ -0.109 \\\\ + 0.191 }$ \\\\\n",
      "CR3 & $ 3.019 \\substack{ -0.35 \\\\ + 0.424 }$ & $ 2.88 \\substack{ -0.354 \\\\ + 0.424 }$ & $ 0.408 \\substack{ -0.123 \\\\ + 0.424 }$ \\\\\n",
      "CR4 & $ 3.276 \\substack{ -0.297 \\\\ + 0.331 }$ & $ 1.008 \\substack{ -0.36 \\\\ + 0.331 }$ & $ -4.898 \\substack{ -1.518 \\\\ + 0.331 }$ \\\\\n",
      "\\hline\n",
      "\\end{tabular}\n"
     ]
    }
   ],
   "source": [
    "!pwd\n",
    "print \"\\\\begin{tabular}{|l||l|l|l|} \"\n",
    "print \"\\\\hline\"\n",
    "print \"Control Regions & MisIDEleSF & ZGammaSF & WGammaSF \\\\\\\\  \"\n",
    "print \"\\\\hline\"\n",
    "for ifile in ListOfFiles:\n",
    "    myfile = ROOT.TFile(ifile,\"read\")\n",
    "    if myfile.GetListOfKeys().Contains(\"fit_s\") is False:\n",
    "        print ifile[14:-5], \": Fit failed.\"\n",
    "        continue\n",
    "    fit_s = myfile.Get(\"fit_s\")\n",
    "\n",
    "    print ifile[14:-5], \"&\",\"$\", \\\n",
    "      round(fit_s.floatParsFinal().find(\"r\").getVal(),3), \"\\substack{\" ,round(fit_s.floatParsFinal().find(\"r\").getErrorLo(),3),\"\\\\\\\\\", \"+\",round(fit_s.floatParsFinal().find(\"r\").getErrorHi(),3),\"}$ &\", \"$\", \\\n",
    "      round(fit_s.floatParsFinal().find(\"ZGammaBkgPhotonSF\").getVal(),3), \"\\substack{\" ,round(fit_s.floatParsFinal().find(\"ZGammaBkgPhotonSF\").getErrorLo(),3),\"\\\\\\\\\", \"+\", round(fit_s.floatParsFinal().find(\"r\").getErrorHi(),3), \"}$ &\", \"$\",\\\n",
    "      round(fit_s.floatParsFinal().find(\"WGammaBkgPhotonSF\").getVal(),3), \"\\substack{\" ,round(fit_s.floatParsFinal().find(\"WGammaBkgPhotonSF\").getErrorLo(),3),\"\\\\\\\\\", \"+\", round(fit_s.floatParsFinal().find(\"r\").getErrorHi(),3),\"}$ \\\\\\\\\"\n",
    "    del myfile\n",
    "print \"\\\\hline\"\n",
    "print \"\\end{tabular}\""
   ]
  },
  {
   "cell_type": "code",
   "execution_count": 9,
   "metadata": {},
   "outputs": [
    {
     "name": "stdout",
     "output_type": "stream",
     "text": [
      "/uscms_data/d3/npoudyal/TTGammaSemiLeptonic13TeV/CMSSW_10_2_14/src/HiggsAnalysis/CombinedLimit/ttgammaCombineFitting/Datacard_fourTemplate_Zjets_bothChannel_2017\n",
      "CR123\n",
      "(2.566, 0.598, 1.075)\n",
      "CR1\n",
      "(2.517, 0.546, 1.15)\n",
      "CR2\n",
      "(2.735, 0.663, 1.103)\n",
      "CR3\n",
      "(3.019, 2.88, 0.408)\n",
      "CR4\n",
      "(3.276, 1.008, -4.898)\n",
      "[(2.566, 0.598, 1.075), (2.517, 0.546, 1.15), (2.735, 0.663, 1.103), (3.019, 2.88, 0.408), (3.276, 1.008, -4.898)]\n"
     ]
    }
   ],
   "source": [
    "!pwd\n",
    "myArray=[]\n",
    "myTuple = ()\n",
    "for ifile in ListOfFiles:\n",
    "    myfile = ROOT.TFile(ifile,\"read\")\n",
    "    if myfile.GetListOfKeys().Contains(\"fit_s\") is False:\n",
    "        print ifile[14:-5], \": Fit failed.\"\n",
    "        continue\n",
    "    fit_s = myfile.Get(\"fit_s\")\n",
    "    print ifile[14:-5]\n",
    "    print (\n",
    "    round(fit_s.floatParsFinal().find(\"r\").getVal(),3),\n",
    "    round(fit_s.floatParsFinal().find(\"ZGammaBkgPhotonSF\").getVal(),3),\n",
    "    round(fit_s.floatParsFinal().find(\"WGammaBkgPhotonSF\").getVal(),3))\n",
    "    myTuple = ( round(fit_s.floatParsFinal().find(\"r\").getVal(),3), round(fit_s.floatParsFinal().find(\"ZGammaBkgPhotonSF\").getVal(),3), round(fit_s.floatParsFinal().find(\"WGammaBkgPhotonSF\").getVal(),3))\n",
    "    myArray.append(myTuple)\n",
    "    del myfile\n",
    "# x , y, z = myArray[0]\n",
    "# print x, y, z\n",
    "print myArray"
   ]
  },
  {
   "cell_type": "code",
   "execution_count": null,
   "metadata": {},
   "outputs": [],
   "source": []
  }
 ],
 "metadata": {
  "kernelspec": {
   "display_name": "Python 2",
   "language": "python",
   "name": "python2"
  },
  "language_info": {
   "codemirror_mode": {
    "name": "ipython",
    "version": 2
   },
   "file_extension": ".py",
   "mimetype": "text/x-python",
   "name": "python",
   "nbconvert_exporter": "python",
   "pygments_lexer": "ipython2",
   "version": "2.7.14+"
  }
 },
 "nbformat": 4,
 "nbformat_minor": 2
}
