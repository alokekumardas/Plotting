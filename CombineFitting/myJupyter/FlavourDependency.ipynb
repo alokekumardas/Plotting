{
 "cells": [
  {
   "cell_type": "code",
   "execution_count": null,
   "metadata": {},
   "outputs": [],
   "source": [
    "import numpy, sys\n",
    "import uproot\n",
    "import matplotlib.pyplot as plt\n",
    "from scipy.signal import find_peaks_cwt"
   ]
  },
  {
   "cell_type": "code",
   "execution_count": 31,
   "metadata": {},
   "outputs": [],
   "source": [
    "fileName = '/uscms_data/d3/npoudyal/TTGammaSemiLeptonic13TeV/CMSSW_10_2_14/src/Danny_TTGammaSemiLep_13TeV/TTGammaSemiLep_13TeV/WGamma_01J_5f_2016_AnalysisNtuple.root'\n",
    "mytree = uproot.open(fileName)['AnalysisTree']\n",
    "# mytree.show()\n",
    "# mytree.name, mytree.numentries\n"
   ]
  },
  {
   "cell_type": "code",
   "execution_count": null,
   "metadata": {},
   "outputs": [],
   "source": [
    "# myHF  = numpy.array(mytree.array('jetHadronFlavour'))\n",
    "# plt.hist(myHF,bins=10,range=(0,10))\n",
    "# plt.show()"
   ]
  },
  {
   "cell_type": "code",
   "execution_count": 49,
   "metadata": {},
   "outputs": [
    {
     "name": "stdout",
     "output_type": "stream",
     "text": [
      "0\n"
     ]
    }
   ],
   "source": [
    "lepCut    = (mytree.array('nEle')==1) # gives T or F #ok\n",
    "jetCut    = (mytree.array('nJet')==2) & lepCut #ok\n",
    "phoCut    = (mytree.array('nPho')==1) & jetCut #ok\n",
    "flaJetCut = (mytree.array('jetHadronFlavour')==0) & phoCut\n",
    "NJet = mytree.array('nJet')[flaJetCut]\n",
    "\n",
    "print len(NJet)\n",
    "# lightJet = mytree.array('jetHadronFl?avour')[lightJetCut]\n",
    "# print lightJet\n",
    "# pfMet  = numpy.array(mytree.array('pfMET')[bjetCut])\n",
    "# print (pfMet.size, '',numpy.mean(pfMet))\n",
    "# plt.hist(pfMet,bins=100,range=(0,500))\n",
    "# plt.yscale('log')\n",
    "# plt.show()\n"
   ]
  },
  {
   "cell_type": "code",
   "execution_count": null,
   "metadata": {},
   "outputs": [],
   "source": []
  },
  {
   "cell_type": "code",
   "execution_count": null,
   "metadata": {},
   "outputs": [],
   "source": []
  }
 ],
 "metadata": {
  "kernelspec": {
   "display_name": "Python 2",
   "language": "python",
   "name": "python2"
  },
  "language_info": {
   "codemirror_mode": {
    "name": "ipython",
    "version": 2
   },
   "file_extension": ".py",
   "mimetype": "text/x-python",
   "name": "python",
   "nbconvert_exporter": "python",
   "pygments_lexer": "ipython2",
   "version": "2.7.14+"
  }
 },
 "nbformat": 4,
 "nbformat_minor": 2
}
