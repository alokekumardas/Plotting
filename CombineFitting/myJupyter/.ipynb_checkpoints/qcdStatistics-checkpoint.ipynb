{
 "cells": [
  {
   "cell_type": "code",
   "execution_count": 1,
   "metadata": {},
   "outputs": [
    {
     "name": "stdout",
     "output_type": "stream",
     "text": [
      "Welcome to JupyROOT 6.16/00\n"
     ]
    }
   ],
   "source": [
    "import pyxrootd\n",
    "import numpy as np\n",
    "import ROOT"
   ]
  },
  {
   "cell_type": "code",
   "execution_count": 2,
   "metadata": {},
   "outputs": [],
   "source": [
    "qcdEle_16=[ \n",
    "            '/store/user/aldas/NanoAOD/TTGamma_16/13TeV_skims/electrons/QCD_Pt20to30_Ele_skim.root',\n",
    "            '/store/user/aldas/NanoAOD/TTGamma_16/13TeV_skims/electrons/QCD_Pt30to50_Ele_skim.root',\n",
    "            '/store/user/aldas/NanoAOD/TTGamma_16/13TeV_skims/electrons/QCD_Pt50to80_Ele_skim.root',\n",
    "            '/store/user/aldas/NanoAOD/TTGamma_16/13TeV_skims/electrons/QCD_Pt80to120_Ele_skim.root',\n",
    "            '/store/user/aldas/NanoAOD/TTGamma_16/13TeV_skims/electrons/QCD_Pt120to170_Ele_skim.root',\n",
    "            '/store/user/aldas/NanoAOD/TTGamma_16/13TeV_skims/electrons/QCD_Pt170to300_Ele_skim.root',\n",
    "            '/store/user/aldas/NanoAOD/TTGamma_16/13TeV_skims/electrons/QCD_Pt300toInf_Ele_skim.root'\n",
    "]\n",
    "\n",
    "qcdMu_16=[  \n",
    "            '/store/user/aldas/NanoAOD/TTGamma_16/13TeV_skims/muons/QCD_Pt20to30_Mu_skim.root',\n",
    "            '/store/user/aldas/NanoAOD/TTGamma_16/13TeV_skims/muons/QCD_Pt30to50_Mu_skim.root',\n",
    "            '/store/user/aldas/NanoAOD/TTGamma_16/13TeV_skims/muons/QCD_Pt50to80_Mu_skim.root',\n",
    "            '/store/user/aldas/NanoAOD/TTGamma_16/13TeV_skims/muons/QCD_Pt80to120_Mu_skim.root',\n",
    "            '/store/user/aldas/NanoAOD/TTGamma_16/13TeV_skims/muons/QCD_Pt120to170_Mu_skim.root',\n",
    "            '/store/user/aldas/NanoAOD/TTGamma_16/13TeV_skims/muons/QCD_Pt170to300_Mu_skim.root',\n",
    "            '/store/user/aldas/NanoAOD/TTGamma_16/13TeV_skims/muons/QCD_Pt300to470_Mu_skim.root',\n",
    "            '/store/user/aldas/NanoAOD/TTGamma_16/13TeV_skims/muons/QCD_Pt470to600_Mu_skim.root',\n",
    "            '/store/user/aldas/NanoAOD/TTGamma_16/13TeV_skims/muons/QCD_Pt600to800_Mu_skim.root',\n",
    "            '/store/user/aldas/NanoAOD/TTGamma_16/13TeV_skims/muons/QCD_Pt800to1000_Mu_skim.root',\n",
    "            '/store/user/aldas/NanoAOD/TTGamma_16/13TeV_skims/muons/QCD_Pt1000toInf_Mu_skim.root']\n"
   ]
  },
  {
   "cell_type": "code",
   "execution_count": 3,
   "metadata": {},
   "outputs": [],
   "source": [
    "qcdEle_17=[ \n",
    "            '/store/user/aldas/NanoAOD/TTGamma_17/13TeV_skims/electrons/QCD_Pt20to30_Ele_skim.root',\n",
    "            '/store/user/aldas/NanoAOD/TTGamma_17/13TeV_skims/electrons/QCD_Pt30to50_Ele_skim.root',\n",
    "            '/store/user/aldas/NanoAOD/TTGamma_17/13TeV_skims/electrons/QCD_Pt50to80_Ele_skim.root',\n",
    "            '/store/user/aldas/NanoAOD/TTGamma_17/13TeV_skims/electrons/QCD_Pt80to120_Ele_skim.root',\n",
    "            '/store/user/aldas/NanoAOD/TTGamma_17/13TeV_skims/electrons/QCD_Pt120to170_Ele_skim.root',\n",
    "            '/store/user/aldas/NanoAOD/TTGamma_17/13TeV_skims/electrons/QCD_Pt170to300_Ele_skim.root',\n",
    "            '/store/user/aldas/NanoAOD/TTGamma_17/13TeV_skims/electrons/QCD_Pt300toInf_Ele_skim.root']\n",
    "\n",
    "\n",
    "qcdMu_17=[  \n",
    "            '/store/user/aldas/NanoAOD/TTGamma_17/13TeV_skims/muons/QCD_Pt20to30_Mu_skim.root',\n",
    "            '/store/user/aldas/NanoAOD/TTGamma_17/13TeV_skims/muons/QCD_Pt30to50_Mu_skim.root',\n",
    "            '/store/user/aldas/NanoAOD/TTGamma_17/13TeV_skims/muons/QCD_Pt50to80_Mu_skim.root',\n",
    "            '/store/user/aldas/NanoAOD/TTGamma_17/13TeV_skims/muons/QCD_Pt80to120_Mu_skim.root',\n",
    "            '/store/user/aldas/NanoAOD/TTGamma_17/13TeV_skims/muons/QCD_Pt120to170_Mu_skim.root',\n",
    "            '/store/user/aldas/NanoAOD/TTGamma_17/13TeV_skims/muons/QCD_Pt170to300_Mu_skim.root',\n",
    "            '/store/user/aldas/NanoAOD/TTGamma_17/13TeV_skims/muons/QCD_Pt300to470_Mu_skim.root',\n",
    "            '/store/user/aldas/NanoAOD/TTGamma_17/13TeV_skims/muons/QCD_Pt470to600_Mu_skim.root',\n",
    "            '/store/user/aldas/NanoAOD/TTGamma_17/13TeV_skims/muons/QCD_Pt600to800_Mu_skim.root',\n",
    "            '/store/user/aldas/NanoAOD/TTGamma_17/13TeV_skims/muons/QCD_Pt800to1000_Mu_skim.root',\n",
    "            '/store/user/aldas/NanoAOD/TTGamma_17/13TeV_skims/muons/QCD_Pt1000toInf_Mu_skim.root']\n",
    "\n"
   ]
  },
  {
   "cell_type": "code",
   "execution_count": 4,
   "metadata": {},
   "outputs": [],
   "source": [
    "qcdEle_18=[ \n",
    "            '/store/user/aldas/NanoAOD/TTGamma_18/13TeV_skims/electrons/QCD_Pt20to30_Ele_skim.root',\n",
    "            '/store/user/aldas/NanoAOD/TTGamma_18/13TeV_skims/electrons/QCD_Pt30to50_Ele_skim.root',\n",
    "            '/store/user/aldas/NanoAOD/TTGamma_18/13TeV_skims/electrons/QCD_Pt50to80_Ele_skim.root',\n",
    "            '/store/user/aldas/NanoAOD/TTGamma_18/13TeV_skims/electrons/QCD_Pt80to120_Ele_skim.root',\n",
    "            '/store/user/aldas/NanoAOD/TTGamma_18/13TeV_skims/electrons/QCD_Pt120to170_Ele_skim.root',\n",
    "            '/store/user/aldas/NanoAOD/TTGamma_18/13TeV_skims/electrons/QCD_Pt170to300_Ele_skim.root',\n",
    "            '/store/user/aldas/NanoAOD/TTGamma_18/13TeV_skims/electrons/QCD_Pt300toInf_Ele_skim.root'\n",
    "]\n",
    "\n",
    "qcdMu_18=[  \n",
    "            '/store/user/aldas/NanoAOD/TTGamma_18/13TeV_skims/muons/QCD_Pt20to30_Mu_skim.root',\n",
    "            '/store/user/aldas/NanoAOD/TTGamma_18/13TeV_skims/muons/QCD_Pt30to50_Mu_skim.root',\n",
    "            '/store/user/aldas/NanoAOD/TTGamma_18/13TeV_skims/muons/QCD_Pt50to80_Mu_skim.root',\n",
    "            '/store/user/aldas/NanoAOD/TTGamma_18/13TeV_skims/muons/QCD_Pt80to120_Mu_skim.root',\n",
    "            '/store/user/aldas/NanoAOD/TTGamma_18/13TeV_skims/muons/QCD_Pt120to170_Mu_skim.root',\n",
    "            '/store/user/aldas/NanoAOD/TTGamma_18/13TeV_skims/muons/QCD_Pt170to300_Mu_skim.root',\n",
    "            '/store/user/aldas/NanoAOD/TTGamma_18/13TeV_skims/muons/QCD_Pt300to470_Mu_skim.root',\n",
    "            '/store/user/aldas/NanoAOD/TTGamma_18/13TeV_skims/muons/QCD_Pt470to600_Mu_skim.root',\n",
    "            '/store/user/aldas/NanoAOD/TTGamma_18/13TeV_skims/muons/QCD_Pt600to800_Mu_skim.root',\n",
    "            '/store/user/aldas/NanoAOD/TTGamma_18/13TeV_skims/muons/QCD_Pt800to1000_Mu_skim.root',\n",
    "            '/store/user/aldas/NanoAOD/TTGamma_18/13TeV_skims/muons/QCD_Pt1000toInf_Mu_skim.root']\n"
   ]
  },
  {
   "cell_type": "code",
   "execution_count": 6,
   "metadata": {},
   "outputs": [
    {
     "name": "stdout",
     "output_type": "stream",
     "text": [
      "# of Events:   9241500 \t skim 2016 QCD_Pt20to30_Ele\n",
      "# of Events:   6772399 \t skim 2016 QCD_Pt30to50_Ele\n",
      "# of Events:   2474085 \t skim 2016 QCD_Pt50to80_Ele\n",
      "# of Events:   13573593 \t skim 2016 QCD_Pt80to120_Ele\n",
      "# of Events:   13650888 \t skim 2016 QCD_Pt120to170_Ele\n",
      "# of Events:   11540163 \t skim 2016 QCD_Pt170to300_Ele\n",
      "# of Events:   7380341 \t skim 2016 QCD_Pt300toInf_Ele\n",
      "# of Events:   31878740 \t skim 2016 Pt20to30_Mu\n",
      "# of Events:   29936360 \t skim 2016 Pt30to50_Mu\n",
      "# of Events:   19662175 \t skim 2016 Pt50to80_Mu\n",
      "# of Events:   13876823 \t skim 2016 Pt80to120_Mu\n",
      "# of Events:   7897731 \t skim 2016 Pt120to170_Mu\n",
      "# of Events:   7947159 \t skim 2016 Pt170to300_Mu\n",
      "# of Events:   7937590 \t skim 2016 Pt300to470_Mu\n",
      "# of Events:   3972819 \t skim 2016 Pt470to600_Mu\n",
      "# of Events:   4010136 \t skim 2016 Pt600to800_Mu\n",
      "# of Events:   3962749 \t skim 2016 Pt800to1000_Mu\n",
      "# of Events:   3970801 \t skim 2016 Pt1000toInf_Mu\n"
     ]
    }
   ],
   "source": [
    "allSkimList = qcdEle_16 + qcdMu_16 \n",
    "for f in allSkimList:\n",
    "    fileName = '/eos/uscms/'+ f\n",
    "    myfile = ROOT.TFile(fileName,'read')\n",
    "    if myfile.IsZombie(): \n",
    "        print (\"corrupted file:\", \"skim\",'20'+f[34:36]+''+f[59:-10])\n",
    "        continue\n",
    "    myhist = myfile.Get(\"hEvents\")\n",
    "    if myhist == None:\n",
    "        print (\"corrupted file:\", \"         skim\",'20'+f[34:36]+''+f[59:-10])\n",
    "        continue\n",
    "    print (\"# of Events:  \",int(myhist.Integral(-1,-1)), \"\\t\", \"skim\",'20'+f[34:36]+' '+f[59:-10] )\n",
    "    myfile.Close()\n",
    "\n",
    "    "
   ]
  },
  {
   "cell_type": "code",
   "execution_count": null,
   "metadata": {},
   "outputs": [],
   "source": [
    "allNtupleList = ['/store/user/aldas/NanoAOD/TTGamma_16/13TeV_AnalysisNtuples/electrons/QCD_Pt20to30_Ele_2016_AnalysisNtuple.root',\n",
    "            '/store/user/aldas/NanoAOD/TTGamma_16/13TeV_AnalysisNtuples/electrons/QCD_Pt30to50_Ele_2016_AnalysisNtuple.root',\n",
    "            '/store/user/aldas/NanoAOD/TTGamma_16/13TeV_AnalysisNtuples/electrons/QCD_Pt50to80_Ele_2016_AnalysisNtuple.root',\n",
    "            '/store/user/aldas/NanoAOD/TTGamma_16/13TeV_AnalysisNtuples/electrons/QCD_Pt80to120_Ele_2016_AnalysisNtuple.root',\n",
    "            '/store/user/aldas/NanoAOD/TTGamma_16/13TeV_AnalysisNtuples/electrons/QCD_Pt120to170_Ele_2016_AnalysisNtuple.root',\n",
    "            '/store/user/aldas/NanoAOD/TTGamma_16/13TeV_AnalysisNtuples/electrons/QCD_Pt170to300_Ele_2016_AnalysisNtuple.root',\n",
    "            '/store/user/aldas/NanoAOD/TTGamma_16/13TeV_AnalysisNtuples/electrons/QCD_Pt300toInf_Ele_2016_AnalysisNtuple.root',\n",
    "            '/store/user/aldas/NanoAOD/TTGamma_16/13TeV_AnalysisNtuples/muons/QCD_Pt20to30_Mu_2016_AnalysisNtuple.root',\n",
    "            '/store/user/aldas/NanoAOD/TTGamma_16/13TeV_AnalysisNtuples/muons/QCD_Pt30to50_Mu_2016_AnalysisNtuple.root',\n",
    "            '/store/user/aldas/NanoAOD/TTGamma_16/13TeV_AnalysisNtuples/muons/QCD_Pt50to80_Mu_2016_AnalysisNtuple.root',\n",
    "            '/store/user/aldas/NanoAOD/TTGamma_16/13TeV_AnalysisNtuples/muons/QCD_Pt80to120_Mu_2016_AnalysisNtuple.root',\n",
    "            '/store/user/aldas/NanoAOD/TTGamma_16/13TeV_AnalysisNtuples/muons/QCD_Pt120to170_Mu_2016_AnalysisNtuple.root',\n",
    "            '/store/user/aldas/NanoAOD/TTGamma_16/13TeV_AnalysisNtuples/muons/QCD_Pt170to300_Mu_2016_AnalysisNtuple.root',\n",
    "            '/store/user/aldas/NanoAOD/TTGamma_16/13TeV_AnalysisNtuples/muons/QCD_Pt300to470_Mu_2016_AnalysisNtuple.root',\n",
    "            '/store/user/aldas/NanoAOD/TTGamma_16/13TeV_AnalysisNtuples/muons/QCD_Pt470to600_Mu_2016_AnalysisNtuple.root',\n",
    "            '/store/user/aldas/NanoAOD/TTGamma_16/13TeV_AnalysisNtuples/muons/QCD_Pt600to800_Mu_2016_AnalysisNtuple.root',\n",
    "            '/store/user/aldas/NanoAOD/TTGamma_16/13TeV_AnalysisNtuples/muons/QCD_Pt800to1000_Mu_2016_AnalysisNtuple.root',\n",
    "            '/store/user/aldas/NanoAOD/TTGamma_16/13TeV_AnalysisNtuples/muons/QCD_Pt1000toInf_Mu_2016_AnalysisNtuple.root',\n",
    "            '/store/user/aldas/NanoAOD/TTGamma_17/13TeV_AnalysisNtuples/electrons/QCD_Pt20to30_Ele_2017_AnalysisNtuple.root',\n",
    "            '/store/user/aldas/NanoAOD/TTGamma_17/13TeV_AnalysisNtuples/electrons/QCD_Pt30to50_Ele_2017_AnalysisNtuple.root',\n",
    "            '/store/user/aldas/NanoAOD/TTGamma_17/13TeV_AnalysisNtuples/electrons/QCD_Pt50to80_Ele_2017_AnalysisNtuple.root',\n",
    "            '/store/user/aldas/NanoAOD/TTGamma_17/13TeV_AnalysisNtuples/electrons/QCD_Pt80to120_Ele_2017_AnalysisNtuple.root',\n",
    "            '/store/user/aldas/NanoAOD/TTGamma_17/13TeV_AnalysisNtuples/electrons/QCD_Pt120to170_Ele_2017_AnalysisNtuple.root',\n",
    "            '/store/user/aldas/NanoAOD/TTGamma_17/13TeV_AnalysisNtuples/electrons/QCD_Pt170to300_Ele_2017_AnalysisNtuple.root',\n",
    "            '/store/user/aldas/NanoAOD/TTGamma_17/13TeV_AnalysisNtuples/electrons/QCD_Pt300toInf_Ele_2017_AnalysisNtuple.root',\n",
    "            '/store/user/aldas/NanoAOD/TTGamma_17/13TeV_AnalysisNtuples/muons/QCD_Pt20to30_Mu_2017_AnalysisNtuple.root',\n",
    "            '/store/user/aldas/NanoAOD/TTGamma_17/13TeV_AnalysisNtuples/muons/QCD_Pt30to50_Mu_2017_AnalysisNtuple.root',\n",
    "            '/store/user/aldas/NanoAOD/TTGamma_17/13TeV_AnalysisNtuples/muons/QCD_Pt50to80_Mu_2017_AnalysisNtuple.root',\n",
    "            '/store/user/aldas/NanoAOD/TTGamma_17/13TeV_AnalysisNtuples/muons/QCD_Pt80to120_Mu_2017_AnalysisNtuple.root',\n",
    "            '/store/user/aldas/NanoAOD/TTGamma_17/13TeV_AnalysisNtuples/muons/QCD_Pt120to170_Mu_2017_AnalysisNtuple.root',\n",
    "            '/store/user/aldas/NanoAOD/TTGamma_17/13TeV_AnalysisNtuples/muons/QCD_Pt170to300_Mu_2017_AnalysisNtuple.root',\n",
    "            '/store/user/aldas/NanoAOD/TTGamma_17/13TeV_AnalysisNtuples/muons/QCD_Pt300to470_Mu_2017_AnalysisNtuple.root',\n",
    "            '/store/user/aldas/NanoAOD/TTGamma_17/13TeV_AnalysisNtuples/muons/QCD_Pt470to600_Mu_2017_AnalysisNtuple.root',\n",
    "            '/store/user/aldas/NanoAOD/TTGamma_17/13TeV_AnalysisNtuples/muons/QCD_Pt600to800_Mu_2017_AnalysisNtuple.root',\n",
    "            '/store/user/aldas/NanoAOD/TTGamma_17/13TeV_AnalysisNtuples/muons/QCD_Pt800to1000_Mu_2017_AnalysisNtuple.root',\n",
    "            '/store/user/aldas/NanoAOD/TTGamma_17/13TeV_AnalysisNtuples/muons/QCD_Pt1000toInf_Mu_2017_AnalysisNtuple.root',\n",
    "            '/store/user/aldas/NanoAOD/TTGamma_18/13TeV_AnalysisNtuples/electrons/QCD_Pt20to30_Ele_2018_AnalysisNtuple.root',\n",
    "            '/store/user/aldas/NanoAOD/TTGamma_18/13TeV_AnalysisNtuples/electrons/QCD_Pt30to50_Ele_2018_AnalysisNtuple.root',\n",
    "            '/store/user/aldas/NanoAOD/TTGamma_18/13TeV_AnalysisNtuples/electrons/QCD_Pt50to80_Ele_2018_AnalysisNtuple.root',\n",
    "            '/store/user/aldas/NanoAOD/TTGamma_18/13TeV_AnalysisNtuples/electrons/QCD_Pt80to120_Ele_2018_AnalysisNtuple.root',\n",
    "            '/store/user/aldas/NanoAOD/TTGamma_18/13TeV_AnalysisNtuples/electrons/QCD_Pt120to170_Ele_2018_AnalysisNtuple.root',\n",
    "            '/store/user/aldas/NanoAOD/TTGamma_18/13TeV_AnalysisNtuples/electrons/QCD_Pt170to300_Ele_2018_AnalysisNtuple.root',\n",
    "            '/store/user/aldas/NanoAOD/TTGamma_18/13TeV_AnalysisNtuples/electrons/QCD_Pt300toInf_Ele_2018_AnalysisNtuple.root',\n",
    "            '/store/user/aldas/NanoAOD/TTGamma_18/13TeV_AnalysisNtuples/muons/QCD_Pt20to30_Mu_2018_AnalysisNtuple.root',\n",
    "            '/store/user/aldas/NanoAOD/TTGamma_18/13TeV_AnalysisNtuples/muons/QCD_Pt30to50_Mu_2018_AnalysisNtuple.root',\n",
    "            '/store/user/aldas/NanoAOD/TTGamma_18/13TeV_AnalysisNtuples/muons/QCD_Pt50to80_Mu_2018_AnalysisNtuple.root',\n",
    "            '/store/user/aldas/NanoAOD/TTGamma_18/13TeV_AnalysisNtuples/muons/QCD_Pt80to120_Mu_2018_AnalysisNtuple.root',\n",
    "            '/store/user/aldas/NanoAOD/TTGamma_18/13TeV_AnalysisNtuples/muons/QCD_Pt120to170_Mu_2018_AnalysisNtuple.root',\n",
    "            '/store/user/aldas/NanoAOD/TTGamma_18/13TeV_AnalysisNtuples/muons/QCD_Pt170to300_Mu_2018_AnalysisNtuple.root',\n",
    "            '/store/user/aldas/NanoAOD/TTGamma_18/13TeV_AnalysisNtuples/muons/QCD_Pt300to470_Mu_2018_AnalysisNtuple.root',\n",
    "            '/store/user/aldas/NanoAOD/TTGamma_18/13TeV_AnalysisNtuples/muons/QCD_Pt470to600_Mu_2018_AnalysisNtuple.root',\n",
    "            '/store/user/aldas/NanoAOD/TTGamma_18/13TeV_AnalysisNtuples/muons/QCD_Pt600to800_Mu_2018_AnalysisNtuple.root',\n",
    "            '/store/user/aldas/NanoAOD/TTGamma_18/13TeV_AnalysisNtuples/muons/QCD_Pt800to1000_Mu_2018_AnalysisNtuple.root',\n",
    "            '/store/user/aldas/NanoAOD/TTGamma_18/13TeV_AnalysisNtuples/muons/QCD_Pt1000toInf_Mu_2018_AnalysisNtuple.root']\n",
    "\n"
   ]
  },
  {
   "cell_type": "code",
   "execution_count": null,
   "metadata": {},
   "outputs": [],
   "source": []
  }
 ],
 "metadata": {
  "kernelspec": {
   "display_name": "Python 3",
   "language": "python",
   "name": "python3"
  },
  "language_info": {
   "codemirror_mode": {
    "name": "ipython",
    "version": 3
   },
   "file_extension": ".py",
   "mimetype": "text/x-python",
   "name": "python",
   "nbconvert_exporter": "python",
   "pygments_lexer": "ipython3",
   "version": "3.6.5"
  }
 },
 "nbformat": 4,
 "nbformat_minor": 2
}
