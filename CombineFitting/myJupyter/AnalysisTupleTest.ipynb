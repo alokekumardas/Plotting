{
 "cells": [
  {
   "cell_type": "code",
   "execution_count": 79,
   "metadata": {},
   "outputs": [],
   "source": [
    "import pyxrootd\n",
    "import numpy, sys\n",
    "import uproot\n",
    "import matplotlib.pyplot as plt\n",
    "from scipy.signal import find_peaks_cwt"
   ]
  },
  {
   "cell_type": "code",
   "execution_count": 87,
   "metadata": {},
   "outputs": [],
   "source": [
    "fileName = '/eos/uscms/store/user/aldas/NanoAOD/TTGamma_16/13TeV_AnalysisNtuples/electrons/W4jets_2016_AnalysisNtuple.root'\n",
    "mytree = uproot.open('root://cmseos.fnal.gov/'+ fileName)['AnalysisTree']\n",
    "# mytree.show()\n",
    "# mytree.name, mytree.numentries"
   ]
  },
  {
   "cell_type": "code",
   "execution_count": 88,
   "metadata": {},
   "outputs": [
    {
     "name": "stdout",
     "output_type": "stream",
     "text": [
      "199624  55.904957\n"
     ]
    },
    {
     "data": {
      "image/png": "[encoded data removed]",
      "text/plain": [
       "<Figure size 432x288 with 1 Axes>"
      ]
     },
     "metadata": {},
     "output_type": "display_data"
    }
   ],
   "source": [
    "lepCut  = (mytree.array('nEle')==1) # gives T or F\n",
    "jetCut  = (mytree.array('nJet')==2) & lepCut\n",
    "bjetCut = (mytree.array('nBJet')==0) & jetCut\n",
    "pfMet  = numpy.array(mytree.array('pfMET')[bjetCut])\n",
    "print (pfMet.size, '',numpy.mean(pfMet))\n",
    "plt.hist(pfMet,bins=100,range=(0,500))\n",
    "# plt.yscale('log')\n",
    "plt.show()\n"
   ]
  },
  {
   "cell_type": "code",
   "execution_count": null,
   "metadata": {},
   "outputs": [],
   "source": []
  },
  {
   "cell_type": "code",
   "execution_count": null,
   "metadata": {},
   "outputs": [],
   "source": []
  }
 ],
 "metadata": {
  "kernelspec": {
   "display_name": "Python 3",
   "language": "python",
   "name": "python3"
  },
  "language_info": {
   "codemirror_mode": {
    "name": "ipython",
    "version": 3
   },
   "file_extension": ".py",
   "mimetype": "text/x-python",
   "name": "python",
   "nbconvert_exporter": "python",
   "pygments_lexer": "ipython3",
   "version": "3.6.5"
  }
 },
 "nbformat": 4,
 "nbformat_minor": 2
}
