{
 "cells": [
  {
   "cell_type": "code",
   "execution_count": 29,
   "metadata": {},
   "outputs": [],
   "source": [
    "import uproot\n",
    "!pwd"
   ]
  },
  {
   "cell_type": "code",
   "execution_count": 60,
   "metadata": {},
   "outputs": [],
   "source": [
    "ListOfFiles = [\"fitDiagnosticsAR_both.root\", \"fitDiagnosticsCR123_both.root\", \"fitDiagnosticsCR1_both.root\",  \"fitDiagnosticsCR2_both.root\", \"fitDiagnosticsCR3_both.root\",\n",
    "\t\t\t   \"fitDiagnosticsCR4_both.root\", \"fitDiagnosticsCR5_both.root\", \"fitDiagnosticsCR6_both.root\", \"fitDiagnosticsCR7_both.root\",  \"fitDiagnosticsSR8_both.root\"]"
   ]
  },
  {
   "cell_type": "code",
   "execution_count": 67,
   "metadata": {},
   "outputs": [],
   "source": [
    "controlRegionDict ={\"SR8\":\"tight\", \"CR123\":\"looseCRge2e0\", \"AR\":\"looseCRge2ge0\", \"CR7\":\"looseCRe3ge2\", \"CR3\":\"looseCRge4e0\", \"CR2\":\"looseCRe3e0\", \n",
    "\t\t\t\t   \"CR4\":\"looseCRe2e1\", \"CR1\":\"looseCRe2e0\", \"CR6\":\"looseCRe2e2\", \"CR5\":\"looseCRe3e1\" }"
   ]
  },
  {
   "cell_type": "code",
   "execution_count": 64,
   "metadata": {},
   "outputs": [
    {
     "name": "stdout",
     "output_type": "stream",
     "text": [
      "\\hline\n",
      "Control Regions & ZJetsSF 2016 \\\\\n",
      "\\hline\n",
      "AR & $ 1.214 \\substack{ -0.003 \\\\ + 0.003 }$ \\\\\n",
      "CR123 & $ 1.214 \\substack{ -0.003 \\\\ + 0.003 }$ \\\\\n",
      "CR1 & $ 1.227 \\substack{ -0.003 \\\\ + 0.003 }$ \\\\\n",
      "CR2 & $ 1.253 \\substack{ -0.006 \\\\ + 0.006 }$ \\\\\n",
      "CR3 & $ 1.124 \\substack{ -0.01 \\\\ + 0.01 }$ \\\\\n",
      "CR4 & $ 1.236 \\substack{ -0.009 \\\\ + 0.009 }$ \\\\\n",
      "CR5 & $ 1.265 \\substack{ -0.017 \\\\ + 0.017 }$ \\\\\n",
      "CR6 & $ 1.252 \\substack{ -0.031 \\\\ + 0.032 }$ \\\\\n",
      "CR7 & $ 1.305 \\substack{ -0.046 \\\\ + 0.048 }$ \\\\\n",
      "SR8 & $ 1.221 \\substack{ -0.023 \\\\ + 0.023 }$ \\\\\n"
     ]
    }
   ],
   "source": [
    "print \"\\\\hline\"\n",
    "print \"Control Regions & ZJetsSF 2016 \\\\\\\\\"\n",
    "print \"\\\\hline\"\n",
    "for ifile in ListOfFiles:\n",
    "    itree = uproot.open(ifile)[\"tree_fit_sb\"]\n",
    "    print ifile[14:-10],\"&\",\"$\",round(itree.array(\"r\"),3),\"\\substack{\" ,-round(itree.array(\"rLoErr\"),3),\"\\\\\\\\\", \"+\",round(itree.array(\"rHiErr\"),3),\"}$ \\\\\\\\\""
   ]
  },
  {
   "cell_type": "code",
   "execution_count": 68,
   "metadata": {},
   "outputs": [
    {
     "name": "stdout",
     "output_type": "stream",
     "text": [
      "looseCRge2ge0 ZJetSF= 1.214 ;\n",
      "looseCRge2e0 ZJetSF= 1.214 ;\n",
      "looseCRe2e0 ZJetSF= 1.227 ;\n",
      "looseCRe3e0 ZJetSF= 1.253 ;\n",
      "looseCRge4e0 ZJetSF= 1.124 ;\n",
      "looseCRe2e1 ZJetSF= 1.236 ;\n",
      "looseCRe3e1 ZJetSF= 1.265 ;\n",
      "looseCRe2e2 ZJetSF= 1.252 ;\n",
      "looseCRe3ge2 ZJetSF= 1.305 ;\n",
      "tight ZJetSF= 1.221 ;\n"
     ]
    }
   ],
   "source": [
    "for ifile in ListOfFiles:\n",
    "    itree = uproot.open(ifile)[\"tree_fit_sb\"]\n",
    "    print controlRegionDict[ifile[14:-10]],\"ZJetSF=\",round(itree.array(\"r\"),3),\";\""
   ]
  },
  {
   "cell_type": "code",
   "execution_count": null,
   "metadata": {},
   "outputs": [],
   "source": []
  }
 ],
 "metadata": {
  "kernelspec": {
   "display_name": "Python 2",
   "language": "python",
   "name": "python2"
  },
  "language_info": {
   "codemirror_mode": {
    "name": "ipython",
    "version": 2
   },
   "file_extension": ".py",
   "mimetype": "text/x-python",
   "name": "python",
   "nbconvert_exporter": "python",
   "pygments_lexer": "ipython2",
   "version": "2.7.14+"
  }
 },
 "nbformat": 4,
 "nbformat_minor": 2
}
