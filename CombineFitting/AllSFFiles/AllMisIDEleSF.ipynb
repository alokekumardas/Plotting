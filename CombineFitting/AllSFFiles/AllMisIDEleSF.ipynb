{
 "cells": [
  {
   "cell_type": "code",
   "execution_count": 22,
   "metadata": {},
   "outputs": [
    {
     "name": "stdout",
     "output_type": "stream",
     "text": [
      "/uscms_data/d3/npoudyal/TTGammaSemiLeptonic13TeV/CMSSW_10_2_14/src/TTGammaSemiLep_13TeV/Plotting/CombineFitting/AllSFFiles\r\n"
     ]
    }
   ],
   "source": [
    "import ROOT\n",
    "!pwd"
   ]
  },
  {
   "cell_type": "code",
   "execution_count": 23,
   "metadata": {},
   "outputs": [],
   "source": [
    "ListOfFiles = [\"fitDiagnosticsCR123.root\", \"fitDiagnosticsCR1.root\",  \"fitDiagnosticsCR2.root\", \"fitDiagnosticsCR3.root\",\"fitDiagnosticsCR4.root\"]"
   ]
  },
  {
   "cell_type": "code",
   "execution_count": 24,
   "metadata": {},
   "outputs": [],
   "source": [
    "controlRegionDict ={\"SR8\":\"tight\", \"CR123\":\"looseCRge2e0\", \"AR\":\"looseCRge2ge0\", \"CR7\":\"looseCRe3ge2\", \"CR3\":\"looseCRge4e0\", \"CR2\":\"looseCRe3e0\", \n",
    "\t\t\t\t   \"CR4\":\"looseCRe2e1\", \"CR1\":\"looseCRe2e0\", \"CR6\":\"looseCRe2e2\", \"CR5\":\"looseCRe3e1\" }\n",
    "\n",
    "\n",
    "CRDictMisID ={\"SR8\":\"misIDsfSReight\", \"CR123\":\"misIDsfCRall\", \"CR7\":\"misIDsfCRseven\", \"CR3\":\"misIDsfCRthree\", \"CR2\":\"misIDsfCRtwo\", \n",
    "\t\t \"CR4\":\"misIDsfCRfour\", \"CR1\":\"misIDsfCRone\", \"CR6\":\"misIDsfCRsix\", \"CR5\":\"misIDsfCRfive\" }\n",
    "\n",
    "CRDictZGamma ={\"SR8\":\"zGammasfSReight\", \"CR123\":\"zGammasfCRall\", \"CR7\":\"zGammasfCRseven\", \"CR3\":\"zGammasfCRthree\", \"CR2\":\"zGammasfCRtwo\", \n",
    "\t\t \"CR4\":\"zGammasfCRfour\", \"CR1\":\"zGammasfCRone\", \"CR6\":\"zGammasfCRsix\", \"CR5\":\"zGammasfCRfive\" }\n",
    "\n",
    "CRDictWGamma ={\"SR8\":\"wGammasfSReight\", \"CR123\":\"wGammasfCRall\", \"CR7\":\"wGammasfCRseven\", \"CR3\":\"wGammasfCRthree\", \"CR2\":\"wGammasfCRtwo\", \n",
    "\t\t \"CR4\":\"wGammasfCRfour\", \"CR1\":\"wGammasfCRone\", \"CR6\":\"wGammasfCRsix\", \"CR5\":\"wGammasfCRfive\" }"
   ]
  },
  {
   "cell_type": "code",
   "execution_count": 25,
   "metadata": {},
   "outputs": [],
   "source": [
    "line = \"\"\n",
    "for ifile in ListOfFiles:\n",
    "    myfile = ROOT.TFile(\"../Datacard_fourTemplate_Zjets_bothChannel_2016/\"+ifile,\"read\")\n",
    "    if myfile.GetListOfKeys().Contains(\"fit_s\") is False:\n",
    "        print ifile[14:-5], \": Fit failed.\"\n",
    "        continue\n",
    "    fit_s = myfile.Get(\"fit_s\")\n",
    "    line += \"MisIDEleSF_2016_%s = %.3f \\n\"%(controlRegionDict[ifile[14:-5]],fit_s.floatParsFinal().find(\"r\").getVal())\n",
    "    line +=   \"ZGammaSF_2016_%s = %.3f \\n\"%(controlRegionDict[ifile[14:-5]],fit_s.floatParsFinal().find(\"ZGammaBkgPhotonSF\").getVal())\n",
    "    line +=   \"WGammaSF_2016_%s = %.3f \\n\"%(controlRegionDict[ifile[14:-5]],fit_s.floatParsFinal().find(\"WGammaBkgPhotonSF\").getVal())\n",
    "\n",
    "for ifile in ListOfFiles:\n",
    "    myfile = ROOT.TFile(\"../Datacard_fourTemplate_Zjets_bothChannel_2017/\"+ifile,\"read\")\n",
    "    if myfile.GetListOfKeys().Contains(\"fit_s\") is False:\n",
    "        print ifile[14:-5], \": Fit failed.\"\n",
    "        continue\n",
    "    fit_s = myfile.Get(\"fit_s\")\n",
    "    line += \"MisIDEleSF_2017_%s = %.3f \\n\"%(controlRegionDict[ifile[14:-5]],fit_s.floatParsFinal().find(\"r\").getVal())\n",
    "    line +=   \"ZGammaSF_2017_%s = %.3f \\n\"%(controlRegionDict[ifile[14:-5]],fit_s.floatParsFinal().find(\"ZGammaBkgPhotonSF\").getVal())\n",
    "    line +=   \"WGammaSF_2017_%s = %.3f \\n\"%(controlRegionDict[ifile[14:-5]],fit_s.floatParsFinal().find(\"WGammaBkgPhotonSF\").getVal())\n",
    "   \n",
    "for ifile in ListOfFiles:\n",
    "    myfile = ROOT.TFile(\"../Datacard_fourTemplate_Zjets_bothChannel_2018/\"+ifile,\"read\")\n",
    "    if myfile.GetListOfKeys().Contains(\"fit_s\") is False:\n",
    "        print ifile[14:-5], \": Fit failed.\"\n",
    "        continue\n",
    "    fit_s = myfile.Get(\"fit_s\")\n",
    "    line += \"MisIDEleSF_2018_%s = %.3f \\n\"%(controlRegionDict[ifile[14:-5]],fit_s.floatParsFinal().find(\"r\").getVal())\n",
    "    line +=   \"ZGammaSF_2018_%s = %.3f \\n\"%(controlRegionDict[ifile[14:-5]],fit_s.floatParsFinal().find(\"ZGammaBkgPhotonSF\").getVal())\n",
    "    line +=   \"WGammaSF_2018_%s = %.3f \\n\"%(controlRegionDict[ifile[14:-5]],fit_s.floatParsFinal().find(\"WGammaBkgPhotonSF\").getVal())\n",
    "\n",
    "with open(\"MisIDEleSFvalues.py\",\"w\") as _file:\n",
    "    _file.write(line)\n",
    "\n",
    "## copy the file to plotting folder\n",
    "!cp MisIDEleSFvalues.py /uscms_data/d3/npoudyal/TTGammaSemiLeptonic13TeV/CMSSW_10_2_14/src/TTGammaSemiLep_13TeV/Plotting"
   ]
  },
  {
   "cell_type": "code",
   "execution_count": 26,
   "metadata": {},
   "outputs": [
    {
     "name": "stdout",
     "output_type": "stream",
     "text": [
      "MisIDEleSF_2016_looseCRge2e0 = 2.157 \r\n",
      "ZGammaSF_2016_looseCRge2e0 = 0.971 \r\n",
      "WGammaSF_2016_looseCRge2e0 = 1.163 \r\n",
      "MisIDEleSF_2016_looseCRe2e0 = 2.219 \r\n",
      "ZGammaSF_2016_looseCRe2e0 = 0.892 \r\n",
      "WGammaSF_2016_looseCRe2e0 = 1.329 \r\n",
      "MisIDEleSF_2016_looseCRe3e0 = 2.280 \r\n",
      "ZGammaSF_2016_looseCRe3e0 = 0.912 \r\n",
      "WGammaSF_2016_looseCRe3e0 = 1.324 \r\n",
      "MisIDEleSF_2016_looseCRge4e0 = 2.112 \r\n",
      "ZGammaSF_2016_looseCRge4e0 = 1.505 \r\n",
      "WGammaSF_2016_looseCRge4e0 = 1.272 \r\n",
      "MisIDEleSF_2016_looseCRe2e1 = 2.268 \r\n",
      "ZGammaSF_2016_looseCRe2e1 = 1.198 \r\n",
      "WGammaSF_2016_looseCRe2e1 = 1.761 \r\n",
      "MisIDEleSF_2017_looseCRge2e0 = 2.391 \r\n",
      "ZGammaSF_2017_looseCRge2e0 = 1.062 \r\n",
      "WGammaSF_2017_looseCRge2e0 = 1.603 \r\n",
      "MisIDEleSF_2017_looseCRe2e0 = 2.379 \r\n",
      "ZGammaSF_2017_looseCRe2e0 = 1.059 \r\n",
      "WGammaSF_2017_looseCRe2e0 = 1.535 \r\n",
      "MisIDEleSF_2017_looseCRe3e0 = 2.427 \r\n",
      "ZGammaSF_2017_looseCRe3e0 = 1.091 \r\n",
      "WGammaSF_2017_looseCRe3e0 = 1.743 \r\n",
      "MisIDEleSF_2017_looseCRge4e0 = 2.661 \r\n",
      "ZGammaSF_2017_looseCRge4e0 = 0.599 \r\n",
      "WGammaSF_2017_looseCRge4e0 = 2.650 \r\n",
      "MisIDEleSF_2017_looseCRe2e1 = 2.493 \r\n",
      "ZGammaSF_2017_looseCRe2e1 = 0.775 \r\n",
      "WGammaSF_2017_looseCRe2e1 = 2.581 \r\n",
      "MisIDEleSF_2018_looseCRge2e0 = 1.598 \r\n",
      "ZGammaSF_2018_looseCRge2e0 = 1.213 \r\n",
      "WGammaSF_2018_looseCRge2e0 = 1.527 \r\n",
      "MisIDEleSF_2018_looseCRe2e0 = 1.612 \r\n",
      "ZGammaSF_2018_looseCRe2e0 = 1.100 \r\n",
      "WGammaSF_2018_looseCRe2e0 = 1.565 \r\n",
      "MisIDEleSF_2018_looseCRe3e0 = 1.621 \r\n",
      "ZGammaSF_2018_looseCRe3e0 = 1.501 \r\n",
      "WGammaSF_2018_looseCRe3e0 = 1.473 \r\n",
      "MisIDEleSF_2018_looseCRge4e0 = 1.701 \r\n",
      "ZGammaSF_2018_looseCRge4e0 = 1.119 \r\n",
      "WGammaSF_2018_looseCRge4e0 = 2.167 \r\n",
      "MisIDEleSF_2018_looseCRe2e1 = 1.827 \r\n",
      "ZGammaSF_2018_looseCRe2e1 = 1.165 \r\n",
      "WGammaSF_2018_looseCRe2e1 = 1.847 \r\n"
     ]
    }
   ],
   "source": [
    "!cat MisIDEleSFvalues.py"
   ]
  },
  {
   "cell_type": "code",
   "execution_count": 27,
   "metadata": {},
   "outputs": [],
   "source": [
    "line = \"\"\n",
    "for ifile in ListOfFiles:\n",
    "    myfile = ROOT.TFile(\"../Datacard_fourTemplate_Zjets_bothChannel_2016/\"+ifile,\"read\")\n",
    "    if myfile.GetListOfKeys().Contains(\"fit_s\") is False:\n",
    "        print ifile[14:-5], \": Fit failed.\"\n",
    "        continue\n",
    "    fit_s = myfile.Get(\"fit_s\")\n",
    "    line += \"\\\\newcommand{\\\\%s} {\\ensuremath{%.3f \\\\substack{%.3f \\\\\\\\ +%.3f}}}\\n\"%(CRDictMisID[ifile[14:-5]]+\"Sixteen\",fit_s.floatParsFinal().find(\"r\").getVal(),fit_s.floatParsFinal().find(\"r\").getErrorLo(),fit_s.floatParsFinal().find(\"r\").getErrorHi())\n",
    "    line += \"\\\\newcommand{\\\\%s} {\\ensuremath{%.3f \\\\substack{%.3f \\\\\\\\ +%.3f}}}\\n\"%(CRDictZGamma[ifile[14:-5]]+\"Sixteen\",fit_s.floatParsFinal().find(\"ZGammaBkgPhotonSF\").getVal(),fit_s.floatParsFinal().find(\"r\").getErrorLo(),fit_s.floatParsFinal().find(\"ZGammaBkgPhotonSF\").getErrorHi())\n",
    "    line += \"\\\\newcommand{\\\\%s} {\\ensuremath{%.3f \\\\substack{%.3f \\\\\\\\ +%.3f}}}\\n\"%(CRDictWGamma[ifile[14:-5]]+\"Sixteen\",fit_s.floatParsFinal().find(\"WGammaBkgPhotonSF\").getVal(),fit_s.floatParsFinal().find(\"r\").getErrorLo(),fit_s.floatParsFinal().find(\"WGammaBkgPhotonSF\").getErrorHi())\n",
    "\n",
    "for ifile in ListOfFiles:\n",
    "    myfile = ROOT.TFile(\"../Datacard_fourTemplate_Zjets_bothChannel_2017/\"+ifile,\"read\")\n",
    "    if myfile.GetListOfKeys().Contains(\"fit_s\") is False:\n",
    "        print ifile[14:-5], \": Fit failed.\"\n",
    "        continue\n",
    "    fit_s = myfile.Get(\"fit_s\")\n",
    "    line += \"\\\\newcommand{\\\\%s} {\\ensuremath{%.3f \\\\substack{%.3f \\\\\\\\ +%.3f}}}\\n\"%(CRDictMisID[ifile[14:-5]]+\"Seventeen\",fit_s.floatParsFinal().find(\"r\").getVal(),fit_s.floatParsFinal().find(\"r\").getErrorLo(),fit_s.floatParsFinal().find(\"r\").getErrorHi())\n",
    "    line += \"\\\\newcommand{\\\\%s} {\\ensuremath{%.3f \\\\substack{%.3f \\\\\\\\ +%.3f}}}\\n\"%(CRDictZGamma[ifile[14:-5]]+\"Seventeen\",fit_s.floatParsFinal().find(\"ZGammaBkgPhotonSF\").getVal(),fit_s.floatParsFinal().find(\"r\").getErrorLo(),fit_s.floatParsFinal().find(\"ZGammaBkgPhotonSF\").getErrorHi())\n",
    "    line += \"\\\\newcommand{\\\\%s} {\\ensuremath{%.3f \\\\substack{%.3f \\\\\\\\ +%.3f}}}\\n\"%(CRDictWGamma[ifile[14:-5]]+\"Seventeen\",fit_s.floatParsFinal().find(\"WGammaBkgPhotonSF\").getVal(),fit_s.floatParsFinal().find(\"r\").getErrorLo(),fit_s.floatParsFinal().find(\"WGammaBkgPhotonSF\").getErrorHi())\n",
    "\n",
    "   \n",
    "for ifile in ListOfFiles:\n",
    "    myfile = ROOT.TFile(\"../Datacard_fourTemplate_Zjets_bothChannel_2018/\"+ifile,\"read\")\n",
    "    if myfile.GetListOfKeys().Contains(\"fit_s\") is False:\n",
    "        print ifile[14:-5], \": Fit failed.\"\n",
    "        continue\n",
    "    fit_s = myfile.Get(\"fit_s\")\n",
    "    line += \"\\\\newcommand{\\\\%s} {\\ensuremath{%.3f \\\\substack{%.3f \\\\\\\\ +%.3f}}}\\n\"%(CRDictMisID[ifile[14:-5]]+\"Eighteen\",fit_s.floatParsFinal().find(\"r\").getVal(),fit_s.floatParsFinal().find(\"r\").getErrorLo(),fit_s.floatParsFinal().find(\"r\").getErrorHi())\n",
    "    line += \"\\\\newcommand{\\\\%s} {\\ensuremath{%.3f \\\\substack{%.3f \\\\\\\\ +%.3f}}}\\n\"%(CRDictZGamma[ifile[14:-5]]+\"Eighteen\",fit_s.floatParsFinal().find(\"ZGammaBkgPhotonSF\").getVal(),fit_s.floatParsFinal().find(\"r\").getErrorLo(),fit_s.floatParsFinal().find(\"ZGammaBkgPhotonSF\").getErrorHi())\n",
    "    line += \"\\\\newcommand{\\\\%s} {\\ensuremath{%.3f \\\\substack{%.3f \\\\\\\\ +%.3f}}}\\n\"%(CRDictWGamma[ifile[14:-5]]+\"Eighteen\",fit_s.floatParsFinal().find(\"WGammaBkgPhotonSF\").getVal(),fit_s.floatParsFinal().find(\"r\").getErrorLo(),fit_s.floatParsFinal().find(\"WGammaBkgPhotonSF\").getErrorHi())\n",
    "\n",
    "\n",
    "with open(\"MisIDEleSFvalues.tex\",\"w\") as _file:\n",
    "    _file.write(line)\n",
    "\n",
    "## copy the file to plotting folder\n",
    "!cp MisIDEleSFvalues.tex ../AllTexFiles "
   ]
  },
  {
   "cell_type": "code",
   "execution_count": 28,
   "metadata": {},
   "outputs": [
    {
     "name": "stdout",
     "output_type": "stream",
     "text": [
      "\\newcommand{\\misIDsfCRallSixteen} {\\ensuremath{2.157 \\substack{-0.047 \\\\ +0.048}}}\r\n",
      "\\newcommand{\\zGammasfCRallSixteen} {\\ensuremath{0.971 \\substack{-0.047 \\\\ +0.062}}}\r\n",
      "\\newcommand{\\wGammasfCRallSixteen} {\\ensuremath{1.163 \\substack{-0.047 \\\\ +0.041}}}\r\n",
      "\\newcommand{\\misIDsfCRoneSixteen} {\\ensuremath{2.219 \\substack{-0.055 \\\\ +0.056}}}\r\n",
      "\\newcommand{\\zGammasfCRoneSixteen} {\\ensuremath{0.892 \\substack{-0.055 \\\\ +0.064}}}\r\n",
      "\\newcommand{\\wGammasfCRoneSixteen} {\\ensuremath{1.329 \\substack{-0.055 \\\\ +0.056}}}\r\n",
      "\\newcommand{\\misIDsfCRtwoSixteen} {\\ensuremath{2.280 \\substack{-0.124 \\\\ +0.132}}}\r\n",
      "\\newcommand{\\zGammasfCRtwoSixteen} {\\ensuremath{0.912 \\substack{-0.124 \\\\ +0.163}}}\r\n",
      "\\newcommand{\\wGammasfCRtwoSixteen} {\\ensuremath{1.324 \\substack{-0.124 \\\\ +0.114}}}\r\n",
      "\\newcommand{\\misIDsfCRthreeSixteen} {\\ensuremath{2.112 \\substack{-0.209 \\\\ +0.235}}}\r\n",
      "\\newcommand{\\zGammasfCRthreeSixteen} {\\ensuremath{1.505 \\substack{-0.209 \\\\ +0.359}}}\r\n",
      "\\newcommand{\\wGammasfCRthreeSixteen} {\\ensuremath{1.272 \\substack{-0.209 \\\\ +0.172}}}\r\n",
      "\\newcommand{\\misIDsfCRfourSixteen} {\\ensuremath{2.268 \\substack{-0.194 \\\\ +0.212}}}\r\n",
      "\\newcommand{\\zGammasfCRfourSixteen} {\\ensuremath{1.198 \\substack{-0.194 \\\\ +0.226}}}\r\n",
      "\\newcommand{\\wGammasfCRfourSixteen} {\\ensuremath{1.761 \\substack{-0.194 \\\\ +0.436}}}\r\n",
      "\\newcommand{\\misIDsfCRallSeventeen} {\\ensuremath{2.391 \\substack{-0.060 \\\\ +0.062}}}\r\n",
      "\\newcommand{\\zGammasfCRallSeventeen} {\\ensuremath{1.062 \\substack{-0.060 \\\\ +0.071}}}\r\n",
      "\\newcommand{\\wGammasfCRallSeventeen} {\\ensuremath{1.603 \\substack{-0.060 \\\\ +0.067}}}\r\n",
      "\\newcommand{\\misIDsfCRoneSeventeen} {\\ensuremath{2.379 \\substack{-0.066 \\\\ +0.069}}}\r\n",
      "\\newcommand{\\zGammasfCRoneSeventeen} {\\ensuremath{1.059 \\substack{-0.066 \\\\ +0.072}}}\r\n",
      "\\newcommand{\\wGammasfCRoneSeventeen} {\\ensuremath{1.535 \\substack{-0.066 \\\\ +0.075}}}\r\n",
      "\\newcommand{\\misIDsfCRtwoSeventeen} {\\ensuremath{2.427 \\substack{-0.140 \\\\ +0.154}}}\r\n",
      "\\newcommand{\\zGammasfCRtwoSeventeen} {\\ensuremath{1.091 \\substack{-0.140 \\\\ +0.192}}}\r\n",
      "\\newcommand{\\wGammasfCRtwoSeventeen} {\\ensuremath{1.743 \\substack{-0.140 \\\\ +0.133}}}\r\n",
      "\\newcommand{\\misIDsfCRthreeSeventeen} {\\ensuremath{2.661 \\substack{-0.315 \\\\ +0.370}}}\r\n",
      "\\newcommand{\\zGammasfCRthreeSeventeen} {\\ensuremath{0.599 \\substack{-0.315 \\\\ +0.793}}}\r\n",
      "\\newcommand{\\wGammasfCRthreeSeventeen} {\\ensuremath{2.650 \\substack{-0.315 \\\\ +0.435}}}\r\n",
      "\\newcommand{\\misIDsfCRfourSeventeen} {\\ensuremath{2.493 \\substack{-0.228 \\\\ +0.270}}}\r\n",
      "\\newcommand{\\zGammasfCRfourSeventeen} {\\ensuremath{0.775 \\substack{-0.228 \\\\ +0.298}}}\r\n",
      "\\newcommand{\\wGammasfCRfourSeventeen} {\\ensuremath{2.581 \\substack{-0.228 \\\\ +0.662}}}\r\n",
      "\\newcommand{\\misIDsfCRallEighteen} {\\ensuremath{1.598 \\substack{-0.039 \\\\ +0.040}}}\r\n",
      "\\newcommand{\\zGammasfCRallEighteen} {\\ensuremath{1.213 \\substack{-0.039 \\\\ +0.070}}}\r\n",
      "\\newcommand{\\wGammasfCRallEighteen} {\\ensuremath{1.527 \\substack{-0.039 \\\\ +0.060}}}\r\n",
      "\\newcommand{\\misIDsfCRoneEighteen} {\\ensuremath{1.612 \\substack{-0.037 \\\\ +0.038}}}\r\n",
      "\\newcommand{\\zGammasfCRoneEighteen} {\\ensuremath{1.100 \\substack{-0.037 \\\\ +0.074}}}\r\n",
      "\\newcommand{\\wGammasfCRoneEighteen} {\\ensuremath{1.565 \\substack{-0.037 \\\\ +0.072}}}\r\n",
      "\\newcommand{\\misIDsfCRtwoEighteen} {\\ensuremath{1.621 \\substack{-0.094 \\\\ +0.103}}}\r\n",
      "\\newcommand{\\zGammasfCRtwoEighteen} {\\ensuremath{1.501 \\substack{-0.094 \\\\ +0.142}}}\r\n",
      "\\newcommand{\\wGammasfCRtwoEighteen} {\\ensuremath{1.473 \\substack{-0.094 \\\\ +0.109}}}\r\n",
      "\\newcommand{\\misIDsfCRthreeEighteen} {\\ensuremath{1.701 \\substack{-0.165 \\\\ +0.189}}}\r\n",
      "\\newcommand{\\zGammasfCRthreeEighteen} {\\ensuremath{1.119 \\substack{-0.165 \\\\ +0.573}}}\r\n",
      "\\newcommand{\\wGammasfCRthreeEighteen} {\\ensuremath{2.167 \\substack{-0.165 \\\\ +0.275}}}\r\n",
      "\\newcommand{\\misIDsfCRfourEighteen} {\\ensuremath{1.827 \\substack{-0.134 \\\\ +0.149}}}\r\n",
      "\\newcommand{\\zGammasfCRfourEighteen} {\\ensuremath{1.165 \\substack{-0.134 \\\\ +0.181}}}\r\n",
      "\\newcommand{\\wGammasfCRfourEighteen} {\\ensuremath{1.847 \\substack{-0.134 \\\\ +0.337}}}\r\n"
     ]
    }
   ],
   "source": [
    "!cat MisIDEleSFvalues.tex"
   ]
  },
  {
   "cell_type": "code",
   "execution_count": null,
   "metadata": {},
   "outputs": [],
   "source": []
  }
 ],
 "metadata": {
  "kernelspec": {
   "display_name": "Python 2",
   "language": "python",
   "name": "python2"
  },
  "language_info": {
   "codemirror_mode": {
    "name": "ipython",
    "version": 2
   },
   "file_extension": ".py",
   "mimetype": "text/x-python",
   "name": "python",
   "nbconvert_exporter": "python",
   "pygments_lexer": "ipython2",
   "version": "2.7.14+"
  }
 },
 "nbformat": 4,
 "nbformat_minor": 2
}
