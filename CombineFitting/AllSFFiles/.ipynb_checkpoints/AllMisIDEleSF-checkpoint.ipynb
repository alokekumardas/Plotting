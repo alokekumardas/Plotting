{
 "cells": [
  {
   "cell_type": "code",
   "execution_count": 3,
   "metadata": {},
   "outputs": [
    {
     "name": "stdout",
     "output_type": "stream",
     "text": [
      "Welcome to JupyROOT 6.12/07\n",
      "/uscms_data/d3/npoudyal/TTGammaSemiLeptonic13TeV/CMSSW_10_2_14/src/TTGammaSemiLep_13TeV/Plotting/CombineFitting/AllSFFiles\r\n"
     ]
    }
   ],
   "source": [
    "import ROOT\n",
    "!pwd"
   ]
  },
  {
   "cell_type": "code",
   "execution_count": 4,
   "metadata": {},
   "outputs": [],
   "source": [
    "ListOfFiles = [\"fitDiagnosticsCR123.root\", \"fitDiagnosticsCR1.root\",  \"fitDiagnosticsCR2.root\", \"fitDiagnosticsCR3.root\",\"fitDiagnosticsCR4.root\"]"
   ]
  },
  {
   "cell_type": "code",
   "execution_count": 9,
   "metadata": {},
   "outputs": [],
   "source": [
    "controlRegionDict ={\"SR8\":\"tight\", \"CR123\":\"looseCRge2e0\", \"AR\":\"looseCRge2ge0\", \"CR7\":\"looseCRe3ge2\", \"CR3\":\"looseCRge4e0\", \"CR2\":\"looseCRe3e0\", \n",
    "\t\t\t\t   \"CR4\":\"looseCRe2e1\", \"CR1\":\"looseCRe2e0\", \"CR6\":\"looseCRe2e2\", \"CR5\":\"looseCRe3e1\" }\n",
    "\n",
    "\n",
    "CRDictMisID ={\"SR8\":\"misIDsfSReight\", \"CR123\":\"misIDsfCRall\", \"CR7\":\"misIDsfCRseven\", \"CR3\":\"misIDsfCRthree\", \"CR2\":\"misIDsfCRtwo\", \n",
    "\t\t \"CR4\":\"misIDsfCRfour\", \"CR1\":\"misIDsfCRone\", \"CR6\":\"misIDsfCRsix\", \"CR5\":\"misIDsfCRfive\" }\n",
    "\n",
    "CRDictZGamma ={\"SR8\":\"zGammasfSReight\", \"CR123\":\"zGammasfCRall\", \"CR7\":\"zGammasfCRseven\", \"CR3\":\"zGammasfCRthree\", \"CR2\":\"zGammasfCRtwo\", \n",
    "\t\t \"CR4\":\"zGammasfCRfour\", \"CR1\":\"zGammasfCRone\", \"CR6\":\"zGammasfCRsix\", \"CR5\":\"zGammasfCRfive\" }\n",
    "\n",
    "CRDictWGamma ={\"SR8\":\"wGammasfSReight\", \"CR123\":\"wGammasfCRall\", \"CR7\":\"wGammasfCRseven\", \"CR3\":\"wGammasfCRthree\", \"CR2\":\"wGammasfCRtwo\", \n",
    "\t\t \"CR4\":\"wGammasfCRfour\", \"CR1\":\"wGammasfCRone\", \"CR6\":\"wGammasfCRsix\", \"CR5\":\"wGammasfCRfive\" }"
   ]
  },
  {
   "cell_type": "code",
   "execution_count": 6,
   "metadata": {},
   "outputs": [],
   "source": [
    "line = \"\"\n",
    "for ifile in ListOfFiles:\n",
    "    myfile = ROOT.TFile(\"../Datacard_fourTemplate_Zjets_bothChannel_2016/\"+ifile,\"read\")\n",
    "    if myfile.GetListOfKeys().Contains(\"fit_s\") is False:\n",
    "        print ifile[14:-5], \": Fit failed.\"\n",
    "        continue\n",
    "    fit_s = myfile.Get(\"fit_s\")\n",
    "    line += \"MisIDEleSF_2016_%s = %.3f \\n\"%(controlRegionDict[ifile[14:-5]],fit_s.floatParsFinal().find(\"r\").getVal())\n",
    "    line +=   \"ZGammaSF_2016_%s = %.3f \\n\"%(controlRegionDict[ifile[14:-5]],fit_s.floatParsFinal().find(\"ZGammaBkgPhotonSF\").getVal())\n",
    "    line +=   \"WGammaSF_2016_%s = %.3f \\n\"%(controlRegionDict[ifile[14:-5]],fit_s.floatParsFinal().find(\"WGammaBkgPhotonSF\").getVal())\n",
    "\n",
    "for ifile in ListOfFiles:\n",
    "    myfile = ROOT.TFile(\"../Datacard_fourTemplate_Zjets_bothChannel_2017/\"+ifile,\"read\")\n",
    "    if myfile.GetListOfKeys().Contains(\"fit_s\") is False:\n",
    "        print ifile[14:-5], \": Fit failed.\"\n",
    "        continue\n",
    "    fit_s = myfile.Get(\"fit_s\")\n",
    "    line += \"MisIDEleSF_2017_%s = %.3f \\n\"%(controlRegionDict[ifile[14:-5]],fit_s.floatParsFinal().find(\"r\").getVal())\n",
    "    line +=   \"ZGammaSF_2017_%s = %.3f \\n\"%(controlRegionDict[ifile[14:-5]],fit_s.floatParsFinal().find(\"ZGammaBkgPhotonSF\").getVal())\n",
    "    line +=   \"WGammaSF_2017_%s = %.3f \\n\"%(controlRegionDict[ifile[14:-5]],fit_s.floatParsFinal().find(\"WGammaBkgPhotonSF\").getVal())\n",
    "   \n",
    "for ifile in ListOfFiles:\n",
    "    myfile = ROOT.TFile(\"../Datacard_fourTemplate_Zjets_bothChannel_2018/\"+ifile,\"read\")\n",
    "    if myfile.GetListOfKeys().Contains(\"fit_s\") is False:\n",
    "        print ifile[14:-5], \": Fit failed.\"\n",
    "        continue\n",
    "    fit_s = myfile.Get(\"fit_s\")\n",
    "    line += \"MisIDEleSF_2018_%s = %.3f \\n\"%(controlRegionDict[ifile[14:-5]],fit_s.floatParsFinal().find(\"r\").getVal())\n",
    "    line +=   \"ZGammaSF_2018_%s = %.3f \\n\"%(controlRegionDict[ifile[14:-5]],fit_s.floatParsFinal().find(\"ZGammaBkgPhotonSF\").getVal())\n",
    "    line +=   \"WGammaSF_2018_%s = %.3f \\n\"%(controlRegionDict[ifile[14:-5]],fit_s.floatParsFinal().find(\"WGammaBkgPhotonSF\").getVal())\n",
    "\n",
    "with open(\"MisIDEleSFvalues.py\",\"w\") as _file:\n",
    "    _file.write(line)\n",
    "\n",
    "## copy the file to plotting folder\n",
    "!cp MisIDEleSFvalues.py /uscms_data/d3/npoudyal/TTGammaSemiLeptonic13TeV/CMSSW_10_2_14/src/TTGammaSemiLep_13TeV/Plotting"
   ]
  },
  {
   "cell_type": "code",
   "execution_count": 7,
   "metadata": {},
   "outputs": [
    {
     "name": "stdout",
     "output_type": "stream",
     "text": [
      "MisIDEleSF_2016_looseCRge2e0 = 2.269 \r\n",
      "ZGammaSF_2016_looseCRge2e0 = 0.966 \r\n",
      "WGammaSF_2016_looseCRge2e0 = 1.269 \r\n",
      "MisIDEleSF_2016_looseCRe2e0 = 2.255 \r\n",
      "ZGammaSF_2016_looseCRe2e0 = 0.900 \r\n",
      "WGammaSF_2016_looseCRe2e0 = 1.324 \r\n",
      "MisIDEleSF_2016_looseCRe3e0 = 2.330 \r\n",
      "ZGammaSF_2016_looseCRe3e0 = 0.925 \r\n",
      "WGammaSF_2016_looseCRe3e0 = 1.324 \r\n",
      "MisIDEleSF_2016_looseCRge4e0 = 2.174 \r\n",
      "ZGammaSF_2016_looseCRge4e0 = 1.825 \r\n",
      "WGammaSF_2016_looseCRge4e0 = 1.149 \r\n",
      "MisIDEleSF_2016_looseCRe2e1 = 2.307 \r\n",
      "ZGammaSF_2016_looseCRe2e1 = 1.174 \r\n",
      "WGammaSF_2016_looseCRe2e1 = 1.801 \r\n",
      "MisIDEleSF_2017_looseCRge2e0 = 2.566 \r\n",
      "ZGammaSF_2017_looseCRge2e0 = 0.598 \r\n",
      "WGammaSF_2017_looseCRge2e0 = 1.075 \r\n",
      "MisIDEleSF_2017_looseCRe2e0 = 2.517 \r\n",
      "ZGammaSF_2017_looseCRe2e0 = 0.546 \r\n",
      "WGammaSF_2017_looseCRe2e0 = 1.150 \r\n",
      "MisIDEleSF_2017_looseCRe3e0 = 2.735 \r\n",
      "ZGammaSF_2017_looseCRe3e0 = 0.663 \r\n",
      "WGammaSF_2017_looseCRe3e0 = 1.103 \r\n",
      "MisIDEleSF_2017_looseCRge4e0 = 3.019 \r\n",
      "ZGammaSF_2017_looseCRge4e0 = 2.880 \r\n",
      "WGammaSF_2017_looseCRge4e0 = 0.408 \r\n",
      "MisIDEleSF_2017_looseCRe2e1 = 3.276 \r\n",
      "ZGammaSF_2017_looseCRe2e1 = 1.008 \r\n",
      "WGammaSF_2017_looseCRe2e1 = -4.898 \r\n",
      "MisIDEleSF_2018_looseCRge2e0 = 1.620 \r\n",
      "ZGammaSF_2018_looseCRge2e0 = 1.170 \r\n",
      "WGammaSF_2018_looseCRge2e0 = 1.577 \r\n",
      "MisIDEleSF_2018_looseCRe2e0 = 1.634 \r\n",
      "ZGammaSF_2018_looseCRe2e0 = 1.063 \r\n",
      "WGammaSF_2018_looseCRe2e0 = 1.610 \r\n",
      "MisIDEleSF_2018_looseCRe3e0 = 1.646 \r\n",
      "ZGammaSF_2018_looseCRe3e0 = 1.467 \r\n",
      "WGammaSF_2018_looseCRe3e0 = 1.498 \r\n",
      "MisIDEleSF_2018_looseCRge4e0 = 1.707 \r\n",
      "ZGammaSF_2018_looseCRge4e0 = 1.176 \r\n",
      "WGammaSF_2018_looseCRge4e0 = 2.172 \r\n",
      "MisIDEleSF_2018_looseCRe2e1 = 1.794 \r\n",
      "ZGammaSF_2018_looseCRe2e1 = 1.114 \r\n",
      "WGammaSF_2018_looseCRe2e1 = 2.073 \r\n"
     ]
    }
   ],
   "source": [
    "!cat MisIDEleSFvalues.py"
   ]
  },
  {
   "cell_type": "code",
   "execution_count": 18,
   "metadata": {},
   "outputs": [],
   "source": [
    "line = \"\"\n",
    "for ifile in ListOfFiles:\n",
    "    myfile = ROOT.TFile(\"../Datacard_fourTemplate_Zjets_bothChannel_2016/\"+ifile,\"read\")\n",
    "    if myfile.GetListOfKeys().Contains(\"fit_s\") is False:\n",
    "        print ifile[14:-5], \": Fit failed.\"\n",
    "        continue\n",
    "    fit_s = myfile.Get(\"fit_s\")\n",
    "    line += \"\\\\newcommand{\\\\%s} {\\ensuremath{%.3f \\\\substack{%.3f \\\\\\\\ +%.3f}}}\\n\"%(CRDictMisID[ifile[14:-5]]+\"Sixteen\",fit_s.floatParsFinal().find(\"r\").getVal(),fit_s.floatParsFinal().find(\"r\").getErrorLo(),fit_s.floatParsFinal().find(\"r\").getErrorHi())\n",
    "    line += \"\\\\newcommand{\\\\%s} {\\ensuremath{%.3f \\\\substack{%.3f \\\\\\\\ +%.3f}}}\\n\"%(CRDictZGamma[ifile[14:-5]]+\"Sixteen\",fit_s.floatParsFinal().find(\"ZGammaBkgPhotonSF\").getVal(),fit_s.floatParsFinal().find(\"r\").getErrorLo(),fit_s.floatParsFinal().find(\"ZGammaBkgPhotonSF\").getErrorHi())\n",
    "    line += \"\\\\newcommand{\\\\%s} {\\ensuremath{%.3f \\\\substack{%.3f \\\\\\\\ +%.3f}}}\\n\"%(CRDictWGamma[ifile[14:-5]]+\"Sixteen\",fit_s.floatParsFinal().find(\"WGammaBkgPhotonSF\").getVal(),fit_s.floatParsFinal().find(\"r\").getErrorLo(),fit_s.floatParsFinal().find(\"WGammaBkgPhotonSF\").getErrorHi())\n",
    "\n",
    "for ifile in ListOfFiles:\n",
    "    myfile = ROOT.TFile(\"../Datacard_fourTemplate_Zjets_bothChannel_2017/\"+ifile,\"read\")\n",
    "    if myfile.GetListOfKeys().Contains(\"fit_s\") is False:\n",
    "        print ifile[14:-5], \": Fit failed.\"\n",
    "        continue\n",
    "    fit_s = myfile.Get(\"fit_s\")\n",
    "    line += \"\\\\newcommand{\\\\%s} {\\ensuremath{%.3f \\\\substack{%.3f \\\\\\\\ +%.3f}}}\\n\"%(CRDictMisID[ifile[14:-5]]+\"Seventeen\",fit_s.floatParsFinal().find(\"r\").getVal(),fit_s.floatParsFinal().find(\"r\").getErrorLo(),fit_s.floatParsFinal().find(\"r\").getErrorHi())\n",
    "    line += \"\\\\newcommand{\\\\%s} {\\ensuremath{%.3f \\\\substack{%.3f \\\\\\\\ +%.3f}}}\\n\"%(CRDictZGamma[ifile[14:-5]]+\"Seventeen\",fit_s.floatParsFinal().find(\"ZGammaBkgPhotonSF\").getVal(),fit_s.floatParsFinal().find(\"r\").getErrorLo(),fit_s.floatParsFinal().find(\"ZGammaBkgPhotonSF\").getErrorHi())\n",
    "    line += \"\\\\newcommand{\\\\%s} {\\ensuremath{%.3f \\\\substack{%.3f \\\\\\\\ +%.3f}}}\\n\"%(CRDictWGamma[ifile[14:-5]]+\"Seventeen\",fit_s.floatParsFinal().find(\"WGammaBkgPhotonSF\").getVal(),fit_s.floatParsFinal().find(\"r\").getErrorLo(),fit_s.floatParsFinal().find(\"WGammaBkgPhotonSF\").getErrorHi())\n",
    "\n",
    "   \n",
    "for ifile in ListOfFiles:\n",
    "    myfile = ROOT.TFile(\"../Datacard_fourTemplate_Zjets_bothChannel_2018/\"+ifile,\"read\")\n",
    "    if myfile.GetListOfKeys().Contains(\"fit_s\") is False:\n",
    "        print ifile[14:-5], \": Fit failed.\"\n",
    "        continue\n",
    "    fit_s = myfile.Get(\"fit_s\")\n",
    "    line += \"\\\\newcommand{\\\\%s} {\\ensuremath{%.3f \\\\substack{%.3f \\\\\\\\ +%.3f}}}\\n\"%(CRDictMisID[ifile[14:-5]]+\"Eighteen\",fit_s.floatParsFinal().find(\"r\").getVal(),fit_s.floatParsFinal().find(\"r\").getErrorLo(),fit_s.floatParsFinal().find(\"r\").getErrorHi())\n",
    "    line += \"\\\\newcommand{\\\\%s} {\\ensuremath{%.3f \\\\substack{%.3f \\\\\\\\ +%.3f}}}\\n\"%(CRDictZGamma[ifile[14:-5]]+\"Eighteen\",fit_s.floatParsFinal().find(\"ZGammaBkgPhotonSF\").getVal(),fit_s.floatParsFinal().find(\"r\").getErrorLo(),fit_s.floatParsFinal().find(\"ZGammaBkgPhotonSF\").getErrorHi())\n",
    "    line += \"\\\\newcommand{\\\\%s} {\\ensuremath{%.3f \\\\substack{%.3f \\\\\\\\ +%.3f}}}\\n\"%(CRDictWGamma[ifile[14:-5]]+\"Eighteen\",fit_s.floatParsFinal().find(\"WGammaBkgPhotonSF\").getVal(),fit_s.floatParsFinal().find(\"r\").getErrorLo(),fit_s.floatParsFinal().find(\"WGammaBkgPhotonSF\").getErrorHi())\n",
    "\n",
    "\n",
    "with open(\"MisIDEleSFvalues.tex\",\"w\") as _file:\n",
    "    _file.write(line)\n",
    "\n",
    "## copy the file to plotting folder\n",
    "!cp MisIDEleSFvalues.tex ../AllTexFiles "
   ]
  },
  {
   "cell_type": "code",
   "execution_count": 19,
   "metadata": {},
   "outputs": [
    {
     "name": "stdout",
     "output_type": "stream",
     "text": [
      "\\newcommand{\\misIDsfCRallSixteen} {\\ensuremath{2.269 \\substack{-0.051 \\\\ +0.052}}}\r\n",
      "\\newcommand{\\zGammasfCRallSixteen} {\\ensuremath{0.966 \\substack{-0.051 \\\\ +0.060}}}\r\n",
      "\\newcommand{\\wGammasfCRallSixteen} {\\ensuremath{1.269 \\substack{-0.051 \\\\ +0.050}}}\r\n",
      "\\newcommand{\\misIDsfCRoneSixteen} {\\ensuremath{2.255 \\substack{-0.057 \\\\ +0.058}}}\r\n",
      "\\newcommand{\\zGammasfCRoneSixteen} {\\ensuremath{0.900 \\substack{-0.057 \\\\ +0.063}}}\r\n",
      "\\newcommand{\\wGammasfCRoneSixteen} {\\ensuremath{1.324 \\substack{-0.057 \\\\ +0.055}}}\r\n",
      "\\newcommand{\\misIDsfCRtowSixteen} {\\ensuremath{2.330 \\substack{-0.129 \\\\ +0.139}}}\r\n",
      "\\newcommand{\\zGammasfCRtowSixteen} {\\ensuremath{0.925 \\substack{-0.129 \\\\ +0.165}}}\r\n",
      "\\newcommand{\\wGammasfCRtowSixteen} {\\ensuremath{1.324 \\substack{-0.129 \\\\ +0.116}}}\r\n",
      "\\newcommand{\\misIDsfCRthreeSixteen} {\\ensuremath{2.174 \\substack{-0.220 \\\\ +0.248}}}\r\n",
      "\\newcommand{\\zGammasfCRthreeSixteen} {\\ensuremath{1.825 \\substack{-0.220 \\\\ +0.273}}}\r\n",
      "\\newcommand{\\wGammasfCRthreeSixteen} {\\ensuremath{1.149 \\substack{-0.220 \\\\ +0.138}}}\r\n",
      "\\newcommand{\\misIDsfCRfourSixteen} {\\ensuremath{2.307 \\substack{-0.199 \\\\ +0.219}}}\r\n",
      "\\newcommand{\\zGammasfCRfourSixteen} {\\ensuremath{1.174 \\substack{-0.199 \\\\ +0.224}}}\r\n",
      "\\newcommand{\\wGammasfCRfourSixteen} {\\ensuremath{1.801 \\substack{-0.199 \\\\ +0.441}}}\r\n",
      "\\newcommand{\\misIDsfCRallSeventeen} {\\ensuremath{2.566 \\substack{-0.070 \\\\ +0.073}}}\r\n",
      "\\newcommand{\\zGammasfCRallSeventeen} {\\ensuremath{0.598 \\substack{-0.070 \\\\ +0.052}}}\r\n",
      "\\newcommand{\\wGammasfCRallSeventeen} {\\ensuremath{1.075 \\substack{-0.070 \\\\ +0.054}}}\r\n",
      "\\newcommand{\\misIDsfCRoneSeventeen} {\\ensuremath{2.517 \\substack{-0.076 \\\\ +0.080}}}\r\n",
      "\\newcommand{\\zGammasfCRoneSeventeen} {\\ensuremath{0.546 \\substack{-0.076 \\\\ +0.054}}}\r\n",
      "\\newcommand{\\wGammasfCRoneSeventeen} {\\ensuremath{1.150 \\substack{-0.076 \\\\ +0.062}}}\r\n",
      "\\newcommand{\\misIDsfCRtowSeventeen} {\\ensuremath{2.735 \\substack{-0.173 \\\\ +0.191}}}\r\n",
      "\\newcommand{\\zGammasfCRtowSeventeen} {\\ensuremath{0.663 \\substack{-0.173 \\\\ +0.131}}}\r\n",
      "\\newcommand{\\wGammasfCRtowSeventeen} {\\ensuremath{1.103 \\substack{-0.173 \\\\ +0.109}}}\r\n",
      "\\newcommand{\\misIDsfCRthreeSeventeen} {\\ensuremath{3.019 \\substack{-0.350 \\\\ +0.424}}}\r\n",
      "\\newcommand{\\zGammasfCRthreeSeventeen} {\\ensuremath{2.880 \\substack{-0.350 \\\\ +0.354}}}\r\n",
      "\\newcommand{\\wGammasfCRthreeSeventeen} {\\ensuremath{0.408 \\substack{-0.350 \\\\ +0.123}}}\r\n",
      "\\newcommand{\\misIDsfCRfourSeventeen} {\\ensuremath{3.276 \\substack{-0.297 \\\\ +0.331}}}\r\n",
      "\\newcommand{\\zGammasfCRfourSeventeen} {\\ensuremath{1.008 \\substack{-0.297 \\\\ +0.360}}}\r\n",
      "\\newcommand{\\wGammasfCRfourSeventeen} {\\ensuremath{-4.898 \\substack{-0.297 \\\\ +1.518}}}\r\n",
      "\\newcommand{\\misIDsfCRallEighteen} {\\ensuremath{1.620 \\substack{-0.041 \\\\ +0.042}}}\r\n",
      "\\newcommand{\\zGammasfCRallEighteen} {\\ensuremath{1.170 \\substack{-0.041 \\\\ +0.071}}}\r\n",
      "\\newcommand{\\wGammasfCRallEighteen} {\\ensuremath{1.577 \\substack{-0.041 \\\\ +0.060}}}\r\n",
      "\\newcommand{\\misIDsfCRoneEighteen} {\\ensuremath{1.634 \\substack{-0.038 \\\\ +0.039}}}\r\n",
      "\\newcommand{\\zGammasfCRoneEighteen} {\\ensuremath{1.063 \\substack{-0.038 \\\\ +0.071}}}\r\n",
      "\\newcommand{\\wGammasfCRoneEighteen} {\\ensuremath{1.610 \\substack{-0.038 \\\\ +0.069}}}\r\n",
      "\\newcommand{\\misIDsfCRtowEighteen} {\\ensuremath{1.646 \\substack{-0.099 \\\\ +0.107}}}\r\n",
      "\\newcommand{\\zGammasfCRtowEighteen} {\\ensuremath{1.467 \\substack{-0.099 \\\\ +0.148}}}\r\n",
      "\\newcommand{\\wGammasfCRtowEighteen} {\\ensuremath{1.498 \\substack{-0.099 \\\\ +0.113}}}\r\n",
      "\\newcommand{\\misIDsfCRthreeEighteen} {\\ensuremath{1.707 \\substack{-0.174 \\\\ +0.199}}}\r\n",
      "\\newcommand{\\zGammasfCRthreeEighteen} {\\ensuremath{1.176 \\substack{-0.174 \\\\ +0.588}}}\r\n",
      "\\newcommand{\\wGammasfCRthreeEighteen} {\\ensuremath{2.172 \\substack{-0.174 \\\\ +0.284}}}\r\n",
      "\\newcommand{\\misIDsfCRfourEighteen} {\\ensuremath{1.794 \\substack{-0.133 \\\\ +0.148}}}\r\n",
      "\\newcommand{\\zGammasfCRfourEighteen} {\\ensuremath{1.114 \\substack{-0.133 \\\\ +0.196}}}\r\n",
      "\\newcommand{\\wGammasfCRfourEighteen} {\\ensuremath{2.073 \\substack{-0.133 \\\\ +0.380}}}\r\n"
     ]
    }
   ],
   "source": [
    "!cat MisIDEleSFvalues.tex"
   ]
  },
  {
   "cell_type": "code",
   "execution_count": null,
   "metadata": {},
   "outputs": [],
   "source": []
  }
 ],
 "metadata": {
  "kernelspec": {
   "display_name": "Python 2",
   "language": "python",
   "name": "python2"
  },
  "language_info": {
   "codemirror_mode": {
    "name": "ipython",
    "version": 2
   },
   "file_extension": ".py",
   "mimetype": "text/x-python",
   "name": "python",
   "nbconvert_exporter": "python",
   "pygments_lexer": "ipython2",
   "version": "2.7.14+"
  }
 },
 "nbformat": 4,
 "nbformat_minor": 2
}
