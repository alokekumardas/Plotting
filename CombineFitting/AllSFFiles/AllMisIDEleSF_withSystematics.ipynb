{
 "cells": [
  {
   "cell_type": "code",
   "execution_count": 2,
   "metadata": {},
   "outputs": [
    {
     "name": "stdout",
     "output_type": "stream",
     "text": [
      "Welcome to JupyROOT 6.12/07\n",
      "/uscms_data/d3/npoudyal/TTGammaSemiLeptonic13TeV/CMSSW_10_2_14/src/TTGammaSemiLep_13TeV/Plotting/CombineFitting/AllSFFiles\r\n"
     ]
    }
   ],
   "source": [
    "import ROOT\n",
    "!pwd"
   ]
  },
  {
   "cell_type": "code",
   "execution_count": 3,
   "metadata": {},
   "outputs": [],
   "source": [
    "ListOfFiles = [\"fitDiagnosticsCR123.root\", \"fitDiagnosticsCR1.root\",  \"fitDiagnosticsCR2.root\", \"fitDiagnosticsCR3.root\",\"fitDiagnosticsCR4.root\"]"
   ]
  },
  {
   "cell_type": "code",
   "execution_count": 4,
   "metadata": {},
   "outputs": [],
   "source": [
    "controlRegionDict ={\"SR8\":\"tight\", \"CR123\":\"looseCRge2e0\", \"AR\":\"looseCRge2ge0\", \"CR7\":\"looseCRe3ge2\", \"CR3\":\"looseCRge4e0\", \"CR2\":\"looseCRe3e0\", \n",
    "\t\t\t\t   \"CR4\":\"looseCRe2e1\", \"CR1\":\"looseCRe2e0\", \"CR6\":\"looseCRe2e2\", \"CR5\":\"looseCRe3e1\" }\n",
    "\n",
    "\n",
    "CRDictMisID ={\"SR8\":\"misIDsfSReight\", \"CR123\":\"misIDsfCRall\", \"CR7\":\"misIDsfCRseven\", \"CR3\":\"misIDsfCRthree\", \"CR2\":\"misIDsfCRtwo\", \n",
    "\t\t \"CR4\":\"misIDsfCRfour\", \"CR1\":\"misIDsfCRone\", \"CR6\":\"misIDsfCRsix\", \"CR5\":\"misIDsfCRfive\" }\n",
    "\n",
    "CRDictZGamma ={\"SR8\":\"zGammasfSReight\", \"CR123\":\"zGammasfCRall\", \"CR7\":\"zGammasfCRseven\", \"CR3\":\"zGammasfCRthree\", \"CR2\":\"zGammasfCRtwo\", \n",
    "\t\t \"CR4\":\"zGammasfCRfour\", \"CR1\":\"zGammasfCRone\", \"CR6\":\"zGammasfCRsix\", \"CR5\":\"zGammasfCRfive\" }\n",
    "\n",
    "CRDictWGamma ={\"SR8\":\"wGammasfSReight\", \"CR123\":\"wGammasfCRall\", \"CR7\":\"wGammasfCRseven\", \"CR3\":\"wGammasfCRthree\", \"CR2\":\"wGammasfCRtwo\", \n",
    "\t\t \"CR4\":\"wGammasfCRfour\", \"CR1\":\"wGammasfCRone\", \"CR6\":\"wGammasfCRsix\", \"CR5\":\"wGammasfCRfive\" }"
   ]
  },
  {
   "cell_type": "code",
   "execution_count": 5,
   "metadata": {},
   "outputs": [],
   "source": [
    "line = \"\"\n",
    "for ifile in ListOfFiles:\n",
    "    myfile = ROOT.TFile(\"../MisIDEleFittingWithSystematics_test/\"+ifile,\"read\")\n",
    "    if myfile.GetListOfKeys().Contains(\"fit_s\") is False:\n",
    "        print ifile[14:-5], \": Fit failed.\"\n",
    "        continue\n",
    "    fit_s = myfile.Get(\"fit_s\")\n",
    "    line += \"MisIDEleSF_2016_%s = %.3f \\n\"%(controlRegionDict[ifile[14:-5]],fit_s.floatParsFinal().find(\"r\").getVal())\n",
    "    line +=   \"ZGammaSF_2016_%s = %.3f \\n\"%(controlRegionDict[ifile[14:-5]],fit_s.floatParsFinal().find(\"ZGammaBkgPhotonSF\").getVal())\n",
    "    line +=   \"WGammaSF_2016_%s = %.3f \\n\"%(controlRegionDict[ifile[14:-5]],fit_s.floatParsFinal().find(\"WGammaBkgPhotonSF\").getVal())\n",
    "\n",
    "# for ifile in ListOfFiles:\n",
    "#     myfile = ROOT.TFile(\"../MisIDEleFittingWithSystematics_test/\"+ifile,\"read\")\n",
    "#     if myfile.GetListOfKeys().Contains(\"fit_s\") is False:\n",
    "#         print ifile[14:-5], \": Fit failed.\"\n",
    "#         continue\n",
    "#     fit_s = myfile.Get(\"fit_s\")\n",
    "#     line += \"MisIDEleSF_2017_%s = %.3f \\n\"%(controlRegionDict[ifile[14:-5]],fit_s.floatParsFinal().find(\"r\").getVal())\n",
    "#     line +=   \"ZGammaSF_2017_%s = %.3f \\n\"%(controlRegionDict[ifile[14:-5]],fit_s.floatParsFinal().find(\"ZGammaBkgPhotonSF\").getVal())\n",
    "#     line +=   \"WGammaSF_2017_%s = %.3f \\n\"%(controlRegionDict[ifile[14:-5]],fit_s.floatParsFinal().find(\"WGammaBkgPhotonSF\").getVal())\n",
    "   \n",
    "# for ifile in ListOfFiles:\n",
    "#     myfile = ROOT.TFile(\"../MisIDEleFittingWithSystematics_test/\"+ifile,\"read\")\n",
    "#     if myfile.GetListOfKeys().Contains(\"fit_s\") is False:\n",
    "#         print ifile[14:-5], \": Fit failed.\"\n",
    "#         continue\n",
    "#     fit_s = myfile.Get(\"fit_s\")\n",
    "#     line += \"MisIDEleSF_2018_%s = %.3f \\n\"%(controlRegionDict[ifile[14:-5]],fit_s.floatParsFinal().find(\"r\").getVal())\n",
    "#     line +=   \"ZGammaSF_2018_%s = %.3f \\n\"%(controlRegionDict[ifile[14:-5]],fit_s.floatParsFinal().find(\"ZGammaBkgPhotonSF\").getVal())\n",
    "#     line +=   \"WGammaSF_2018_%s = %.3f \\n\"%(controlRegionDict[ifile[14:-5]],fit_s.floatParsFinal().find(\"WGammaBkgPhotonSF\").getVal())\n",
    "\n",
    "with open(\"MisIDEleSFvalues.py\",\"w\") as _file:\n",
    "    _file.write(line)\n",
    "\n",
    "## copy the file to plotting folder\n",
    "!cp MisIDEleSFvalues.py /uscms_data/d3/npoudyal/TTGammaSemiLeptonic13TeV/CMSSW_10_2_14/src/TTGammaSemiLep_13TeV/Plotting"
   ]
  },
  {
   "cell_type": "code",
   "execution_count": 6,
   "metadata": {},
   "outputs": [
    {
     "name": "stdout",
     "output_type": "stream",
     "text": [
      "MisIDEleSF_2016_looseCRge2e0 = 2.148 \r\n",
      "ZGammaSF_2016_looseCRge2e0 = 1.002 \r\n",
      "WGammaSF_2016_looseCRge2e0 = 1.207 \r\n",
      "MisIDEleSF_2016_looseCRe2e0 = 2.159 \r\n",
      "ZGammaSF_2016_looseCRe2e0 = 0.920 \r\n",
      "WGammaSF_2016_looseCRe2e0 = 1.330 \r\n",
      "MisIDEleSF_2016_looseCRe3e0 = 2.362 \r\n",
      "ZGammaSF_2016_looseCRe3e0 = 1.128 \r\n",
      "WGammaSF_2016_looseCRe3e0 = 1.018 \r\n",
      "MisIDEleSF_2016_looseCRge4e0 = 1.923 \r\n",
      "ZGammaSF_2016_looseCRge4e0 = 1.585 \r\n",
      "WGammaSF_2016_looseCRge4e0 = 0.949 \r\n",
      "MisIDEleSF_2016_looseCRe2e1 = 2.143 \r\n",
      "ZGammaSF_2016_looseCRe2e1 = 0.919 \r\n",
      "WGammaSF_2016_looseCRe2e1 = 1.332 \r\n"
     ]
    }
   ],
   "source": [
    "!cat MisIDEleSFvalues.py"
   ]
  },
  {
   "cell_type": "code",
   "execution_count": 7,
   "metadata": {},
   "outputs": [],
   "source": [
    "line = \"\"\n",
    "for ifile in ListOfFiles:\n",
    "    myfile = ROOT.TFile(\"../MisIDEleFittingWithSystematics_test/\"+ifile,\"read\")\n",
    "    if myfile.GetListOfKeys().Contains(\"fit_s\") is False:\n",
    "        print ifile[14:-5], \": Fit failed.\"\n",
    "        continue\n",
    "    fit_s = myfile.Get(\"fit_s\")\n",
    "    line += \"\\\\newcommand{\\\\%s} {\\ensuremath{%.3f \\\\substack{%.3f \\\\\\\\ +%.3f}}}\\n\"%(CRDictMisID[ifile[14:-5]]+\"Sixteen\",fit_s.floatParsFinal().find(\"r\").getVal(),fit_s.floatParsFinal().find(\"r\").getErrorLo(),fit_s.floatParsFinal().find(\"r\").getErrorHi())\n",
    "    line += \"\\\\newcommand{\\\\%s} {\\ensuremath{%.3f \\\\substack{%.3f \\\\\\\\ +%.3f}}}\\n\"%(CRDictZGamma[ifile[14:-5]]+\"Sixteen\",fit_s.floatParsFinal().find(\"ZGammaBkgPhotonSF\").getVal(),fit_s.floatParsFinal().find(\"r\").getErrorLo(),fit_s.floatParsFinal().find(\"ZGammaBkgPhotonSF\").getErrorHi())\n",
    "    line += \"\\\\newcommand{\\\\%s} {\\ensuremath{%.3f \\\\substack{%.3f \\\\\\\\ +%.3f}}}\\n\"%(CRDictWGamma[ifile[14:-5]]+\"Sixteen\",fit_s.floatParsFinal().find(\"WGammaBkgPhotonSF\").getVal(),fit_s.floatParsFinal().find(\"r\").getErrorLo(),fit_s.floatParsFinal().find(\"WGammaBkgPhotonSF\").getErrorHi())\n",
    "\n",
    "for ifile in ListOfFiles:\n",
    "    myfile = ROOT.TFile(\"../MisIDEleFittingWithSystematics_test/\"+ifile,\"read\")\n",
    "    if myfile.GetListOfKeys().Contains(\"fit_s\") is False:\n",
    "        print ifile[14:-5], \": Fit failed.\"\n",
    "        continue\n",
    "    fit_s = myfile.Get(\"fit_s\")\n",
    "    line += \"\\\\newcommand{\\\\%s} {\\ensuremath{%.3f \\\\substack{%.3f \\\\\\\\ +%.3f}}}\\n\"%(CRDictMisID[ifile[14:-5]]+\"Seventeen\",fit_s.floatParsFinal().find(\"r\").getVal(),fit_s.floatParsFinal().find(\"r\").getErrorLo(),fit_s.floatParsFinal().find(\"r\").getErrorHi())\n",
    "    line += \"\\\\newcommand{\\\\%s} {\\ensuremath{%.3f \\\\substack{%.3f \\\\\\\\ +%.3f}}}\\n\"%(CRDictZGamma[ifile[14:-5]]+\"Seventeen\",fit_s.floatParsFinal().find(\"ZGammaBkgPhotonSF\").getVal(),fit_s.floatParsFinal().find(\"r\").getErrorLo(),fit_s.floatParsFinal().find(\"ZGammaBkgPhotonSF\").getErrorHi())\n",
    "    line += \"\\\\newcommand{\\\\%s} {\\ensuremath{%.3f \\\\substack{%.3f \\\\\\\\ +%.3f}}}\\n\"%(CRDictWGamma[ifile[14:-5]]+\"Seventeen\",fit_s.floatParsFinal().find(\"WGammaBkgPhotonSF\").getVal(),fit_s.floatParsFinal().find(\"r\").getErrorLo(),fit_s.floatParsFinal().find(\"WGammaBkgPhotonSF\").getErrorHi())\n",
    "\n",
    "   \n",
    "for ifile in ListOfFiles:\n",
    "    myfile = ROOT.TFile(\"../MisIDEleFittingWithSystematics_test/\"+ifile,\"read\")\n",
    "    if myfile.GetListOfKeys().Contains(\"fit_s\") is False:\n",
    "        print ifile[14:-5], \": Fit failed.\"\n",
    "        continue\n",
    "    fit_s = myfile.Get(\"fit_s\")\n",
    "    line += \"\\\\newcommand{\\\\%s} {\\ensuremath{%.3f \\\\substack{%.3f \\\\\\\\ +%.3f}}}\\n\"%(CRDictMisID[ifile[14:-5]]+\"Eighteen\",fit_s.floatParsFinal().find(\"r\").getVal(),fit_s.floatParsFinal().find(\"r\").getErrorLo(),fit_s.floatParsFinal().find(\"r\").getErrorHi())\n",
    "    line += \"\\\\newcommand{\\\\%s} {\\ensuremath{%.3f \\\\substack{%.3f \\\\\\\\ +%.3f}}}\\n\"%(CRDictZGamma[ifile[14:-5]]+\"Eighteen\",fit_s.floatParsFinal().find(\"ZGammaBkgPhotonSF\").getVal(),fit_s.floatParsFinal().find(\"r\").getErrorLo(),fit_s.floatParsFinal().find(\"ZGammaBkgPhotonSF\").getErrorHi())\n",
    "    line += \"\\\\newcommand{\\\\%s} {\\ensuremath{%.3f \\\\substack{%.3f \\\\\\\\ +%.3f}}}\\n\"%(CRDictWGamma[ifile[14:-5]]+\"Eighteen\",fit_s.floatParsFinal().find(\"WGammaBkgPhotonSF\").getVal(),fit_s.floatParsFinal().find(\"r\").getErrorLo(),fit_s.floatParsFinal().find(\"WGammaBkgPhotonSF\").getErrorHi())\n",
    "\n",
    "\n",
    "with open(\"MisIDEleSFvalues.tex\",\"w\") as _file:\n",
    "    _file.write(line)\n",
    "\n",
    "## copy the file to plotting folder\n",
    "!cp MisIDEleSFvalues.tex ../AllTexFiles "
   ]
  },
  {
   "cell_type": "code",
   "execution_count": 8,
   "metadata": {},
   "outputs": [
    {
     "name": "stdout",
     "output_type": "stream",
     "text": [
      "\\newcommand{\\misIDsfCRallSixteen} {\\ensuremath{2.148 \\substack{-0.046 \\\\ +0.048}}}\r\n",
      "\\newcommand{\\zGammasfCRallSixteen} {\\ensuremath{1.002 \\substack{-0.046 \\\\ +0.063}}}\r\n",
      "\\newcommand{\\wGammasfCRallSixteen} {\\ensuremath{1.207 \\substack{-0.046 \\\\ +0.057}}}\r\n",
      "\\newcommand{\\misIDsfCRoneSixteen} {\\ensuremath{2.159 \\substack{-0.051 \\\\ +0.052}}}\r\n",
      "\\newcommand{\\zGammasfCRoneSixteen} {\\ensuremath{0.920 \\substack{-0.051 \\\\ +0.063}}}\r\n",
      "\\newcommand{\\wGammasfCRoneSixteen} {\\ensuremath{1.330 \\substack{-0.051 \\\\ +0.060}}}\r\n",
      "\\newcommand{\\misIDsfCRtwoSixteen} {\\ensuremath{2.362 \\substack{-0.126 \\\\ +0.135}}}\r\n",
      "\\newcommand{\\zGammasfCRtwoSixteen} {\\ensuremath{1.128 \\substack{-0.126 \\\\ +0.161}}}\r\n",
      "\\newcommand{\\wGammasfCRtwoSixteen} {\\ensuremath{1.018 \\substack{-0.126 \\\\ +0.129}}}\r\n",
      "\\newcommand{\\misIDsfCRthreeSixteen} {\\ensuremath{1.923 \\substack{-0.175 \\\\ +0.191}}}\r\n",
      "\\newcommand{\\zGammasfCRthreeSixteen} {\\ensuremath{1.585 \\substack{-0.175 \\\\ +0.352}}}\r\n",
      "\\newcommand{\\wGammasfCRthreeSixteen} {\\ensuremath{0.949 \\substack{-0.175 \\\\ +0.185}}}\r\n",
      "\\newcommand{\\misIDsfCRfourSixteen} {\\ensuremath{2.143 \\substack{-0.050 \\\\ +0.052}}}\r\n",
      "\\newcommand{\\zGammasfCRfourSixteen} {\\ensuremath{0.919 \\substack{-0.050 \\\\ +0.063}}}\r\n",
      "\\newcommand{\\wGammasfCRfourSixteen} {\\ensuremath{1.332 \\substack{-0.050 \\\\ +0.060}}}\r\n",
      "\\newcommand{\\misIDsfCRallSeventeen} {\\ensuremath{2.148 \\substack{-0.046 \\\\ +0.048}}}\r\n",
      "\\newcommand{\\zGammasfCRallSeventeen} {\\ensuremath{1.002 \\substack{-0.046 \\\\ +0.063}}}\r\n",
      "\\newcommand{\\wGammasfCRallSeventeen} {\\ensuremath{1.207 \\substack{-0.046 \\\\ +0.057}}}\r\n",
      "\\newcommand{\\misIDsfCRoneSeventeen} {\\ensuremath{2.159 \\substack{-0.051 \\\\ +0.052}}}\r\n",
      "\\newcommand{\\zGammasfCRoneSeventeen} {\\ensuremath{0.920 \\substack{-0.051 \\\\ +0.063}}}\r\n",
      "\\newcommand{\\wGammasfCRoneSeventeen} {\\ensuremath{1.330 \\substack{-0.051 \\\\ +0.060}}}\r\n",
      "\\newcommand{\\misIDsfCRtwoSeventeen} {\\ensuremath{2.362 \\substack{-0.126 \\\\ +0.135}}}\r\n",
      "\\newcommand{\\zGammasfCRtwoSeventeen} {\\ensuremath{1.128 \\substack{-0.126 \\\\ +0.161}}}\r\n",
      "\\newcommand{\\wGammasfCRtwoSeventeen} {\\ensuremath{1.018 \\substack{-0.126 \\\\ +0.129}}}\r\n",
      "\\newcommand{\\misIDsfCRthreeSeventeen} {\\ensuremath{1.923 \\substack{-0.175 \\\\ +0.191}}}\r\n",
      "\\newcommand{\\zGammasfCRthreeSeventeen} {\\ensuremath{1.585 \\substack{-0.175 \\\\ +0.352}}}\r\n",
      "\\newcommand{\\wGammasfCRthreeSeventeen} {\\ensuremath{0.949 \\substack{-0.175 \\\\ +0.185}}}\r\n",
      "\\newcommand{\\misIDsfCRfourSeventeen} {\\ensuremath{2.143 \\substack{-0.050 \\\\ +0.052}}}\r\n",
      "\\newcommand{\\zGammasfCRfourSeventeen} {\\ensuremath{0.919 \\substack{-0.050 \\\\ +0.063}}}\r\n",
      "\\newcommand{\\wGammasfCRfourSeventeen} {\\ensuremath{1.332 \\substack{-0.050 \\\\ +0.060}}}\r\n",
      "\\newcommand{\\misIDsfCRallEighteen} {\\ensuremath{2.148 \\substack{-0.046 \\\\ +0.048}}}\r\n",
      "\\newcommand{\\zGammasfCRallEighteen} {\\ensuremath{1.002 \\substack{-0.046 \\\\ +0.063}}}\r\n",
      "\\newcommand{\\wGammasfCRallEighteen} {\\ensuremath{1.207 \\substack{-0.046 \\\\ +0.057}}}\r\n",
      "\\newcommand{\\misIDsfCRoneEighteen} {\\ensuremath{2.159 \\substack{-0.051 \\\\ +0.052}}}\r\n",
      "\\newcommand{\\zGammasfCRoneEighteen} {\\ensuremath{0.920 \\substack{-0.051 \\\\ +0.063}}}\r\n",
      "\\newcommand{\\wGammasfCRoneEighteen} {\\ensuremath{1.330 \\substack{-0.051 \\\\ +0.060}}}\r\n",
      "\\newcommand{\\misIDsfCRtwoEighteen} {\\ensuremath{2.362 \\substack{-0.126 \\\\ +0.135}}}\r\n",
      "\\newcommand{\\zGammasfCRtwoEighteen} {\\ensuremath{1.128 \\substack{-0.126 \\\\ +0.161}}}\r\n",
      "\\newcommand{\\wGammasfCRtwoEighteen} {\\ensuremath{1.018 \\substack{-0.126 \\\\ +0.129}}}\r\n",
      "\\newcommand{\\misIDsfCRthreeEighteen} {\\ensuremath{1.923 \\substack{-0.175 \\\\ +0.191}}}\r\n",
      "\\newcommand{\\zGammasfCRthreeEighteen} {\\ensuremath{1.585 \\substack{-0.175 \\\\ +0.352}}}\r\n",
      "\\newcommand{\\wGammasfCRthreeEighteen} {\\ensuremath{0.949 \\substack{-0.175 \\\\ +0.185}}}\r\n",
      "\\newcommand{\\misIDsfCRfourEighteen} {\\ensuremath{2.143 \\substack{-0.050 \\\\ +0.052}}}\r\n",
      "\\newcommand{\\zGammasfCRfourEighteen} {\\ensuremath{0.919 \\substack{-0.050 \\\\ +0.063}}}\r\n",
      "\\newcommand{\\wGammasfCRfourEighteen} {\\ensuremath{1.332 \\substack{-0.050 \\\\ +0.060}}}\r\n"
     ]
    }
   ],
   "source": [
    "!cat MisIDEleSFvalues.tex"
   ]
  },
  {
   "cell_type": "code",
   "execution_count": null,
   "metadata": {},
   "outputs": [],
   "source": []
  }
 ],
 "metadata": {
  "kernelspec": {
   "display_name": "Python 2",
   "language": "python",
   "name": "python2"
  },
  "language_info": {
   "codemirror_mode": {
    "name": "ipython",
    "version": 2
   },
   "file_extension": ".py",
   "mimetype": "text/x-python",
   "name": "python",
   "nbconvert_exporter": "python",
   "pygments_lexer": "ipython2",
   "version": "2.7.14+"
  }
 },
 "nbformat": 4,
 "nbformat_minor": 2
}
