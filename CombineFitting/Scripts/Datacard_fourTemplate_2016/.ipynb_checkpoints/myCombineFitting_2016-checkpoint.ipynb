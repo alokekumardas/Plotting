{
 "cells": [
  {
   "cell_type": "code",
   "execution_count": 30,
   "metadata": {},
   "outputs": [],
   "source": [
    "import ROOT\n",
    "import os"
   ]
  },
  {
   "cell_type": "code",
   "execution_count": 31,
   "metadata": {},
   "outputs": [
    {
     "name": "stdout",
     "output_type": "stream",
     "text": [
      "/uscms_data/d3/npoudyal/TTGammaSemiLeptonic13TeV/CMSSW_10_2_14/src/HiggsAnalysis/CombinedLimit/ttgammaCombineFitting/Datacard_fourTemplate_2016\r\n"
     ]
    }
   ],
   "source": [
    "# !combine --help\n",
    "!pwd\n"
   ]
  },
  {
   "cell_type": "markdown",
   "metadata": {},
   "source": [
    "### Important:\n",
    "signal strength r = (number of signal events / number of expected signal events).    \n",
    "It scales the signal up and down in such a way after considering all the nuisance parameters. Signal strength * signal = eg. expectation of number of events in the cut and count physics process.\n",
    "data_obs = e.g., observed number of events in the data\n",
    "POI = e.g., ttgamma crossection which is burried in signal histogram. \n",
    "\n",
    "### FitDiagnostics:\n",
    "performs maximum likelihood fits to extract the signal yield and provide diagnostic tools such as pre and post-fit models and correlations\n",
    "\n",
    "### MultiDimFit:\n",
    "perform maximum likelihood fits in multiple parameters and likelihood scans"
   ]
  },
  {
   "cell_type": "markdown",
   "metadata": {},
   "source": [
    "### Doing exercise for misIDEle"
   ]
  },
  {
   "cell_type": "code",
   "execution_count": 32,
   "metadata": {},
   "outputs": [],
   "source": [
    "# myfile = ROOT.TFile(\"MyFiles/pho_looseCRe2e0plots_ele_2016/myMisIDEle_Prefit.root\")\n",
    "# myfile.ls()\n",
    "# MyDataHist = myfile.Get(\"myData\")\n",
    "# MisIDEle   = myfile.Get(\"myMisIDEle\")\n",
    "# MisIDEle.SetLineWidth(2)\n",
    "# MisIDEle.SetLineColor(2)\n",
    "# OtherHist  = myfile.Get(\"myBackground\")\n",
    "# OtherHist.SetLineWidth(2)\n",
    "# OtherHist.SetLineColor(3)\n",
    "\n",
    "# c = ROOT.TCanvas()\n",
    "# MyDataHist.Draw(\"hist\")\n",
    "# MisIDEle.Draw(\"same\") # red\n",
    "# OtherHist.Draw(\"same\") # yellow\n",
    "# c.Draw()\n"
   ]
  },
  {
   "cell_type": "code",
   "execution_count": 33,
   "metadata": {},
   "outputs": [],
   "source": [
    "# !text2workspace.py datacard_AR.txt"
   ]
  },
  {
   "cell_type": "code",
   "execution_count": 34,
   "metadata": {},
   "outputs": [],
   "source": [
    "# f_shapes_TH1 = ROOT.TFile(\"datacard_AR.root\",\"READ\")\n",
    "# w_shapes_TH1 = f_shapes_TH1.Get(\"w\")\n",
    "# w_shapes_TH1.Print()"
   ]
  },
  {
   "cell_type": "code",
   "execution_count": 35,
   "metadata": {},
   "outputs": [],
   "source": [
    "# !python ../test/printWorkspaceNormalisations.py datacard_AR.root"
   ]
  },
  {
   "cell_type": "code",
   "execution_count": 36,
   "metadata": {},
   "outputs": [],
   "source": [
    "# !combine -M MultiDimFit -n AR  datacard_AR.txt --redefineSignalPOIs r,mybackground_norm"
   ]
  },
  {
   "cell_type": "code",
   "execution_count": 37,
   "metadata": {},
   "outputs": [],
   "source": [
    "# !combine -M MultiDimFit -n AR  datacard_AR.txt --redefineSignalPOIs r,WGammaSF"
   ]
  },
  {
   "cell_type": "code",
   "execution_count": 38,
   "metadata": {
    "scrolled": false
   },
   "outputs": [
    {
     "name": "stdout",
     "output_type": "stream",
     "text": [
      "\n",
      ">>> method used is MultiDimFit\n",
      ">>> random number generator seed is 123456\n",
      "Traceback (most recent call last):\n",
      "  File \"/uscms_data/d3/npoudyal/TTGammaSemiLeptonic13TeV/CMSSW_10_2_14/bin/slc6_amd64_gcc700/text2workspace.py\", line 62, in <module>\n",
      "    MB.doModel()\n",
      "  File \"/uscms_data/d3/npoudyal/TTGammaSemiLeptonic13TeV/CMSSW_10_2_14/python/HiggsAnalysis/CombinedLimit/ModelTools.py\", line 110, in doModel\n",
      "    self.doObservables()\n",
      "  File \"/uscms_data/d3/npoudyal/TTGammaSemiLeptonic13TeV/CMSSW_10_2_14/python/HiggsAnalysis/CombinedLimit/ShapeTools.py\", line 33, in doObservables\n",
      "    self.prepareAllShapes();\n",
      "  File \"/uscms_data/d3/npoudyal/TTGammaSemiLeptonic13TeV/CMSSW_10_2_14/python/HiggsAnalysis/CombinedLimit/ShapeTools.py\", line 287, in prepareAllShapes\n",
      "    shape = self.getShape(b,p); norm = 0;\n",
      "  File \"/uscms_data/d3/npoudyal/TTGammaSemiLeptonic13TeV/CMSSW_10_2_14/python/HiggsAnalysis/CombinedLimit/ShapeTools.py\", line 526, in getShape\n",
      "    raise RuntimeError, \"Failed to find %s in file %s (from pattern %s, %s)\" % (objname,finalNames[0],names[1],names[0])\n",
      "RuntimeError: Failed to find WGammaBkgPhoton in file ../MyFiles/fourTemplate_looseCRge2e0plots_ele_2016/fourTemplate_Prefit.root (from pattern WGammaBkgPhoton, ../MyFiles/fourTemplate_looseCRge2e0plots_ele_2016/fourTemplate_Prefit.root)\n",
      "Error when running the combination:\n",
      "\tFailed to convert the input datacard from LandS to RooStats format. The lines above probably contain more information about the error.\n"
     ]
    }
   ],
   "source": [
    "!combine -M FitDiagnostics -n CR123  datacard_CR123.txt --redefineSignalPOIs r,ZGammaBkgPhotonSF,WGammaBkgPhotonSF -v2"
   ]
  },
  {
   "cell_type": "code",
   "execution_count": 39,
   "metadata": {
    "scrolled": false
   },
   "outputs": [
    {
     "name": "stdout",
     "output_type": "stream",
     "text": [
      "\n",
      ">>> method used is MultiDimFit\n",
      ">>> random number generator seed is 123456\n",
      "Traceback (most recent call last):\n",
      "  File \"/uscms_data/d3/npoudyal/TTGammaSemiLeptonic13TeV/CMSSW_10_2_14/bin/slc6_amd64_gcc700/text2workspace.py\", line 62, in <module>\n",
      "    MB.doModel()\n",
      "  File \"/uscms_data/d3/npoudyal/TTGammaSemiLeptonic13TeV/CMSSW_10_2_14/python/HiggsAnalysis/CombinedLimit/ModelTools.py\", line 110, in doModel\n",
      "    self.doObservables()\n",
      "  File \"/uscms_data/d3/npoudyal/TTGammaSemiLeptonic13TeV/CMSSW_10_2_14/python/HiggsAnalysis/CombinedLimit/ShapeTools.py\", line 33, in doObservables\n",
      "    self.prepareAllShapes();\n",
      "  File \"/uscms_data/d3/npoudyal/TTGammaSemiLeptonic13TeV/CMSSW_10_2_14/python/HiggsAnalysis/CombinedLimit/ShapeTools.py\", line 287, in prepareAllShapes\n",
      "    shape = self.getShape(b,p); norm = 0;\n",
      "  File \"/uscms_data/d3/npoudyal/TTGammaSemiLeptonic13TeV/CMSSW_10_2_14/python/HiggsAnalysis/CombinedLimit/ShapeTools.py\", line 526, in getShape\n",
      "    raise RuntimeError, \"Failed to find %s in file %s (from pattern %s, %s)\" % (objname,finalNames[0],names[1],names[0])\n",
      "RuntimeError: Failed to find WGammaBkgPhoton in file ../MyFiles/fourTemplate_looseCRe2e0plots_ele_2016/fourTemplate_Prefit.root (from pattern WGammaBkgPhoton, ../MyFiles/fourTemplate_looseCRe2e0plots_ele_2016/fourTemplate_Prefit.root)\n",
      "Error when running the combination:\n",
      "\tFailed to convert the input datacard from LandS to RooStats format. The lines above probably contain more information about the error.\n"
     ]
    }
   ],
   "source": [
    "!combine -M FitDiagnostics -n CR1  datacard_CR1.txt --redefineSignalPOIs r,ZGammaBkgPhotonSF,WGammaBkgPhotonSF -v2"
   ]
  },
  {
   "cell_type": "code",
   "execution_count": 40,
   "metadata": {
    "scrolled": false
   },
   "outputs": [
    {
     "name": "stdout",
     "output_type": "stream",
     "text": [
      "\n",
      ">>> method used is MultiDimFit\n",
      ">>> random number generator seed is 123456\n",
      "Traceback (most recent call last):\n",
      "  File \"/uscms_data/d3/npoudyal/TTGammaSemiLeptonic13TeV/CMSSW_10_2_14/bin/slc6_amd64_gcc700/text2workspace.py\", line 62, in <module>\n",
      "    MB.doModel()\n",
      "  File \"/uscms_data/d3/npoudyal/TTGammaSemiLeptonic13TeV/CMSSW_10_2_14/python/HiggsAnalysis/CombinedLimit/ModelTools.py\", line 110, in doModel\n",
      "    self.doObservables()\n",
      "  File \"/uscms_data/d3/npoudyal/TTGammaSemiLeptonic13TeV/CMSSW_10_2_14/python/HiggsAnalysis/CombinedLimit/ShapeTools.py\", line 33, in doObservables\n",
      "    self.prepareAllShapes();\n",
      "  File \"/uscms_data/d3/npoudyal/TTGammaSemiLeptonic13TeV/CMSSW_10_2_14/python/HiggsAnalysis/CombinedLimit/ShapeTools.py\", line 287, in prepareAllShapes\n",
      "    shape = self.getShape(b,p); norm = 0;\n",
      "  File \"/uscms_data/d3/npoudyal/TTGammaSemiLeptonic13TeV/CMSSW_10_2_14/python/HiggsAnalysis/CombinedLimit/ShapeTools.py\", line 526, in getShape\n",
      "    raise RuntimeError, \"Failed to find %s in file %s (from pattern %s, %s)\" % (objname,finalNames[0],names[1],names[0])\n",
      "RuntimeError: Failed to find WGammaBkgPhoton in file ../MyFiles/fourTemplate_looseCRe3e0plots_ele_2016/fourTemplate_Prefit.root (from pattern WGammaBkgPhoton, ../MyFiles/fourTemplate_looseCRe3e0plots_ele_2016/fourTemplate_Prefit.root)\n",
      "Error when running the combination:\n",
      "\tFailed to convert the input datacard from LandS to RooStats format. The lines above probably contain more information about the error.\n"
     ]
    }
   ],
   "source": [
    "!combine -M FitDiagnostics -n CR2  datacard_CR2.txt --redefineSignalPOIs r,ZGammaBkgPhotonSF,WGammaBkgPhotonSF -v2"
   ]
  },
  {
   "cell_type": "code",
   "execution_count": 41,
   "metadata": {
    "scrolled": false
   },
   "outputs": [
    {
     "name": "stdout",
     "output_type": "stream",
     "text": [
      "\n",
      ">>> method used is MultiDimFit\n",
      ">>> random number generator seed is 123456\n",
      "Traceback (most recent call last):\n",
      "  File \"/uscms_data/d3/npoudyal/TTGammaSemiLeptonic13TeV/CMSSW_10_2_14/bin/slc6_amd64_gcc700/text2workspace.py\", line 62, in <module>\n",
      "    MB.doModel()\n",
      "  File \"/uscms_data/d3/npoudyal/TTGammaSemiLeptonic13TeV/CMSSW_10_2_14/python/HiggsAnalysis/CombinedLimit/ModelTools.py\", line 110, in doModel\n",
      "    self.doObservables()\n",
      "  File \"/uscms_data/d3/npoudyal/TTGammaSemiLeptonic13TeV/CMSSW_10_2_14/python/HiggsAnalysis/CombinedLimit/ShapeTools.py\", line 33, in doObservables\n",
      "    self.prepareAllShapes();\n",
      "  File \"/uscms_data/d3/npoudyal/TTGammaSemiLeptonic13TeV/CMSSW_10_2_14/python/HiggsAnalysis/CombinedLimit/ShapeTools.py\", line 287, in prepareAllShapes\n",
      "    shape = self.getShape(b,p); norm = 0;\n",
      "  File \"/uscms_data/d3/npoudyal/TTGammaSemiLeptonic13TeV/CMSSW_10_2_14/python/HiggsAnalysis/CombinedLimit/ShapeTools.py\", line 526, in getShape\n",
      "    raise RuntimeError, \"Failed to find %s in file %s (from pattern %s, %s)\" % (objname,finalNames[0],names[1],names[0])\n",
      "RuntimeError: Failed to find WGammaBkgPhoton in file ../MyFiles/fourTemplate_looseCRge4e0plots_ele_2016/fourTemplate_Prefit.root (from pattern WGammaBkgPhoton, ../MyFiles/fourTemplate_looseCRge4e0plots_ele_2016/fourTemplate_Prefit.root)\n",
      "Error when running the combination:\n",
      "\tFailed to convert the input datacard from LandS to RooStats format. The lines above probably contain more information about the error.\n"
     ]
    }
   ],
   "source": [
    "!combine -M FitDiagnostics -n CR3  datacard_CR3.txt --redefineSignalPOIs r,ZGammaBkgPhotonSF,WGammaBkgPhotonSF -v2"
   ]
  },
  {
   "cell_type": "code",
   "execution_count": 42,
   "metadata": {
    "scrolled": false
   },
   "outputs": [],
   "source": [
    "# !combine -M MultiDimFit -n CR4  datacard_CR4.txt --redefineSignalPOIs r,WGammaSF"
   ]
  },
  {
   "cell_type": "code",
   "execution_count": 43,
   "metadata": {
    "scrolled": false
   },
   "outputs": [],
   "source": [
    "# !combine -M MultiDimFit -n CR5  datacard_CR5.txt --redefineSignalPOIs r,WGammaSF"
   ]
  },
  {
   "cell_type": "code",
   "execution_count": 44,
   "metadata": {
    "scrolled": false
   },
   "outputs": [],
   "source": [
    "# !combine -M MultiDimFit -n CR6  datacard_CR6.txt --redefineSignalPOIs r,WGammaSF"
   ]
  },
  {
   "cell_type": "code",
   "execution_count": 45,
   "metadata": {
    "scrolled": false
   },
   "outputs": [],
   "source": [
    "# !combine -M MultiDimFit -n CR7  datacard_CR7.txt --redefineSignalPOIs r,WGammaSF"
   ]
  },
  {
   "cell_type": "code",
   "execution_count": 46,
   "metadata": {
    "scrolled": false
   },
   "outputs": [],
   "source": [
    "# !combine -M MultiDimFit -n SR8  datacard_SR8.txt --redefineSignalPOIs r,WGammaSF"
   ]
  },
  {
   "cell_type": "code",
   "execution_count": null,
   "metadata": {},
   "outputs": [],
   "source": []
  },
  {
   "cell_type": "code",
   "execution_count": 47,
   "metadata": {},
   "outputs": [],
   "source": [
    "# f_input_shapes_TH1 = ROOT.TFile(\"simple-shapes-TH1_input.root\",\"READ\")\n",
    "# f_input_shapes_TH1.ls()\n"
   ]
  },
  {
   "cell_type": "code",
   "execution_count": 48,
   "metadata": {},
   "outputs": [],
   "source": [
    "# h_background = f_input_shapes_TH1.Get(\"background\")\n",
    "# h_background.SetLineColor(ROOT.kBlack)\n",
    "# print h_background.Integral(-1,-1)\n",
    "\n",
    "# h_background_alphaUp = f_input_shapes_TH1.Get(\"background_alphaUp\")\n",
    "# h_background_alphaUp.SetLineColor(ROOT.kBlue)\n",
    "# print h_background_alphaUp.Integral(-1,-1)\n",
    "\n",
    "# h_background_alphaDown = f_input_shapes_TH1.Get(\"background_alphaDown\")\n",
    "# h_background_alphaDown.SetLineColor(ROOT.kRed)\n",
    "# print h_background_alphaDown.Integral(-1,-1)\n",
    "\n",
    "# c = ROOT.TCanvas()\n",
    "# h_background_alphaDown.Draw()\n",
    "# h_background.Draw(\"same\")\n",
    "# h_background_alphaUp.Draw(\"same\")\n",
    "\n",
    "# c.Draw()"
   ]
  },
  {
   "cell_type": "code",
   "execution_count": 49,
   "metadata": {},
   "outputs": [],
   "source": [
    "# h_signal = f_input_shapes_TH1.Get(\"signal\")\n",
    "# h_signal.SetLineColor(ROOT.kBlack)\n",
    "# print h_signal.Integral()\n",
    "\n",
    "# h_signal_sigmaUp = f_input_shapes_TH1.Get(\"signal_sigmaUp\")\n",
    "# h_signal_sigmaUp.SetLineColor(ROOT.kBlue)\n",
    "# print h_signal_sigmaUp.Integral()\n",
    "\n",
    "# h_signal_sigmaDown = f_input_shapes_TH1.Get(\"signal_sigmaDown\")\n",
    "# h_signal_sigmaDown.SetLineColor(ROOT.kRed)\n",
    "# print h_signal_sigmaDown.Integral()\n",
    "\n",
    "# c = ROOT.TCanvas()\n",
    "# h_signal_sigmaDown.Draw()\n",
    "# h_signal.Draw(\"same\")\n",
    "# h_signal_sigmaUp.Draw(\"same\")\n",
    "\n",
    "# c.Draw()"
   ]
  },
  {
   "cell_type": "markdown",
   "metadata": {},
   "source": [
    "The combine tool converts datacards into a RooWorkspace to build the likelihood"
   ]
  },
  {
   "cell_type": "code",
   "execution_count": 50,
   "metadata": {},
   "outputs": [],
   "source": [
    "# !text2workspace.py ttgamma_sys.txt"
   ]
  },
  {
   "cell_type": "code",
   "execution_count": 51,
   "metadata": {},
   "outputs": [],
   "source": [
    "# f_shapes_TH1 = ROOT.TFile(\"ttgamma_sys.root\",\"READ\")\n",
    "# w_shapes_TH1 = f_shapes_TH1.Get(\"w\")\n",
    "# w_shapes_TH1.Print()"
   ]
  },
  {
   "cell_type": "markdown",
   "metadata": {},
   "source": [
    "The workspace contains \"model_s\" i.e. the likelihood function, which is composed of the observable \"CMS_th1x\" which is split in several channels, the POI \"r\" and several nuisance parameters. Lets see how combine smoothly morphs the shape of the background as a function of the nuisance parameter alpha:\n"
   ]
  },
  {
   "cell_type": "code",
   "execution_count": 52,
   "metadata": {},
   "outputs": [],
   "source": [
    "# shapeBkg = w_shapes_TH1.pdf(\"shapeBkg_mybin_background_morph\")\n",
    "# th1x = w_shapes_TH1.var(\"CMS_th1x\")\n",
    "# plot_th1x = th1x.frame()\n",
    "# alpha = w_shapes_TH1.var(\"alpha\")\n",
    "# alpha.setVal(0.0)\n",
    "# shapeBkg.plotOn(plot_th1x,ROOT.RooFit.LineColor(ROOT.kBlack))\n",
    "# alpha.setVal(0.5)\n",
    "# shapeBkg.plotOn(plot_th1x,ROOT.RooFit.LineColor(ROOT.kGreen))\n",
    "# alpha.setVal(1.0)\n",
    "# shapeBkg.plotOn(plot_th1x,ROOT.RooFit.LineColor(ROOT.kRed))\n",
    "# alpha.setVal(2.0)\n",
    "# shapeBkg.plotOn(plot_th1x,ROOT.RooFit.LineColor(ROOT.kOrange))\n",
    "\n",
    "# c2 = ROOT.TCanvas()\n",
    "# plot_th1x.Draw()\n",
    "# c2.Draw()"
   ]
  },
  {
   "cell_type": "code",
   "execution_count": 53,
   "metadata": {},
   "outputs": [],
   "source": [
    "# shapeSig = w_shapes_TH1.pdf(\"shapeSig_mybin_signal_morph\")\n",
    "# th1x = w_shapes_TH1.var(\"CMS_th1x\")\n",
    "# plot_th1x = th1x.frame()\n",
    "# sigma = w_shapes_TH1.var(\"sigma\")\n",
    "# sigma.setVal(0.0)\n",
    "# shapeSig.plotOn(plot_th1x,ROOT.RooFit.LineColor(ROOT.kBlack))\n",
    "# sigma.setVal(0.5)\n",
    "# shapeSig.plotOn(plot_th1x,ROOT.RooFit.LineColor(ROOT.kGreen))\n",
    "# sigma.setVal(1.0)\n",
    "# shapeSig.plotOn(plot_th1x,ROOT.RooFit.LineColor(ROOT.kRed))\n",
    "# sigma.setVal(2.0)\n",
    "# shapeSig.plotOn(plot_th1x,ROOT.RooFit.LineColor(ROOT.kOrange))\n",
    "\n",
    "# c2 = ROOT.TCanvas()\n",
    "# plot_th1x.Draw()\n",
    "# c2.Draw()"
   ]
  },
  {
   "cell_type": "markdown",
   "metadata": {},
   "source": [
    "Prints the workspace normalization "
   ]
  },
  {
   "cell_type": "code",
   "execution_count": 54,
   "metadata": {},
   "outputs": [],
   "source": [
    "# !python ../test/printWorkspaceNormalisations.py ttgamma_sys.root"
   ]
  },
  {
   "cell_type": "code",
   "execution_count": null,
   "metadata": {},
   "outputs": [],
   "source": []
  },
  {
   "cell_type": "markdown",
   "metadata": {},
   "source": [
    "If we redefine POI then it will be float and can take any values. If we have things in datacard then everything will be used to produce the best r value.  \n",
    "The option \"--run both\" tells combine to run both expected and observed limits.You can see we have computed an observed limit on r, and also the nominal expected, and +/- 1 and 2 sigma expected limits. [-s -1 == random seed]"
   ]
  },
  {
   "cell_type": "code",
   "execution_count": 55,
   "metadata": {},
   "outputs": [],
   "source": [
    "# !combine -M MultiDimFit -n Nabin ttgamma_sys.txt"
   ]
  },
  {
   "cell_type": "code",
   "execution_count": 56,
   "metadata": {},
   "outputs": [],
   "source": [
    "# !combine -n LimitTestNabin -M AsymptoticLimits ttgamma_sys.root --run both"
   ]
  },
  {
   "cell_type": "code",
   "execution_count": 57,
   "metadata": {},
   "outputs": [],
   "source": [
    "# asymptoticfile = ROOT.TFile(\"higgsCombineLimitTestNabin.AsymptoticLimits.mH120.root\")\n",
    "# limit = asymptoticfile.Get(\"limit\")\n",
    "# for i in xrange(limit.GetEntries()):\n",
    "#     limit.GetEntry(i)\n",
    "#     print i,limit.mh,limit.limit"
   ]
  },
  {
   "cell_type": "markdown",
   "metadata": {},
   "source": [
    "1-sigma ==  68%, 2-sigma == 95%, 3-sigma == 99.7%. The higher sigma value means that the discovery is less likely to be accidently a mistake or 'random chance'.   \n",
    "How do we test hypothesis?  \n",
    "Null hypothesis  means A and B are not connected. Research hypothesis means A and B are connected. First assume Null hypothesis is true. Then calculate the probability of obtaining data as extreme as the kind they are observing. \n",
    "P-value close to zero means Null hypothesis is false, however, larger p-value means Null hypothesis is true. For example, p-value = 5% means that chance that the data sample being tested is drawn from where Null hypothesis is true.  \n",
    "Next example, the chances of a result being greater than 1-sigma is 15.9%, 2-sigma is 2.3%, 3-sigma is 0.2%. "
   ]
  },
  {
   "cell_type": "code",
   "execution_count": null,
   "metadata": {},
   "outputs": [],
   "source": []
  }
 ],
 "metadata": {
  "kernelspec": {
   "display_name": "Python 2",
   "language": "python",
   "name": "python2"
  },
  "language_info": {
   "codemirror_mode": {
    "name": "ipython",
    "version": 2
   },
   "file_extension": ".py",
   "mimetype": "text/x-python",
   "name": "python",
   "nbconvert_exporter": "python",
   "pygments_lexer": "ipython2",
   "version": "2.7.14+"
  }
 },
 "nbformat": 4,
 "nbformat_minor": 2
}
