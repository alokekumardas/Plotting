{
 "cells": [
  {
   "cell_type": "code",
   "execution_count": 116,
   "metadata": {},
   "outputs": [],
   "source": [
    "import ROOT\n",
    "import os"
   ]
  },
  {
   "cell_type": "code",
   "execution_count": 117,
   "metadata": {},
   "outputs": [],
   "source": [
    "# !combine --help"
   ]
  },
  {
   "cell_type": "markdown",
   "metadata": {},
   "source": [
    "### Important:\n",
    "signal strength r = (number of signal events / number of expected signal events).    \n",
    "It scales the signal up and down in such a way after considering all the nuisance parameters. Signal strength * signal = eg. expectation of number of events in the cut and count physics process.\n",
    "data_obs = e.g., observed number of events in the data\n",
    "POI = e.g., ttgamma crossection which is burried in signal histogram. \n",
    "\n",
    "### FitDiagnostics:\n",
    "performs maximum likelihood fits to extract the signal yield and provide diagnostic tools such as pre and post-fit models and correlations\n",
    "\n",
    "### MultiDimFit:\n",
    "perform maximum likelihood fits in multiple parameters and likelihood scans"
   ]
  },
  {
   "cell_type": "markdown",
   "metadata": {},
   "source": [
    "### Doing exercise for misIDEle"
   ]
  },
  {
   "cell_type": "code",
   "execution_count": 118,
   "metadata": {},
   "outputs": [],
   "source": [
    "# myfile = ROOT.TFile(\"MyFiles/pho_looseCRe2e0plots_ele_2016/myMisIDEle_Prefit.root\")\n",
    "# myfile.ls()\n",
    "# MyDataHist = myfile.Get(\"myData\")\n",
    "# MisIDEle   = myfile.Get(\"myMisIDEle\")\n",
    "# MisIDEle.SetLineWidth(2)\n",
    "# MisIDEle.SetLineColor(2)\n",
    "# OtherHist  = myfile.Get(\"myBackground\")\n",
    "# OtherHist.SetLineWidth(2)\n",
    "# OtherHist.SetLineColor(3)\n",
    "\n",
    "# c = ROOT.TCanvas()\n",
    "# MyDataHist.Draw(\"hist\")\n",
    "# MisIDEle.Draw(\"same\") # red\n",
    "# OtherHist.Draw(\"same\") # yellow\n",
    "# c.Draw()\n"
   ]
  },
  {
   "cell_type": "code",
   "execution_count": 119,
   "metadata": {},
   "outputs": [],
   "source": [
    "# !text2workspace.py datacard_AR.txt"
   ]
  },
  {
   "cell_type": "code",
   "execution_count": 120,
   "metadata": {},
   "outputs": [],
   "source": [
    "# f_shapes_TH1 = ROOT.TFile(\"datacard_AR.root\",\"READ\")\n",
    "# w_shapes_TH1 = f_shapes_TH1.Get(\"w\")\n",
    "# w_shapes_TH1.Print()"
   ]
  },
  {
   "cell_type": "code",
   "execution_count": 121,
   "metadata": {},
   "outputs": [],
   "source": [
    "# !python ../test/printWorkspaceNormalisations.py datacard_AR.root"
   ]
  },
  {
   "cell_type": "code",
   "execution_count": 122,
   "metadata": {},
   "outputs": [],
   "source": [
    "# !combine -M MultiDimFit -n AR  datacard_AR.txt --redefineSignalPOIs r,mybackground_norm"
   ]
  },
  {
   "cell_type": "code",
   "execution_count": 123,
   "metadata": {},
   "outputs": [
    {
     "name": "stdout",
     "output_type": "stream",
     "text": [
      " <<< Combine >>> \n",
      ">>> method used is FitDiagnostics\n",
      ">>> random number generator seed is 123456\n",
      "Channel mybin will use autoMCStats with settings: event-threshold=0, include-signal=1, hist-mode=1\n",
      "============================================================\n",
      "Analysing bin errors for: prop_binmybin\n",
      "Poisson cut-off: 0\n",
      "============================================================\n",
      "Bin        Contents        Error           Notes                         \n",
      "0          757.540155      27.523447       total sum                     \n",
      "0          758.000000      27.531800       Unweighted events, alpha=0.999393\n",
      "  => Total parameter prop_binmybin_bin0[0.00,-7.00,7.00] to be gaussian constrained\n",
      "------------------------------------------------------------\n",
      "1          803.027725      28.337744       total sum                     \n",
      "1          803.000000      28.337255       Unweighted events, alpha=1.000035\n",
      "  => Total parameter prop_binmybin_bin1[0.00,-7.00,7.00] to be gaussian constrained\n",
      "------------------------------------------------------------\n",
      "2          925.131241      30.415970       total sum                     \n",
      "2          925.000000      30.413813       Unweighted events, alpha=1.000142\n",
      "  => Total parameter prop_binmybin_bin2[0.00,-7.00,7.00] to be gaussian constrained\n",
      "------------------------------------------------------------\n",
      "3          1093.991272     33.075539       total sum                     \n",
      "3          1094.000000     33.075671       Unweighted events, alpha=0.999992\n",
      "  => Total parameter prop_binmybin_bin3[0.00,-7.00,7.00] to be gaussian constrained\n",
      "------------------------------------------------------------\n",
      "4          1451.960510     38.104600       total sum                     \n",
      "4          1452.000000     38.105118       Unweighted events, alpha=0.999973\n",
      "  => Total parameter prop_binmybin_bin4[0.00,-7.00,7.00] to be gaussian constrained\n",
      "------------------------------------------------------------\n",
      "5          2056.307983     45.346532       total sum                     \n",
      "5          2056.000000     45.343136       Unweighted events, alpha=1.000150\n",
      "  => Total parameter prop_binmybin_bin5[0.00,-7.00,7.00] to be gaussian constrained\n",
      "------------------------------------------------------------\n",
      "6          2040.121765     45.167707       total sum                     \n",
      "6          2040.000000     45.166359       Unweighted events, alpha=1.000060\n",
      "  => Total parameter prop_binmybin_bin6[0.00,-7.00,7.00] to be gaussian constrained\n",
      "------------------------------------------------------------\n",
      "7          1316.983826     36.290272       total sum                     \n",
      "7          1317.000000     36.290495       Unweighted events, alpha=0.999988\n",
      "  => Total parameter prop_binmybin_bin7[0.00,-7.00,7.00] to be gaussian constrained\n",
      "------------------------------------------------------------\n",
      "8          771.483582      27.775593       total sum                     \n",
      "8          771.000000      27.766887       Unweighted events, alpha=1.000627\n",
      "  => Total parameter prop_binmybin_bin8[0.00,-7.00,7.00] to be gaussian constrained\n",
      "------------------------------------------------------------\n",
      "9          535.427750      23.139312       total sum                     \n",
      "9          535.000000      23.130067       Unweighted events, alpha=1.000800\n",
      "  => Total parameter prop_binmybin_bin9[0.00,-7.00,7.00] to be gaussian constrained\n",
      "------------------------------------------------------------\n",
      "Missing background ModelConfig 'ModelConfig_bonly' in workspace 'w' in file roostats-VdvVXB.root\n",
      "Will make one from the signal ModelConfig 'ModelConfig' setting signal strenth 'r' to zero\n",
      "\n",
      " --- FitDiagnostics ---\n",
      "Best fit r: 2.17335  -0.0373147/+0.0381508  (68% CL)\n",
      "Done in 0.00 min (cpu), 0.00 min (real)\n"
     ]
    }
   ],
   "source": [
    "!combine -M FitDiagnostics -n AR  datacard_AR.txt "
   ]
  },
  {
   "cell_type": "code",
   "execution_count": 124,
   "metadata": {},
   "outputs": [
    {
     "name": "stdout",
     "output_type": "stream",
     "text": [
      " <<< Combine >>> \n",
      ">>> method used is FitDiagnostics\n",
      ">>> random number generator seed is 123456\n",
      "Channel mybin will use autoMCStats with settings: event-threshold=0, include-signal=1, hist-mode=1\n",
      "============================================================\n",
      "Analysing bin errors for: prop_binmybin\n",
      "Poisson cut-off: 0\n",
      "============================================================\n",
      "Bin        Contents        Error           Notes                         \n",
      "0          617.905571      24.857706       total sum                     \n",
      "0          618.000000      24.859606       Unweighted events, alpha=0.999847\n",
      "  => Total parameter prop_binmybin_bin0[0.00,-7.00,7.00] to be gaussian constrained\n",
      "------------------------------------------------------------\n",
      "1          624.114464      24.982283       total sum                     \n",
      "1          624.000000      24.979992       Unweighted events, alpha=1.000183\n",
      "  => Total parameter prop_binmybin_bin1[0.00,-7.00,7.00] to be gaussian constrained\n",
      "------------------------------------------------------------\n",
      "2          731.822906      27.052226       total sum                     \n",
      "2          732.000000      27.055499       Unweighted events, alpha=0.999758\n",
      "  => Total parameter prop_binmybin_bin2[0.00,-7.00,7.00] to be gaussian constrained\n",
      "------------------------------------------------------------\n",
      "3          854.241058      29.227403       total sum                     \n",
      "3          854.000000      29.223278       Unweighted events, alpha=1.000282\n",
      "  => Total parameter prop_binmybin_bin3[0.00,-7.00,7.00] to be gaussian constrained\n",
      "------------------------------------------------------------\n",
      "4          1243.674194     35.265765       total sum                     \n",
      "4          1244.000000     35.270384       Unweighted events, alpha=0.999738\n",
      "  => Total parameter prop_binmybin_bin4[0.00,-7.00,7.00] to be gaussian constrained\n",
      "------------------------------------------------------------\n",
      "5          1727.474274     41.562895       total sum                     \n",
      "5          1727.000000     41.557190       Unweighted events, alpha=1.000275\n",
      "  => Total parameter prop_binmybin_bin5[0.00,-7.00,7.00] to be gaussian constrained\n",
      "------------------------------------------------------------\n",
      "6          1678.704285     40.971994       total sum                     \n",
      "6          1679.000000     40.975602       Unweighted events, alpha=0.999824\n",
      "  => Total parameter prop_binmybin_bin6[0.00,-7.00,7.00] to be gaussian constrained\n",
      "------------------------------------------------------------\n",
      "7          1109.358124     33.307028       total sum                     \n",
      "7          1109.000000     33.301652       Unweighted events, alpha=1.000323\n",
      "  => Total parameter prop_binmybin_bin7[0.00,-7.00,7.00] to be gaussian constrained\n",
      "------------------------------------------------------------\n",
      "8          588.863770      24.266515       total sum                     \n",
      "8          589.000000      24.269322       Unweighted events, alpha=0.999769\n",
      "  => Total parameter prop_binmybin_bin8[0.00,-7.00,7.00] to be gaussian constrained\n",
      "------------------------------------------------------------\n",
      "9          429.349548      20.720752       total sum                     \n",
      "9          429.000000      20.712315       Unweighted events, alpha=1.000815\n",
      "  => Total parameter prop_binmybin_bin9[0.00,-7.00,7.00] to be gaussian constrained\n",
      "------------------------------------------------------------\n",
      "Missing background ModelConfig 'ModelConfig_bonly' in workspace 'w' in file roostats-oyHExw.root\n",
      "Will make one from the signal ModelConfig 'ModelConfig' setting signal strenth 'r' to zero\n",
      "\n",
      " --- FitDiagnostics ---\n",
      "Best fit r: 2.21111  -0.040427/+0.0414078  (68% CL)\n",
      "Done in 0.00 min (cpu), 0.00 min (real)\n"
     ]
    }
   ],
   "source": [
    "!combine -M FitDiagnostics -n CR123 datacard_CR123.txt "
   ]
  },
  {
   "cell_type": "code",
   "execution_count": 125,
   "metadata": {},
   "outputs": [
    {
     "name": "stdout",
     "output_type": "stream",
     "text": [
      " <<< Combine >>> \n",
      ">>> method used is FitDiagnostics\n",
      ">>> random number generator seed is 123456\n",
      "Channel mybin will use autoMCStats with settings: event-threshold=0, include-signal=1, hist-mode=1\n",
      "============================================================\n",
      "Analysing bin errors for: prop_binmybin\n",
      "Poisson cut-off: 0\n",
      "============================================================\n",
      "Bin        Contents        Error           Notes                         \n",
      "0          475.777184      21.812317       total sum                     \n",
      "0          476.000000      21.817424       Unweighted events, alpha=0.999532\n",
      "  => Total parameter prop_binmybin_bin0[0.00,-7.00,7.00] to be gaussian constrained\n",
      "------------------------------------------------------------\n",
      "1          475.096313      21.796704       total sum                     \n",
      "1          475.000000      21.794495       Unweighted events, alpha=1.000203\n",
      "  => Total parameter prop_binmybin_bin1[0.00,-7.00,7.00] to be gaussian constrained\n",
      "------------------------------------------------------------\n",
      "2          600.655792      24.508280       total sum                     \n",
      "2          601.000000      24.515301       Unweighted events, alpha=0.999427\n",
      "  => Total parameter prop_binmybin_bin2[0.00,-7.00,7.00] to be gaussian constrained\n",
      "------------------------------------------------------------\n",
      "3          660.988953      25.709705       total sum                     \n",
      "3          661.000000      25.709920       Unweighted events, alpha=0.999983\n",
      "  => Total parameter prop_binmybin_bin3[0.00,-7.00,7.00] to be gaussian constrained\n",
      "------------------------------------------------------------\n",
      "4          964.364838      31.054224       total sum                     \n",
      "4          964.000000      31.048349       Unweighted events, alpha=1.000378\n",
      "  => Total parameter prop_binmybin_bin4[0.00,-7.00,7.00] to be gaussian constrained\n",
      "------------------------------------------------------------\n",
      "5          1301.383118     36.074688       total sum                     \n",
      "5          1301.000000     36.069378       Unweighted events, alpha=1.000294\n",
      "  => Total parameter prop_binmybin_bin5[0.00,-7.00,7.00] to be gaussian constrained\n",
      "------------------------------------------------------------\n",
      "6          1255.083618     35.427159       total sum                     \n",
      "6          1255.000000     35.425979       Unweighted events, alpha=1.000067\n",
      "  => Total parameter prop_binmybin_bin6[0.00,-7.00,7.00] to be gaussian constrained\n",
      "------------------------------------------------------------\n",
      "7          789.843872      28.104161       total sum                     \n",
      "7          790.000000      28.106939       Unweighted events, alpha=0.999802\n",
      "  => Total parameter prop_binmybin_bin7[0.00,-7.00,7.00] to be gaussian constrained\n",
      "------------------------------------------------------------\n",
      "8          402.671249      20.066670       total sum                     \n",
      "8          403.000000      20.074860       Unweighted events, alpha=0.999184\n",
      "  => Total parameter prop_binmybin_bin8[0.00,-7.00,7.00] to be gaussian constrained\n",
      "------------------------------------------------------------\n",
      "9          321.437439      17.928676       total sum                     \n",
      "9          321.000000      17.916473       Unweighted events, alpha=1.001363\n",
      "  => Total parameter prop_binmybin_bin9[0.00,-7.00,7.00] to be gaussian constrained\n",
      "------------------------------------------------------------\n",
      "Missing background ModelConfig 'ModelConfig_bonly' in workspace 'w' in file roostats-py0uli.root\n",
      "Will make one from the signal ModelConfig 'ModelConfig' setting signal strenth 'r' to zero\n",
      "\n",
      " --- FitDiagnostics ---\n",
      "Best fit r: 2.27068  -0.0467809/+0.0482271  (68% CL)\n",
      "Done in 0.00 min (cpu), 0.02 min (real)\n"
     ]
    }
   ],
   "source": [
    "!combine -M FitDiagnostics -n CR1 datacard_CR1.txt "
   ]
  },
  {
   "cell_type": "code",
   "execution_count": 126,
   "metadata": {},
   "outputs": [
    {
     "name": "stdout",
     "output_type": "stream",
     "text": [
      " <<< Combine >>> \n",
      ">>> method used is FitDiagnostics\n",
      ">>> random number generator seed is 123456\n",
      "Channel mybin will use autoMCStats with settings: event-threshold=0, include-signal=1, hist-mode=1\n",
      "============================================================\n",
      "Analysing bin errors for: prop_binmybin\n",
      "Poisson cut-off: 0\n",
      "============================================================\n",
      "Bin        Contents        Error           Notes                         \n",
      "0          107.881416      10.620062       total sum                     \n",
      "0          103.000000      10.148892       Unweighted events, alpha=1.047392\n",
      "  => Total parameter prop_binmybin_bin0[0.00,-7.00,7.00] to be gaussian constrained\n",
      "------------------------------------------------------------\n",
      "1          95.907937       9.793260        total sum                     \n",
      "1          96.000000       9.797959        Unweighted events, alpha=0.999041\n",
      "  => Total parameter prop_binmybin_bin1[0.00,-7.00,7.00] to be gaussian constrained\n",
      "------------------------------------------------------------\n",
      "2          93.435108       9.666184        total sum                     \n",
      "2          93.000000       9.643651        Unweighted events, alpha=1.004679\n",
      "  => Total parameter prop_binmybin_bin2[0.00,-7.00,7.00] to be gaussian constrained\n",
      "------------------------------------------------------------\n",
      "3          156.462975      12.508516       total sum                     \n",
      "3          156.000000      12.489996       Unweighted events, alpha=1.002968\n",
      "  => Total parameter prop_binmybin_bin3[0.00,-7.00,7.00] to be gaussian constrained\n",
      "------------------------------------------------------------\n",
      "4          226.237640      15.041198       total sum                     \n",
      "4          226.000000      15.033296       Unweighted events, alpha=1.001052\n",
      "  => Total parameter prop_binmybin_bin4[0.00,-7.00,7.00] to be gaussian constrained\n",
      "------------------------------------------------------------\n",
      "5          319.228340      17.866962       total sum                     \n",
      "5          319.000000      17.860571       Unweighted events, alpha=1.000716\n",
      "  => Total parameter prop_binmybin_bin5[0.00,-7.00,7.00] to be gaussian constrained\n",
      "------------------------------------------------------------\n",
      "6          330.117653      18.169140       total sum                     \n",
      "6          330.000000      18.165902       Unweighted events, alpha=1.000357\n",
      "  => Total parameter prop_binmybin_bin6[0.00,-7.00,7.00] to be gaussian constrained\n",
      "------------------------------------------------------------\n",
      "7          257.936256      16.060394       total sum                     \n",
      "7          258.000000      16.062378       Unweighted events, alpha=0.999753\n",
      "  => Total parameter prop_binmybin_bin7[0.00,-7.00,7.00] to be gaussian constrained\n",
      "------------------------------------------------------------\n",
      "8          146.480843      12.102927       total sum                     \n",
      "8          146.000000      12.083046       Unweighted events, alpha=1.003293\n",
      "  => Total parameter prop_binmybin_bin8[0.00,-7.00,7.00] to be gaussian constrained\n",
      "------------------------------------------------------------\n",
      "9          78.213653       8.843848        total sum                     \n",
      "9          78.000000       8.831761        Unweighted events, alpha=1.002739\n",
      "  => Total parameter prop_binmybin_bin9[0.00,-7.00,7.00] to be gaussian constrained\n",
      "------------------------------------------------------------\n",
      "Missing background ModelConfig 'ModelConfig_bonly' in workspace 'w' in file roostats-opicNK.root\n",
      "Will make one from the signal ModelConfig 'ModelConfig' setting signal strenth 'r' to zero\n",
      "\n",
      " --- FitDiagnostics ---\n",
      "Best fit r: 1.97812  -0.0863027/+0.0922653  (68% CL)\n",
      "Done in 0.00 min (cpu), 0.00 min (real)\n"
     ]
    }
   ],
   "source": [
    "!combine -M FitDiagnostics -n CR2 datacard_CR2.txt "
   ]
  },
  {
   "cell_type": "code",
   "execution_count": 127,
   "metadata": {},
   "outputs": [
    {
     "name": "stdout",
     "output_type": "stream",
     "text": [
      " <<< Combine >>> \n",
      ">>> method used is FitDiagnostics\n",
      ">>> random number generator seed is 123456\n",
      "Channel mybin will use autoMCStats with settings: event-threshold=0, include-signal=1, hist-mode=1\n",
      "============================================================\n",
      "Analysing bin errors for: prop_binmybin\n",
      "Poisson cut-off: 0\n",
      "============================================================\n",
      "Bin        Contents        Error           Notes                         \n",
      "0          84.021584       9.524956        total sum                     \n",
      "0          78.000000       8.831761        Unweighted events, alpha=1.077200\n",
      "  => Total parameter prop_binmybin_bin0[0.00,-7.00,7.00] to be gaussian constrained\n",
      "------------------------------------------------------------\n",
      "1          90.842171       9.531116        total sum                     \n",
      "1          91.000000       9.539392        Unweighted events, alpha=0.998266\n",
      "  => Total parameter prop_binmybin_bin1[0.00,-7.00,7.00] to be gaussian constrained\n",
      "------------------------------------------------------------\n",
      "2          89.861055       9.479507        total sum                     \n",
      "2          90.000000       9.486833        Unweighted events, alpha=0.998456\n",
      "  => Total parameter prop_binmybin_bin2[0.00,-7.00,7.00] to be gaussian constrained\n",
      "------------------------------------------------------------\n",
      "3          200.366039      14.155071       total sum                     \n",
      "3          200.000000      14.142136       Unweighted events, alpha=1.001830\n",
      "  => Total parameter prop_binmybin_bin3[0.00,-7.00,7.00] to be gaussian constrained\n",
      "------------------------------------------------------------\n",
      "4          101.289814      10.064284       total sum                     \n",
      "4          101.000000      10.049876       Unweighted events, alpha=1.002869\n",
      "  => Total parameter prop_binmybin_bin4[0.00,-7.00,7.00] to be gaussian constrained\n",
      "------------------------------------------------------------\n",
      "Missing background ModelConfig 'ModelConfig_bonly' in workspace 'w' in file roostats-belEyc.root\n",
      "Will make one from the signal ModelConfig 'ModelConfig' setting signal strenth 'r' to zero\n",
      "\n",
      " --- FitDiagnostics ---\n",
      "Best fit r: 2.161  -0.189032/+0.213851  (68% CL)\n",
      "Done in 0.00 min (cpu), 0.00 min (real)\n"
     ]
    }
   ],
   "source": [
    "!combine -M FitDiagnostics -n CR3 datacard_CR3.txt "
   ]
  },
  {
   "cell_type": "code",
   "execution_count": 128,
   "metadata": {},
   "outputs": [
    {
     "name": "stdout",
     "output_type": "stream",
     "text": [
      " <<< Combine >>> \n",
      ">>> method used is FitDiagnostics\n",
      ">>> random number generator seed is 123456\n",
      "Channel mybin will use autoMCStats with settings: event-threshold=0, include-signal=1, hist-mode=1\n",
      "============================================================\n",
      "Analysing bin errors for: prop_binmybin\n",
      "Poisson cut-off: 0\n",
      "============================================================\n",
      "Bin        Contents        Error           Notes                         \n",
      "0          130.149635      11.408314       total sum                     \n",
      "0          130.000000      11.401754       Unweighted events, alpha=1.001151\n",
      "  => Total parameter prop_binmybin_bin0[0.00,-7.00,7.00] to be gaussian constrained\n",
      "------------------------------------------------------------\n",
      "1          145.243824      12.051715       total sum                     \n",
      "1          145.000000      12.041595       Unweighted events, alpha=1.001682\n",
      "  => Total parameter prop_binmybin_bin1[0.00,-7.00,7.00] to be gaussian constrained\n",
      "------------------------------------------------------------\n",
      "2          251.466347      15.857690       total sum                     \n",
      "2          251.000000      15.842980       Unweighted events, alpha=1.001858\n",
      "  => Total parameter prop_binmybin_bin2[0.00,-7.00,7.00] to be gaussian constrained\n",
      "------------------------------------------------------------\n",
      "3          363.655281      19.069748       total sum                     \n",
      "3          364.000000      19.078784       Unweighted events, alpha=0.999053\n",
      "  => Total parameter prop_binmybin_bin3[0.00,-7.00,7.00] to be gaussian constrained\n",
      "------------------------------------------------------------\n",
      "4          166.684692      12.910643       total sum                     \n",
      "4          167.000000      12.922848       Unweighted events, alpha=0.998112\n",
      "  => Total parameter prop_binmybin_bin4[0.00,-7.00,7.00] to be gaussian constrained\n",
      "------------------------------------------------------------\n",
      "Missing background ModelConfig 'ModelConfig_bonly' in workspace 'w' in file roostats-pjPGBt.root\n",
      "Will make one from the signal ModelConfig 'ModelConfig' setting signal strenth 'r' to zero\n",
      "\n",
      " --- FitDiagnostics ---\n",
      "Best fit r: 1.83318  -0.113613/+0.12253  (68% CL)\n",
      "Done in 0.00 min (cpu), 0.01 min (real)\n"
     ]
    }
   ],
   "source": [
    "!combine -M FitDiagnostics -n CR4 datacard_CR4.txt "
   ]
  },
  {
   "cell_type": "code",
   "execution_count": 129,
   "metadata": {},
   "outputs": [
    {
     "name": "stdout",
     "output_type": "stream",
     "text": [
      " <<< Combine >>> \n",
      ">>> method used is FitDiagnostics\n",
      ">>> random number generator seed is 123456\n",
      "Channel mybin will use autoMCStats with settings: event-threshold=0, include-signal=1, hist-mode=1\n",
      "============================================================\n",
      "Analysing bin errors for: prop_binmybin\n",
      "Poisson cut-off: 0\n",
      "============================================================\n",
      "Bin        Contents        Error           Notes                         \n",
      "0          64.665924       8.041513        total sum                     \n",
      "0          65.000000       8.062258        Unweighted events, alpha=0.994860\n",
      "  => Total parameter prop_binmybin_bin0[0.00,-7.00,7.00] to be gaussian constrained\n",
      "------------------------------------------------------------\n",
      "1          70.980239       8.424977        total sum                     \n",
      "1          71.000000       8.426150        Unweighted events, alpha=0.999722\n",
      "  => Total parameter prop_binmybin_bin1[0.00,-7.00,7.00] to be gaussian constrained\n",
      "------------------------------------------------------------\n",
      "2          77.983253       8.830813        total sum                     \n",
      "2          78.000000       8.831761        Unweighted events, alpha=0.999785\n",
      "  => Total parameter prop_binmybin_bin2[0.00,-7.00,7.00] to be gaussian constrained\n",
      "------------------------------------------------------------\n",
      "3          111.181885      10.544282       total sum                     \n",
      "3          111.000000      10.535654       Unweighted events, alpha=1.001639\n",
      "  => Total parameter prop_binmybin_bin3[0.00,-7.00,7.00] to be gaussian constrained\n",
      "------------------------------------------------------------\n",
      "4          86.448734       9.297781        total sum                     \n",
      "4          86.000000       9.273618        Unweighted events, alpha=1.005218\n",
      "  => Total parameter prop_binmybin_bin4[0.00,-7.00,7.00] to be gaussian constrained\n",
      "------------------------------------------------------------\n",
      "Missing background ModelConfig 'ModelConfig_bonly' in workspace 'w' in file roostats-LD79sa.root\n",
      "Will make one from the signal ModelConfig 'ModelConfig' setting signal strenth 'r' to zero\n",
      "\n",
      " --- FitDiagnostics ---\n",
      "Best fit r: 2.57951  -0.300403/+0.349528  (68% CL)\n",
      "Done in 0.00 min (cpu), 0.01 min (real)\n"
     ]
    }
   ],
   "source": [
    "!combine -M FitDiagnostics -n CR5 datacard_CR5.txt "
   ]
  },
  {
   "cell_type": "code",
   "execution_count": 130,
   "metadata": {},
   "outputs": [
    {
     "name": "stdout",
     "output_type": "stream",
     "text": [
      " <<< Combine >>> \n",
      ">>> method used is FitDiagnostics\n",
      ">>> random number generator seed is 123456\n",
      "Channel mybin will use autoMCStats with settings: event-threshold=0, include-signal=1, hist-mode=1\n",
      "============================================================\n",
      "Analysing bin errors for: prop_binmybin\n",
      "Poisson cut-off: 0\n",
      "============================================================\n",
      "Bin        Contents        Error           Notes                         \n",
      "0          23.988344       4.897790        total sum                     \n",
      "0          24.000000       4.898979        Unweighted events, alpha=0.999514\n",
      "  => Total parameter prop_binmybin_bin0[0.00,-7.00,7.00] to be gaussian constrained\n",
      "------------------------------------------------------------\n",
      "1          28.510343       5.339508        total sum                     \n",
      "1          29.000000       5.385165        Unweighted events, alpha=0.983115\n",
      "  => Total parameter prop_binmybin_bin1[0.00,-7.00,7.00] to be gaussian constrained\n",
      "------------------------------------------------------------\n",
      "2          17.051010       4.129287        total sum                     \n",
      "2          17.000000       4.123106        Unweighted events, alpha=1.003001\n",
      "  => Total parameter prop_binmybin_bin2[0.00,-7.00,7.00] to be gaussian constrained\n",
      "------------------------------------------------------------\n",
      "3          63.503375       7.968900        total sum                     \n",
      "3          64.000000       8.000000        Unweighted events, alpha=0.992240\n",
      "  => Total parameter prop_binmybin_bin3[0.00,-7.00,7.00] to be gaussian constrained\n",
      "------------------------------------------------------------\n",
      "4          36.188603       6.015696        total sum                     \n",
      "4          36.000000       6.000000        Unweighted events, alpha=1.005239\n",
      "  => Total parameter prop_binmybin_bin4[0.00,-7.00,7.00] to be gaussian constrained\n",
      "------------------------------------------------------------\n",
      "Missing background ModelConfig 'ModelConfig_bonly' in workspace 'w' in file roostats-i2Eqlt.root\n",
      "Will make one from the signal ModelConfig 'ModelConfig' setting signal strenth 'r' to zero\n",
      "\n",
      " --- FitDiagnostics ---\n",
      "Best fit r: 1.40717  -0.190112/+0.223381  (68% CL)\n",
      "Done in 0.00 min (cpu), 0.00 min (real)\n"
     ]
    }
   ],
   "source": [
    "!combine -M FitDiagnostics -n CR6 datacard_CR6.txt "
   ]
  },
  {
   "cell_type": "code",
   "execution_count": 131,
   "metadata": {},
   "outputs": [
    {
     "name": "stdout",
     "output_type": "stream",
     "text": [
      " <<< Combine >>> \n",
      ">>> method used is FitDiagnostics\n",
      ">>> random number generator seed is 123456\n",
      "Channel mybin will use autoMCStats with settings: event-threshold=0, include-signal=1, hist-mode=1\n",
      "============================================================\n",
      "Analysing bin errors for: prop_binmybin\n",
      "Poisson cut-off: 0\n",
      "============================================================\n",
      "Bin        Contents        Error           Notes                         \n",
      "0          16.564990       4.070011        total sum                     \n",
      "0          17.000000       4.123106        Unweighted events, alpha=0.974411\n",
      "  => Total parameter prop_binmybin_bin0[0.00,-7.00,7.00] to be gaussian constrained\n",
      "------------------------------------------------------------\n",
      "1          33.239134       5.765339        total sum                     \n",
      "1          33.000000       5.744563        Unweighted events, alpha=1.007246\n",
      "  => Total parameter prop_binmybin_bin1[0.00,-7.00,7.00] to be gaussian constrained\n",
      "------------------------------------------------------------\n",
      "2          22.462335       4.739445        total sum                     \n",
      "2          22.000000       4.690416        Unweighted events, alpha=1.021015\n",
      "  => Total parameter prop_binmybin_bin2[0.00,-7.00,7.00] to be gaussian constrained\n",
      "------------------------------------------------------------\n",
      "3          59.076500       7.686124        total sum                     \n",
      "3          59.000000       7.681146        Unweighted events, alpha=1.001297\n",
      "  => Total parameter prop_binmybin_bin3[0.00,-7.00,7.00] to be gaussian constrained\n",
      "------------------------------------------------------------\n",
      "4          39.016357       6.246308        total sum                     \n",
      "4          39.000000       6.244998        Unweighted events, alpha=1.000419\n",
      "  => Total parameter prop_binmybin_bin4[0.00,-7.00,7.00] to be gaussian constrained\n",
      "------------------------------------------------------------\n",
      "Missing background ModelConfig 'ModelConfig_bonly' in workspace 'w' in file roostats-ifH6Li.root\n",
      "Will make one from the signal ModelConfig 'ModelConfig' setting signal strenth 'r' to zero\n",
      "\n",
      " --- FitDiagnostics ---\n",
      "Best fit r: 0.968788  -0.236709/+0.274398  (68% CL)\n",
      "Done in 0.00 min (cpu), 0.00 min (real)\n"
     ]
    }
   ],
   "source": [
    "!combine -M FitDiagnostics -n CR7 datacard_CR7.txt "
   ]
  },
  {
   "cell_type": "code",
   "execution_count": 132,
   "metadata": {},
   "outputs": [
    {
     "name": "stdout",
     "output_type": "stream",
     "text": [
      " <<< Combine >>> \n",
      ">>> method used is FitDiagnostics\n",
      ">>> random number generator seed is 123456\n",
      "Channel mybin will use autoMCStats with settings: event-threshold=0, include-signal=1, hist-mode=1\n",
      "============================================================\n",
      "Analysing bin errors for: prop_binmybin\n",
      "Poisson cut-off: 0\n",
      "============================================================\n",
      "Bin        Contents        Error           Notes                         \n",
      "0          68.316554       8.265383        total sum                     \n",
      "0          68.000000       8.246211        Unweighted events, alpha=1.004655\n",
      "  => Total parameter prop_binmybin_bin0[0.00,-7.00,7.00] to be gaussian constrained\n",
      "------------------------------------------------------------\n",
      "1          94.248138       9.708148        total sum                     \n",
      "1          94.000000       9.695360        Unweighted events, alpha=1.002640\n",
      "  => Total parameter prop_binmybin_bin1[0.00,-7.00,7.00] to be gaussian constrained\n",
      "------------------------------------------------------------\n",
      "2          79.073237       8.892313        total sum                     \n",
      "2          79.000000       8.888194        Unweighted events, alpha=1.000927\n",
      "  => Total parameter prop_binmybin_bin2[0.00,-7.00,7.00] to be gaussian constrained\n",
      "------------------------------------------------------------\n",
      "3          92.834435       9.635063        total sum                     \n",
      "3          93.000000       9.643651        Unweighted events, alpha=0.998220\n",
      "  => Total parameter prop_binmybin_bin3[0.00,-7.00,7.00] to be gaussian constrained\n",
      "------------------------------------------------------------\n",
      "4          61.907284       7.868118        total sum                     \n",
      "4          62.000000       7.874008        Unweighted events, alpha=0.998505\n",
      "  => Total parameter prop_binmybin_bin4[0.00,-7.00,7.00] to be gaussian constrained\n",
      "------------------------------------------------------------\n",
      "Missing background ModelConfig 'ModelConfig_bonly' in workspace 'w' in file roostats-CgLq74.root\n",
      "Will make one from the signal ModelConfig 'ModelConfig' setting signal strenth 'r' to zero\n",
      "\n",
      " --- FitDiagnostics ---\n",
      "Best fit r: 6.1569  -1.82832/+2.81573  (68% CL)\n",
      "Done in 0.00 min (cpu), 0.00 min (real)\n"
     ]
    }
   ],
   "source": [
    "!combine -M FitDiagnostics -n SR8 datacard_SR8.txt "
   ]
  },
  {
   "cell_type": "code",
   "execution_count": null,
   "metadata": {},
   "outputs": [],
   "source": []
  },
  {
   "cell_type": "code",
   "execution_count": 133,
   "metadata": {},
   "outputs": [],
   "source": [
    "# f_input_shapes_TH1 = ROOT.TFile(\"simple-shapes-TH1_input.root\",\"READ\")\n",
    "# f_input_shapes_TH1.ls()\n"
   ]
  },
  {
   "cell_type": "code",
   "execution_count": 134,
   "metadata": {},
   "outputs": [],
   "source": [
    "# h_background = f_input_shapes_TH1.Get(\"background\")\n",
    "# h_background.SetLineColor(ROOT.kBlack)\n",
    "# print h_background.Integral(-1,-1)\n",
    "\n",
    "# h_background_alphaUp = f_input_shapes_TH1.Get(\"background_alphaUp\")\n",
    "# h_background_alphaUp.SetLineColor(ROOT.kBlue)\n",
    "# print h_background_alphaUp.Integral(-1,-1)\n",
    "\n",
    "# h_background_alphaDown = f_input_shapes_TH1.Get(\"background_alphaDown\")\n",
    "# h_background_alphaDown.SetLineColor(ROOT.kRed)\n",
    "# print h_background_alphaDown.Integral(-1,-1)\n",
    "\n",
    "# c = ROOT.TCanvas()\n",
    "# h_background_alphaDown.Draw()\n",
    "# h_background.Draw(\"same\")\n",
    "# h_background_alphaUp.Draw(\"same\")\n",
    "\n",
    "# c.Draw()"
   ]
  },
  {
   "cell_type": "code",
   "execution_count": 135,
   "metadata": {},
   "outputs": [],
   "source": [
    "# h_signal = f_input_shapes_TH1.Get(\"signal\")\n",
    "# h_signal.SetLineColor(ROOT.kBlack)\n",
    "# print h_signal.Integral()\n",
    "\n",
    "# h_signal_sigmaUp = f_input_shapes_TH1.Get(\"signal_sigmaUp\")\n",
    "# h_signal_sigmaUp.SetLineColor(ROOT.kBlue)\n",
    "# print h_signal_sigmaUp.Integral()\n",
    "\n",
    "# h_signal_sigmaDown = f_input_shapes_TH1.Get(\"signal_sigmaDown\")\n",
    "# h_signal_sigmaDown.SetLineColor(ROOT.kRed)\n",
    "# print h_signal_sigmaDown.Integral()\n",
    "\n",
    "# c = ROOT.TCanvas()\n",
    "# h_signal_sigmaDown.Draw()\n",
    "# h_signal.Draw(\"same\")\n",
    "# h_signal_sigmaUp.Draw(\"same\")\n",
    "\n",
    "# c.Draw()"
   ]
  },
  {
   "cell_type": "markdown",
   "metadata": {},
   "source": [
    "The combine tool converts datacards into a RooWorkspace to build the likelihood"
   ]
  },
  {
   "cell_type": "code",
   "execution_count": 136,
   "metadata": {},
   "outputs": [],
   "source": [
    "# !text2workspace.py ttgamma_sys.txt"
   ]
  },
  {
   "cell_type": "code",
   "execution_count": 137,
   "metadata": {},
   "outputs": [],
   "source": [
    "# f_shapes_TH1 = ROOT.TFile(\"ttgamma_sys.root\",\"READ\")\n",
    "# w_shapes_TH1 = f_shapes_TH1.Get(\"w\")\n",
    "# w_shapes_TH1.Print()"
   ]
  },
  {
   "cell_type": "markdown",
   "metadata": {},
   "source": [
    "The workspace contains \"model_s\" i.e. the likelihood function, which is composed of the observable \"CMS_th1x\" which is split in several channels, the POI \"r\" and several nuisance parameters. Lets see how combine smoothly morphs the shape of the background as a function of the nuisance parameter alpha:\n"
   ]
  },
  {
   "cell_type": "code",
   "execution_count": 138,
   "metadata": {},
   "outputs": [],
   "source": [
    "# shapeBkg = w_shapes_TH1.pdf(\"shapeBkg_mybin_background_morph\")\n",
    "# th1x = w_shapes_TH1.var(\"CMS_th1x\")\n",
    "# plot_th1x = th1x.frame()\n",
    "# alpha = w_shapes_TH1.var(\"alpha\")\n",
    "# alpha.setVal(0.0)\n",
    "# shapeBkg.plotOn(plot_th1x,ROOT.RooFit.LineColor(ROOT.kBlack))\n",
    "# alpha.setVal(0.5)\n",
    "# shapeBkg.plotOn(plot_th1x,ROOT.RooFit.LineColor(ROOT.kGreen))\n",
    "# alpha.setVal(1.0)\n",
    "# shapeBkg.plotOn(plot_th1x,ROOT.RooFit.LineColor(ROOT.kRed))\n",
    "# alpha.setVal(2.0)\n",
    "# shapeBkg.plotOn(plot_th1x,ROOT.RooFit.LineColor(ROOT.kOrange))\n",
    "\n",
    "# c2 = ROOT.TCanvas()\n",
    "# plot_th1x.Draw()\n",
    "# c2.Draw()"
   ]
  },
  {
   "cell_type": "code",
   "execution_count": 139,
   "metadata": {},
   "outputs": [],
   "source": [
    "# shapeSig = w_shapes_TH1.pdf(\"shapeSig_mybin_signal_morph\")\n",
    "# th1x = w_shapes_TH1.var(\"CMS_th1x\")\n",
    "# plot_th1x = th1x.frame()\n",
    "# sigma = w_shapes_TH1.var(\"sigma\")\n",
    "# sigma.setVal(0.0)\n",
    "# shapeSig.plotOn(plot_th1x,ROOT.RooFit.LineColor(ROOT.kBlack))\n",
    "# sigma.setVal(0.5)\n",
    "# shapeSig.plotOn(plot_th1x,ROOT.RooFit.LineColor(ROOT.kGreen))\n",
    "# sigma.setVal(1.0)\n",
    "# shapeSig.plotOn(plot_th1x,ROOT.RooFit.LineColor(ROOT.kRed))\n",
    "# sigma.setVal(2.0)\n",
    "# shapeSig.plotOn(plot_th1x,ROOT.RooFit.LineColor(ROOT.kOrange))\n",
    "\n",
    "# c2 = ROOT.TCanvas()\n",
    "# plot_th1x.Draw()\n",
    "# c2.Draw()"
   ]
  },
  {
   "cell_type": "markdown",
   "metadata": {},
   "source": [
    "Prints the workspace normalization "
   ]
  },
  {
   "cell_type": "code",
   "execution_count": 140,
   "metadata": {},
   "outputs": [],
   "source": [
    "# !python ../test/printWorkspaceNormalisations.py ttgamma_sys.root"
   ]
  },
  {
   "cell_type": "code",
   "execution_count": null,
   "metadata": {},
   "outputs": [],
   "source": []
  },
  {
   "cell_type": "markdown",
   "metadata": {},
   "source": [
    "If we redefine POI then it will be float and can take any values. If we have things in datacard then everything will be used to produce the best r value.  \n",
    "The option \"--run both\" tells combine to run both expected and observed limits.You can see we have computed an observed limit on r, and also the nominal expected, and +/- 1 and 2 sigma expected limits. [-s -1 == random seed]"
   ]
  },
  {
   "cell_type": "code",
   "execution_count": 141,
   "metadata": {},
   "outputs": [],
   "source": [
    "# !combine -M MultiDimFit -n Nabin ttgamma_sys.txt"
   ]
  },
  {
   "cell_type": "code",
   "execution_count": 142,
   "metadata": {},
   "outputs": [],
   "source": [
    "# !combine -n LimitTestNabin -M AsymptoticLimits ttgamma_sys.root --run both"
   ]
  },
  {
   "cell_type": "code",
   "execution_count": 143,
   "metadata": {},
   "outputs": [],
   "source": [
    "# asymptoticfile = ROOT.TFile(\"higgsCombineLimitTestNabin.AsymptoticLimits.mH120.root\")\n",
    "# limit = asymptoticfile.Get(\"limit\")\n",
    "# for i in xrange(limit.GetEntries()):\n",
    "#     limit.GetEntry(i)\n",
    "#     print i,limit.mh,limit.limit"
   ]
  },
  {
   "cell_type": "markdown",
   "metadata": {},
   "source": [
    "1-sigma ==  68%, 2-sigma == 95%, 3-sigma == 99.7%. The higher sigma value means that the discovery is less likely to be accidently a mistake or 'random chance'.   \n",
    "How do we test hypothesis?  \n",
    "Null hypothesis  means A and B are not connected. Research hypothesis means A and B are connected. First assume Null hypothesis is true. Then calculate the probability of obtaining data as extreme as the kind they are observing. \n",
    "P-value close to zero means Null hypothesis is false, however, larger p-value means Null hypothesis is true. For example, p-value = 5% means that chance that the data sample being tested is drawn from where Null hypothesis is true.  \n",
    "Next example, the chances of a result being greater than 1-sigma is 15.9%, 2-sigma is 2.3%, 3-sigma is 0.2%. "
   ]
  },
  {
   "cell_type": "code",
   "execution_count": null,
   "metadata": {},
   "outputs": [],
   "source": []
  }
 ],
 "metadata": {
  "kernelspec": {
   "display_name": "Python 2",
   "language": "python",
   "name": "python2"
  },
  "language_info": {
   "codemirror_mode": {
    "name": "ipython",
    "version": 2
   },
   "file_extension": ".py",
   "mimetype": "text/x-python",
   "name": "python",
   "nbconvert_exporter": "python",
   "pygments_lexer": "ipython2",
   "version": "2.7.14+"
  }
 },
 "nbformat": 4,
 "nbformat_minor": 2
}
