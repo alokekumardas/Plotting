{
 "cells": [
  {
   "cell_type": "code",
   "execution_count": 6,
   "metadata": {},
   "outputs": [
    {
     "name": "stdout",
     "output_type": "stream",
     "text": [
      "/uscms_data/d3/npoudyal/TTGammaSemiLeptonic13TeV/CMSSW_10_2_14/src/HiggsAnalysis/CombinedLimit/ttgammaCombineFitting/Datacard_fourTemplate_Zjets_bothChannel_2016\r\n"
     ]
    }
   ],
   "source": [
    "import ROOT\n",
    "!pwd"
   ]
  },
  {
   "cell_type": "code",
   "execution_count": 7,
   "metadata": {},
   "outputs": [],
   "source": [
    "ListOfFiles = [\"fitDiagnosticsCR123.root\", \"fitDiagnosticsCR1.root\",  \"fitDiagnosticsCR2.root\", \"fitDiagnosticsCR3.root\",\n",
    "\t\t\t   \"fitDiagnosticsCR4.root\"]"
   ]
  },
  {
   "cell_type": "code",
   "execution_count": 8,
   "metadata": {},
   "outputs": [],
   "source": [
    "controlRegionDict ={\"SR8\":\"tight\", \"CR123\":\"looseCRge2e0\", \"AR\":\"looseCRge2ge0\", \"CR7\":\"looseCRe3ge2\", \"CR3\":\"looseCRge4e0\", \"CR2\":\"looseCRe3e0\", \n",
    "\t\t\t\t   \"CR4\":\"looseCRe2e1\", \"CR1\":\"looseCRe2e0\", \"CR6\":\"looseCRe2e2\", \"CR5\":\"looseCRe3e1\" }"
   ]
  },
  {
   "cell_type": "code",
   "execution_count": 9,
   "metadata": {},
   "outputs": [
    {
     "name": "stdout",
     "output_type": "stream",
     "text": [
      "/uscms_data/d3/npoudyal/TTGammaSemiLeptonic13TeV/CMSSW_10_2_14/src/HiggsAnalysis/CombinedLimit/ttgammaCombineFitting/Datacard_fourTemplate_Zjets_bothChannel_2016\n",
      "\\begin{tabular}{|l||l|l|l|} \n",
      "\\hline\n",
      "Control Regions & MisIDEleSF & ZGammaSF & WGammaSF \\\\  \n",
      "\\hline\n",
      "CR123 & $ 2.269 \\substack{ -0.051 \\\\ + 0.052 }$ & $ 0.966 \\substack{ -0.06 \\\\ + 0.052 }$ & $ 1.269 \\substack{ -0.05 \\\\ + 0.052 }$ \\\\\n",
      "CR1 & $ 2.255 \\substack{ -0.057 \\\\ + 0.058 }$ & $ 0.9 \\substack{ -0.063 \\\\ + 0.058 }$ & $ 1.324 \\substack{ -0.055 \\\\ + 0.058 }$ \\\\\n",
      "CR2 & $ 2.33 \\substack{ -0.129 \\\\ + 0.139 }$ & $ 0.925 \\substack{ -0.165 \\\\ + 0.139 }$ & $ 1.324 \\substack{ -0.116 \\\\ + 0.139 }$ \\\\\n",
      "CR3 & $ 2.174 \\substack{ -0.22 \\\\ + 0.248 }$ & $ 1.825 \\substack{ -0.273 \\\\ + 0.248 }$ & $ 1.149 \\substack{ -0.138 \\\\ + 0.248 }$ \\\\\n",
      "CR4 & $ 2.307 \\substack{ -0.199 \\\\ + 0.219 }$ & $ 1.174 \\substack{ -0.224 \\\\ + 0.219 }$ & $ 1.801 \\substack{ -0.441 \\\\ + 0.219 }$ \\\\\n",
      "\\hline\n",
      "\\end{tabular}\n"
     ]
    }
   ],
   "source": [
    "!pwd\n",
    "print \"\\\\begin{tabular}{|l||l|l|l|} \"\n",
    "print \"\\\\hline\"\n",
    "print \"Control Regions & MisIDEleSF & ZGammaSF & WGammaSF \\\\\\\\  \"\n",
    "print \"\\\\hline\"\n",
    "for ifile in ListOfFiles:\n",
    "    myfile = ROOT.TFile(ifile,\"read\")\n",
    "    if myfile.GetListOfKeys().Contains(\"fit_s\") is False:\n",
    "        print ifile[14:-5], \": Fit failed.\"\n",
    "        continue\n",
    "    fit_s = myfile.Get(\"fit_s\")\n",
    "\n",
    "    print ifile[14:-5], \"&\",\"$\", \\\n",
    "      round(fit_s.floatParsFinal().find(\"r\").getVal(),3), \"\\substack{\" ,round(fit_s.floatParsFinal().find(\"r\").getErrorLo(),3),\"\\\\\\\\\", \"+\",round(fit_s.floatParsFinal().find(\"r\").getErrorHi(),3),\"}$ &\", \"$\", \\\n",
    "      round(fit_s.floatParsFinal().find(\"ZGammaBkgPhotonSF\").getVal(),3), \"\\substack{\" ,round(fit_s.floatParsFinal().find(\"ZGammaBkgPhotonSF\").getErrorLo(),3),\"\\\\\\\\\", \"+\", round(fit_s.floatParsFinal().find(\"r\").getErrorHi(),3), \"}$ &\", \"$\",\\\n",
    "      round(fit_s.floatParsFinal().find(\"WGammaBkgPhotonSF\").getVal(),3), \"\\substack{\" ,round(fit_s.floatParsFinal().find(\"WGammaBkgPhotonSF\").getErrorLo(),3),\"\\\\\\\\\", \"+\", round(fit_s.floatParsFinal().find(\"r\").getErrorHi(),3),\"}$ \\\\\\\\\"\n",
    "    del myfile\n",
    "print \"\\\\hline\"\n",
    "print \"\\end{tabular}\""
   ]
  },
  {
   "cell_type": "code",
   "execution_count": 10,
   "metadata": {
    "scrolled": true
   },
   "outputs": [
    {
     "name": "stdout",
     "output_type": "stream",
     "text": [
      "/uscms_data/d3/npoudyal/TTGammaSemiLeptonic13TeV/CMSSW_10_2_14/src/HiggsAnalysis/CombinedLimit/ttgammaCombineFitting/Datacard_fourTemplate_Zjets_bothChannel_2016\n",
      "CR123\n",
      "(2.269, 0.966, 1.269)\n",
      "CR1\n",
      "(2.255, 0.9, 1.324)\n",
      "CR2\n",
      "(2.33, 0.925, 1.324)\n",
      "CR3\n",
      "(2.174, 1.825, 1.149)\n",
      "CR4\n",
      "(2.307, 1.174, 1.801)\n",
      "[(2.269, 0.966, 1.269), (2.255, 0.9, 1.324), (2.33, 0.925, 1.324), (2.174, 1.825, 1.149), (2.307, 1.174, 1.801)]\n"
     ]
    }
   ],
   "source": [
    "!pwd\n",
    "myArray=[]\n",
    "myTuple = ()\n",
    "for ifile in ListOfFiles:\n",
    "    myfile = ROOT.TFile(ifile,\"read\")\n",
    "    if myfile.GetListOfKeys().Contains(\"fit_s\") is False:\n",
    "        print ifile[14:-5], \": Fit failed.\"\n",
    "        continue\n",
    "    fit_s = myfile.Get(\"fit_s\")\n",
    "    print ifile[14:-5]\n",
    "    print (\n",
    "    round(fit_s.floatParsFinal().find(\"r\").getVal(),3),\n",
    "    round(fit_s.floatParsFinal().find(\"ZGammaBkgPhotonSF\").getVal(),3),\n",
    "    round(fit_s.floatParsFinal().find(\"WGammaBkgPhotonSF\").getVal(),3))\n",
    "    myTuple = ( round(fit_s.floatParsFinal().find(\"r\").getVal(),3), round(fit_s.floatParsFinal().find(\"ZGammaBkgPhotonSF\").getVal(),3), round(fit_s.floatParsFinal().find(\"WGammaBkgPhotonSF\").getVal(),3))\n",
    "    myArray.append(myTuple)\n",
    "    del myfile\n",
    "# x , y, z = myArray[0]\n",
    "# print x, y, z\n",
    "print myArray"
   ]
  },
  {
   "cell_type": "code",
   "execution_count": null,
   "metadata": {},
   "outputs": [],
   "source": [
    "[(2.283, 1.017, 1.227), (2.273, 0.969, 1.253), (2.357, 1.019, 1.246), (2.191, 1.832, 1.135), (2.384, 1.247, 1.533)]"
   ]
  }
 ],
 "metadata": {
  "kernelspec": {
   "display_name": "Python 2",
   "language": "python",
   "name": "python2"
  },
  "language_info": {
   "codemirror_mode": {
    "name": "ipython",
    "version": 2
   },
   "file_extension": ".py",
   "mimetype": "text/x-python",
   "name": "python",
   "nbconvert_exporter": "python",
   "pygments_lexer": "ipython2",
   "version": "2.7.14+"
  }
 },
 "nbformat": 4,
 "nbformat_minor": 2
}
