{
 "cells": [
  {
   "cell_type": "code",
   "execution_count": 32,
   "metadata": {},
   "outputs": [
    {
     "name": "stdout",
     "output_type": "stream",
     "text": [
      "/uscms_data/d3/npoudyal/TTGammaSemiLeptonic13TeV/CMSSW_10_2_14/src/HiggsAnalysis/CombinedLimit/ttgammaCombineFitting/Datacard_fourTemplate_Zjets_bothChannel_2016\r\n"
     ]
    }
   ],
   "source": [
    "import ROOT\n",
    "!pwd"
   ]
  },
  {
   "cell_type": "code",
   "execution_count": 7,
   "metadata": {},
   "outputs": [],
   "source": [
    "ListOfFiles = [\"fitDiagnosticsCR123.root\", \"fitDiagnosticsCR1.root\",  \"fitDiagnosticsCR2.root\", \"fitDiagnosticsCR3.root\",\n",
    "\t\t\t   \"fitDiagnosticsCR4.root\"]"
   ]
  },
  {
   "cell_type": "code",
   "execution_count": 8,
   "metadata": {},
   "outputs": [],
   "source": [
    "controlRegionDict ={\"SR8\":\"tight\", \"CR123\":\"looseCRge2e0\", \"AR\":\"looseCRge2ge0\", \"CR7\":\"looseCRe3ge2\", \"CR3\":\"looseCRge4e0\", \"CR2\":\"looseCRe3e0\", \n",
    "\t\t\t\t   \"CR4\":\"looseCRe2e1\", \"CR1\":\"looseCRe2e0\", \"CR6\":\"looseCRe2e2\", \"CR5\":\"looseCRe3e1\" }"
   ]
  },
  {
   "cell_type": "code",
   "execution_count": 54,
   "metadata": {},
   "outputs": [
    {
     "name": "stdout",
     "output_type": "stream",
     "text": [
      "\\begin{tabular}{ l||l|l|l|} \n",
      "\\hline\n",
      "Control Regions & MisIDEleSF & ZGammaSF & WGammaSF \\\\  \n",
      "\\hline\n",
      "CR123 & $ 2.262 \\substack{ -0.051 \\\\ + 0.052 }$ & $ 0.976 \\substack{ -0.059 \\\\ + 0.052 }$ & $ 1.343 \\substack{ -0.051 \\\\ + 0.052 }$ \\\\\n",
      "CR1 & $ 2.278 \\substack{ -0.057 \\\\ + 0.059 }$ & $ 0.895 \\substack{ -0.063 \\\\ + 0.059 }$ & $ 1.429 \\substack{ -0.062 \\\\ + 0.059 }$ \\\\\n",
      "CR2 & $ 2.335 \\substack{ -0.13 \\\\ + 0.139 }$ & $ 1.041 \\substack{ -0.17 \\\\ + 0.139 }$ & $ 1.354 \\substack{ -0.114 \\\\ + 0.139 }$ \\\\\n",
      "CR3 & $ 2.145 \\substack{ -0.22 \\\\ + 0.249 }$ & $ 2.204 \\substack{ -0.315 \\\\ + 0.249 }$ & $ 1.138 \\substack{ -0.16 \\\\ + 0.249 }$ \\\\\n",
      "CR4 & ==> Fit failed.\n",
      "\\hline\n",
      "\\end{tabular}\n"
     ]
    }
   ],
   "source": [
    "print \"\\\\begin{tabular}{ l||l|l|l|} \"\n",
    "print \"\\\\hline\"\n",
    "print \"Control Regions & MisIDEleSF & ZGammaSF & WGammaSF \\\\\\\\  \"\n",
    "print \"\\\\hline\"\n",
    "for ifile in ListOfFiles:\n",
    "    myfile = ROOT.TFile(ifile,\"read\")\n",
    "    if myfile.GetListOfKeys().Contains(\"fit_s\") is False:\n",
    "        print ifile[14:-5], \": Fit failed.\"\n",
    "        continue\n",
    "    fit_s = myfile.Get(\"fit_s\")\n",
    "\n",
    "    print ifile[14:-5], \"&\",\"$\", \\\n",
    "      round(fit_s.floatParsFinal().find(\"r\").getVal(),3), \"\\substack{\" ,round(fit_s.floatParsFinal().find(\"r\").getErrorLo(),3),\"\\\\\\\\\", \"+\",round(fit_s.floatParsFinal().find(\"r\").getErrorHi(),3),\"}$ &\", \"$\", \\\n",
    "      round(fit_s.floatParsFinal().find(\"ZGammaBkgPhotonSF\").getVal(),3), \"\\substack{\" ,round(fit_s.floatParsFinal().find(\"ZGammaBkgPhotonSF\").getErrorLo(),3),\"\\\\\\\\\", \"+\", round(fit_s.floatParsFinal().find(\"r\").getErrorHi(),3), \"}$ &\", \"$\",\\\n",
    "      round(fit_s.floatParsFinal().find(\"WGammaBkgPhotonSF\").getVal(),3), \"\\substack{\" ,round(fit_s.floatParsFinal().find(\"WGammaBkgPhotonSF\").getErrorLo(),3),\"\\\\\\\\\", \"+\", round(fit_s.floatParsFinal().find(\"r\").getErrorHi(),3),\"}$ \\\\\\\\\"\n",
    "    del myfile\n",
    "print \"\\\\hline\"\n",
    "print \"\\end{tabular}\""
   ]
  },
  {
   "cell_type": "code",
   "execution_count": 30,
   "metadata": {},
   "outputs": [
    {
     "name": "stdout",
     "output_type": "stream",
     "text": [
      "CR123 2.262 -0.051 0.052\n",
      "CR123 0.976 -0.059 0.052\n",
      "CR123 1.343 -0.051 0.052\n",
      "------------------------------\n",
      "CR1 2.278 -0.057 0.059\n",
      "CR1 0.895 -0.063 0.059\n",
      "CR1 1.429 -0.062 0.059\n",
      "------------------------------\n",
      "CR2 2.335 -0.13 0.139\n",
      "CR2 1.041 -0.17 0.139\n",
      "CR2 1.354 -0.114 0.139\n",
      "------------------------------\n",
      "CR3 2.145 -0.22 0.249\n",
      "CR3 2.204 -0.315 0.249\n",
      "CR3 1.138 -0.16 0.249\n",
      "------------------------------\n",
      "fitDiagnosticsCR4.root Fit failed.\n"
     ]
    }
   ],
   "source": [
    "for ifile in ListOfFiles:\n",
    "    myfile = ROOT.TFile(ifile,\"read\")\n",
    "    if myfile.GetListOfKeys().Contains(\"fit_s\") is False:\n",
    "        print ifile, \"Fit failed.\"\n",
    "        continue\n",
    "    fit_s = myfile.Get(\"fit_s\")\n",
    "    print ifile[14:-5], round(fit_s.floatParsFinal().find(\"r\").getVal(),3), round(fit_s.floatParsFinal().find(\"r\").getErrorLo(),3), round(fit_s.floatParsFinal().find(\"r\").getErrorHi(),3)\n",
    "    print ifile[14:-5], round(fit_s.floatParsFinal().find(\"ZGammaBkgPhotonSF\").getVal(),3), round(fit_s.floatParsFinal().find(\"ZGammaBkgPhotonSF\").getErrorLo(),3), round(fit_s.floatParsFinal().find(\"r\").getErrorHi(),3)\n",
    "    print ifile[14:-5], round(fit_s.floatParsFinal().find(\"WGammaBkgPhotonSF\").getVal(),3), round(fit_s.floatParsFinal().find(\"WGammaBkgPhotonSF\").getErrorLo(),3), round(fit_s.floatParsFinal().find(\"r\").getErrorHi(),3)\n",
    "    print \"------------------------------\"\n",
    "    del myfile"
   ]
  },
  {
   "cell_type": "code",
   "execution_count": null,
   "metadata": {},
   "outputs": [],
   "source": []
  }
 ],
 "metadata": {
  "kernelspec": {
   "display_name": "Python 2",
   "language": "python",
   "name": "python2"
  },
  "language_info": {
   "codemirror_mode": {
    "name": "ipython",
    "version": 2
   },
   "file_extension": ".py",
   "mimetype": "text/x-python",
   "name": "python",
   "nbconvert_exporter": "python",
   "pygments_lexer": "ipython2",
   "version": "2.7.14+"
  }
 },
 "nbformat": 4,
 "nbformat_minor": 2
}
