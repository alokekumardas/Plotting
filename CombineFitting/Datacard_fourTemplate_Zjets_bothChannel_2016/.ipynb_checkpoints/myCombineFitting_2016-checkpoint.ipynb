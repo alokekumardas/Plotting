{
 "cells": [
  {
   "cell_type": "code",
   "execution_count": 21,
   "metadata": {},
   "outputs": [
    {
     "name": "stdout",
     "output_type": "stream",
     "text": [
      "/uscms_data/d3/npoudyal/TTGammaSemiLeptonic13TeV/CMSSW_10_2_14/src/HiggsAnalysis/CombinedLimit/ttgammaCombineFitting/Datacard_fourTemplate_Zjets_bothChannel_2016\n",
      "LatexTableRoofit.ipynb\n",
      "combine_logger.out\n",
      "covariance_fit_b.png\n",
      "covariance_fit_s.png\n",
      "datacard_CR1.txt\n",
      "datacard_CR123.root\n",
      "datacard_CR123.txt\n",
      "datacard_CR123_modified.txt\n",
      "datacard_CR2.txt\n",
      "datacard_CR3.txt\n",
      "datacard_CR4.txt\n",
      "eleJets_CMS_th1x_fit_b.png\n",
      "eleJets_CMS_th1x_fit_s.png\n",
      "eleJets_CMS_th1x_prefit.png\n",
      "fitDiagnosticsCR1.root\n",
      "fitDiagnosticsCR123.root\n",
      "fitDiagnosticsCR123_modified.root\n",
      "fitDiagnosticsCR2.root\n",
      "fitDiagnosticsCR3.root\n",
      "fitDiagnosticsCR4.root\n",
      "getScalefactors.py\n",
      "higgsCombineCR1.FitDiagnostics.mH120.root\n",
      "higgsCombineCR123.FitDiagnostics.mH120.root\n",
      "higgsCombineCR123_modified.FitDiagnostics.mH120.root\n",
      "higgsCombineCR2.FitDiagnostics.mH120.root\n",
      "higgsCombineCR3.FitDiagnostics.mH120.root\n",
      "higgsCombineCR4.FitDiagnostics.mH120.root\n",
      "muJets_CMS_th1x_fit_b.png\n",
      "muJets_CMS_th1x_fit_s.png\n",
      "muJets_CMS_th1x_prefit.png\n",
      "myCombineFitting_2016.ipynb\n"
     ]
    }
   ],
   "source": [
    "import ROOT\n",
    "import os\n",
    "!pwd\n",
    "!ls\n"
   ]
  },
  {
   "cell_type": "code",
   "execution_count": null,
   "metadata": {
    "scrolled": true
   },
   "outputs": [],
   "source": [
    "!combine -M FitDiagnostics -n CR123_modified  datacard_CR123_modified.txt --redefineSignalPOIs r,ZGammaBkgPhotonSF,WGammaBkgPhotonSF --saveWithUncertainties --plots "
   ]
  },
  {
   "cell_type": "code",
   "execution_count": 20,
   "metadata": {},
   "outputs": [
    {
     "name": "stdout",
     "output_type": "stream",
     "text": [
      "Channel eleJets will use autoMCStats with settings: event-threshold=0, include-signal=1, hist-mode=1\n",
      "============================================================\n",
      "Analysing bin errors for: prop_bineleJets\n",
      "Poisson cut-off: 0\n",
      "============================================================\n",
      "Bin        Contents        Error           Notes                         \n",
      "0          637.151615      171.565062      total sum                     \n",
      "0          14.000000       3.741657        Unweighted events, alpha=45.510830\n",
      "  => Total parameter prop_bineleJets_bin0[0.00,-7.00,7.00] to be gaussian constrained\n",
      "------------------------------------------------------------\n",
      "1          735.219601      196.772568      total sum                     \n",
      "1          14.000000       3.741657        Unweighted events, alpha=52.515686\n",
      "  => Total parameter prop_bineleJets_bin1[0.00,-7.00,7.00] to be gaussian constrained\n",
      "------------------------------------------------------------\n",
      "2          722.770638      89.075607       total sum                     \n",
      "2          66.000000       8.124038        Unweighted events, alpha=10.951070\n",
      "  => Total parameter prop_bineleJets_bin2[0.00,-7.00,7.00] to be gaussian constrained\n",
      "------------------------------------------------------------\n",
      "3          1127.238937     166.633653      total sum                     \n",
      "3          46.000000       6.782330        Unweighted events, alpha=24.505194\n",
      "  => Total parameter prop_bineleJets_bin3[0.00,-7.00,7.00] to be gaussian constrained\n",
      "------------------------------------------------------------\n",
      "4          236.505943      37.408761       total sum                     \n",
      "4          40.000000       6.324555        Unweighted events, alpha=5.912649\n",
      "  => Total parameter prop_bineleJets_bin4[0.00,-7.00,7.00] to be gaussian constrained\n",
      "------------------------------------------------------------\n",
      "5          373.048615      72.402966       total sum                     \n",
      "5          27.000000       5.196152        Unweighted events, alpha=13.816615\n",
      "  => Total parameter prop_bineleJets_bin5[0.00,-7.00,7.00] to be gaussian constrained\n",
      "------------------------------------------------------------\n",
      "6          470.050049      40.970144       total sum                     \n",
      "6          132.000000      11.489125       Unweighted events, alpha=3.560985\n",
      "  => Total parameter prop_bineleJets_bin6[0.00,-7.00,7.00] to be gaussian constrained\n",
      "------------------------------------------------------------\n",
      "7          839.578705      56.879928       total sum                     \n",
      "7          218.000000      14.764823       Unweighted events, alpha=3.851278\n",
      "  => Total parameter prop_bineleJets_bin7[0.00,-7.00,7.00] to be gaussian constrained\n",
      "------------------------------------------------------------\n",
      "8          1280.952301     45.041003       total sum                     \n",
      "8          809.000000      28.442925       Unweighted events, alpha=1.583377\n",
      "  => Total parameter prop_bineleJets_bin8[0.00,-7.00,7.00] to be gaussian constrained\n",
      "------------------------------------------------------------\n",
      "9          1530.628357     57.858948       total sum                     \n",
      "9          700.000000      26.457513       Unweighted events, alpha=2.186612\n",
      "  => Total parameter prop_bineleJets_bin9[0.00,-7.00,7.00] to be gaussian constrained\n",
      "------------------------------------------------------------\n",
      "10         1004.920410     53.652062       total sum                     \n",
      "10         351.000000      18.734994       Unweighted events, alpha=2.863021\n",
      "  => Total parameter prop_bineleJets_bin10[0.00,-7.00,7.00] to be gaussian constrained\n",
      "------------------------------------------------------------\n",
      "11         455.527031      34.355581       total sum                     \n",
      "11         176.000000      13.266499       Unweighted events, alpha=2.588222\n",
      "  => Total parameter prop_bineleJets_bin11[0.00,-7.00,7.00] to be gaussian constrained\n",
      "------------------------------------------------------------\n",
      "12         261.476593      31.345528       total sum                     \n",
      "12         70.000000       8.366600        Unweighted events, alpha=3.735380\n",
      "  => Total parameter prop_bineleJets_bin12[0.00,-7.00,7.00] to be gaussian constrained\n",
      "------------------------------------------------------------\n",
      "13         242.666740      70.159048       total sum                     \n",
      "13         12.000000       3.464102        Unweighted events, alpha=20.222228\n",
      "  => Total parameter prop_bineleJets_bin13[0.00,-7.00,7.00] to be gaussian constrained\n",
      "------------------------------------------------------------\n",
      "14         684.128876      106.034445      total sum                     \n",
      "14         42.000000       6.480741        Unweighted events, alpha=16.288783\n",
      "  => Total parameter prop_bineleJets_bin14[0.00,-7.00,7.00] to be gaussian constrained\n",
      "------------------------------------------------------------\n",
      "15         402.553207      40.757934       total sum                     \n",
      "15         98.000000       9.899495        Unweighted events, alpha=4.107686\n",
      "  => Total parameter prop_bineleJets_bin15[0.00,-7.00,7.00] to be gaussian constrained\n",
      "------------------------------------------------------------\n",
      "16         327.541111      74.670027       total sum                     \n",
      "16         19.000000       4.358899        Unweighted events, alpha=17.239006\n",
      "  => Total parameter prop_bineleJets_bin16[0.00,-7.00,7.00] to be gaussian constrained\n",
      "------------------------------------------------------------\n",
      "17         366.266003      69.841167       total sum                     \n",
      "17         28.000000       5.291503        Unweighted events, alpha=13.080929\n",
      "  => Total parameter prop_bineleJets_bin17[0.00,-7.00,7.00] to be gaussian constrained\n",
      "------------------------------------------------------------\n",
      "18         203.460732      18.081808       total sum                     \n",
      "18         127.000000      11.269428       Unweighted events, alpha=1.602053\n",
      "  => Total parameter prop_bineleJets_bin18[0.00,-7.00,7.00] to be gaussian constrained\n",
      "------------------------------------------------------------\n",
      "19         315.541382      86.853167       total sum                     \n",
      "19         13.000000       3.605551        Unweighted events, alpha=24.272414\n",
      "  => Total parameter prop_bineleJets_bin19[0.00,-7.00,7.00] to be gaussian constrained\n",
      "------------------------------------------------------------\n",
      "Channel muJets will use autoMCStats with settings: event-threshold=0, include-signal=1, hist-mode=1\n",
      "============================================================\n",
      "Analysing bin errors for: prop_binmuJets\n",
      "Poisson cut-off: 0\n",
      "============================================================\n",
      "Bin        Contents        Error           Notes                         \n",
      "0          635.719408      54.752570       total sum                     \n",
      "0          135.000000      11.618950       Unweighted events, alpha=4.709033\n",
      "  => Total parameter prop_binmuJets_bin0[0.00,-7.00,7.00] to be gaussian constrained\n",
      "------------------------------------------------------------\n",
      "1          973.070316      97.006533       total sum                     \n",
      "1          101.000000      10.049876       Unweighted events, alpha=9.634360\n",
      "  => Total parameter prop_binmuJets_bin1[0.00,-7.00,7.00] to be gaussian constrained\n",
      "------------------------------------------------------------\n",
      "2          1126.844810     104.015958      total sum                     \n",
      "2          117.000000      10.816654       Unweighted events, alpha=9.631152\n",
      "  => Total parameter prop_binmuJets_bin2[0.00,-7.00,7.00] to be gaussian constrained\n",
      "------------------------------------------------------------\n",
      "3          1149.348501     176.348702      total sum                     \n",
      "3          42.000000       6.480741        Unweighted events, alpha=27.365441\n",
      "  => Total parameter prop_binmuJets_bin3[0.00,-7.00,7.00] to be gaussian constrained\n",
      "------------------------------------------------------------\n",
      "4          131.659561      16.953805       total sum                     \n",
      "4          60.000000       7.745967        Unweighted events, alpha=2.194326\n",
      "  => Total parameter prop_binmuJets_bin4[0.00,-7.00,7.00] to be gaussian constrained\n",
      "------------------------------------------------------------\n",
      "5          154.492924      12.804218       total sum                     \n",
      "5          146.000000      12.083046       Unweighted events, alpha=1.058171\n",
      "  => Total parameter prop_binmuJets_bin5[0.00,-7.00,7.00] to be gaussian constrained\n",
      "------------------------------------------------------------\n",
      "6          122.237998      16.706331       total sum                     \n",
      "6          54.000000       7.348469        Unweighted events, alpha=2.263667\n",
      "  => Total parameter prop_binmuJets_bin6[0.00,-7.00,7.00] to be gaussian constrained\n",
      "------------------------------------------------------------\n",
      "7          122.202655      12.008327       total sum                     \n",
      "7          104.000000      10.198039       Unweighted events, alpha=1.175026\n",
      "  => Total parameter prop_binmuJets_bin7[0.00,-7.00,7.00] to be gaussian constrained\n",
      "------------------------------------------------------------\n",
      "8          129.359676      13.871222       total sum                     \n",
      "8          87.000000       9.327379        Unweighted events, alpha=1.486893\n",
      "  => Total parameter prop_binmuJets_bin8[0.00,-7.00,7.00] to be gaussian constrained\n",
      "------------------------------------------------------------\n",
      "9          99.655866       10.433707       total sum                     \n",
      "9          91.000000       9.539392        Unweighted events, alpha=1.095119\n",
      "  => Total parameter prop_binmuJets_bin9[0.00,-7.00,7.00] to be gaussian constrained\n",
      "------------------------------------------------------------\n",
      "10         141.628313      17.206558       total sum                     \n",
      "10         68.000000       8.246211        Unweighted events, alpha=2.082769\n",
      "  => Total parameter prop_binmuJets_bin10[0.00,-7.00,7.00] to be gaussian constrained\n",
      "------------------------------------------------------------\n",
      "11         108.033422      13.204787       total sum                     \n",
      "11         67.000000       8.185353        Unweighted events, alpha=1.612439\n",
      "  => Total parameter prop_binmuJets_bin11[0.00,-7.00,7.00] to be gaussian constrained\n",
      "------------------------------------------------------------\n",
      "12         93.985747       9.879005        total sum                     \n",
      "12         91.000000       9.539392        Unweighted events, alpha=1.032810\n",
      "  => Total parameter prop_binmuJets_bin12[0.00,-7.00,7.00] to be gaussian constrained\n",
      "------------------------------------------------------------\n",
      "13         114.321177      11.898437       total sum                     \n",
      "13         92.000000       9.591663        Unweighted events, alpha=1.242621\n",
      "  => Total parameter prop_binmuJets_bin13[0.00,-7.00,7.00] to be gaussian constrained\n",
      "------------------------------------------------------------\n",
      "14         610.410990      117.184413      total sum                     \n",
      "14         27.000000       5.196152        Unweighted events, alpha=22.607814\n",
      "  => Total parameter prop_binmuJets_bin14[0.00,-7.00,7.00] to be gaussian constrained\n",
      "------------------------------------------------------------\n",
      "15         445.523163      50.255398       total sum                     \n",
      "15         79.000000       8.888194        Unweighted events, alpha=5.639534\n",
      "  => Total parameter prop_binmuJets_bin15[0.00,-7.00,7.00] to be gaussian constrained\n",
      "------------------------------------------------------------\n",
      "16         433.148037      127.965816      total sum                     \n",
      "16         11.000000       3.316625        Unweighted events, alpha=39.377094\n",
      "  => Total parameter prop_binmuJets_bin16[0.00,-7.00,7.00] to be gaussian constrained\n",
      "------------------------------------------------------------\n",
      "17         282.632301      24.984972       total sum                     \n",
      "17         128.000000      11.313708       Unweighted events, alpha=2.208065\n",
      "  => Total parameter prop_binmuJets_bin17[0.00,-7.00,7.00] to be gaussian constrained\n",
      "------------------------------------------------------------\n",
      "18         193.416247      16.033098       total sum                     \n",
      "18         146.000000      12.083046       Unweighted events, alpha=1.324769\n",
      "  => Total parameter prop_binmuJets_bin18[0.00,-7.00,7.00] to be gaussian constrained\n",
      "------------------------------------------------------------\n",
      "19         313.902760      163.714379      total sum                     \n",
      "19         4.000000        2.000000        Unweighted events, alpha=78.475690\n",
      "  => Total parameter prop_binmuJets_bin19[0.00,-7.00,7.00] to be gaussian constrained\n",
      "------------------------------------------------------------\n"
     ]
    }
   ],
   "source": [
    "!text2workspace.py datacard_CR123.txt\n"
   ]
  },
  {
   "cell_type": "code",
   "execution_count": 23,
   "metadata": {},
   "outputs": [
    {
     "name": "stdout",
     "output_type": "stream",
     "text": [
      " <<< Combine >>> \r\n",
      "Unsupported method: Impacts\r\n",
      "Use combine --help to get a list of all the allowed methods and options\r\n"
     ]
    }
   ],
   "source": [
    "!combineTool.py -M Impacts -d datacard_CR123.root -m 125 --doInitialFit --robustFit 1\n"
   ]
  },
  {
   "cell_type": "code",
   "execution_count": null,
   "metadata": {},
   "outputs": [],
   "source": []
  },
  {
   "cell_type": "code",
   "execution_count": null,
   "metadata": {
    "scrolled": true
   },
   "outputs": [],
   "source": [
    "!combine -M FitDiagnostics -n CR123  datacard_CR123.txt --redefineSignalPOIs r,ZGammaBkgPhotonSF,WGammaBkgPhotonSF --saveWithUncertainties --plots "
   ]
  },
  {
   "cell_type": "code",
   "execution_count": null,
   "metadata": {
    "scrolled": true
   },
   "outputs": [],
   "source": [
    "!combine -M FitDiagnostics -n CR1  datacard_CR1.txt --redefineSignalPOIs r,ZGammaBkgPhotonSF,WGammaBkgPhotonSF --saveWithUncertainties "
   ]
  },
  {
   "cell_type": "code",
   "execution_count": null,
   "metadata": {
    "scrolled": true
   },
   "outputs": [],
   "source": [
    "!combine -M FitDiagnostics -n CR2  datacard_CR2.txt --redefineSignalPOIs r,ZGammaBkgPhotonSF,WGammaBkgPhotonSF --saveWithUncertainties "
   ]
  },
  {
   "cell_type": "code",
   "execution_count": null,
   "metadata": {
    "scrolled": true
   },
   "outputs": [],
   "source": [
    "!combine -M FitDiagnostics -n CR3  datacard_CR3.txt --redefineSignalPOIs r,ZGammaBkgPhotonSF,WGammaBkgPhotonSF --saveWithUncertainties "
   ]
  },
  {
   "cell_type": "code",
   "execution_count": null,
   "metadata": {
    "scrolled": false
   },
   "outputs": [],
   "source": [
    "!combine -M FitDiagnostics -n CR4  datacard_CR4.txt --redefineSignalPOIs r,ZGammaBkgPhotonSF,WGammaBkgPhotonSF --saveWithUncertainties "
   ]
  }
 ],
 "metadata": {
  "kernelspec": {
   "display_name": "Python 2",
   "language": "python",
   "name": "python2"
  },
  "language_info": {
   "codemirror_mode": {
    "name": "ipython",
    "version": 2
   },
   "file_extension": ".py",
   "mimetype": "text/x-python",
   "name": "python",
   "nbconvert_exporter": "python",
   "pygments_lexer": "ipython2",
   "version": "2.7.14+"
  }
 },
 "nbformat": 4,
 "nbformat_minor": 2
}
