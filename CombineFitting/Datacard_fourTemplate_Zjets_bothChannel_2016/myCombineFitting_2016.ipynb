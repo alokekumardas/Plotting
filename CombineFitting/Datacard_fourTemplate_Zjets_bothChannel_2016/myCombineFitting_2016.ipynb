{
 "cells": [
  {
   "cell_type": "code",
   "execution_count": null,
   "metadata": {},
   "outputs": [],
   "source": [
    "import ROOT\n",
    "import os\n"
   ]
  },
  {
   "cell_type": "code",
   "execution_count": null,
   "metadata": {
    "scrolled": true
   },
   "outputs": [],
   "source": [
    "!combine -M FitDiagnostics -n CR123_wildcard  datacard_CR123_wildcard.txt --redefineSignalPOIs r,ZGammaBkgPhotonSF,WGammaBkgPhotonSF --saveWithUncertainties --plots "
   ]
  },
  {
   "cell_type": "code",
   "execution_count": null,
   "metadata": {},
   "outputs": [],
   "source": [
    "!combine -M FitDiagnostics -n CR123           datacard_CR123.txt          --redefineSignalPOIs r,ZGammaBkgPhotonSF,WGammaBkgPhotonSF --saveWithUncertainties --plots "
   ]
  },
  {
   "cell_type": "code",
   "execution_count": null,
   "metadata": {},
   "outputs": [],
   "source": [
    "# !text2workspace.py datacard_CR123.txt\n"
   ]
  },
  {
   "cell_type": "code",
   "execution_count": null,
   "metadata": {},
   "outputs": [],
   "source": [
    "# !combineTool.py -M Impacts -d datacard_CR123.root -m 125 --doInitialFit --robustFit 1\n"
   ]
  },
  {
   "cell_type": "code",
   "execution_count": null,
   "metadata": {},
   "outputs": [],
   "source": []
  },
  {
   "cell_type": "code",
   "execution_count": null,
   "metadata": {
    "scrolled": true
   },
   "outputs": [],
   "source": [
    "# !combine -M FitDiagnostics -n CR123  datacard_CR123.txt --redefineSignalPOIs r,ZGammaBkgPhotonSF,WGammaBkgPhotonSF --saveWithUncertainties --plots "
   ]
  },
  {
   "cell_type": "code",
   "execution_count": null,
   "metadata": {
    "scrolled": true
   },
   "outputs": [],
   "source": [
    "# !combine -M FitDiagnostics -n CR1  datacard_CR1.txt --redefineSignalPOIs r,ZGammaBkgPhotonSF,WGammaBkgPhotonSF --saveWithUncertainties "
   ]
  },
  {
   "cell_type": "code",
   "execution_count": null,
   "metadata": {
    "scrolled": true
   },
   "outputs": [],
   "source": [
    "# !combine -M FitDiagnostics -n CR2  datacard_CR2.txt --redefineSignalPOIs r,ZGammaBkgPhotonSF,WGammaBkgPhotonSF --saveWithUncertainties "
   ]
  },
  {
   "cell_type": "code",
   "execution_count": null,
   "metadata": {
    "scrolled": true
   },
   "outputs": [],
   "source": [
    "# !combine -M FitDiagnostics -n CR3  datacard_CR3.txt --redefineSignalPOIs r,ZGammaBkgPhotonSF,WGammaBkgPhotonSF --saveWithUncertainties "
   ]
  },
  {
   "cell_type": "code",
   "execution_count": null,
   "metadata": {
    "scrolled": false
   },
   "outputs": [],
   "source": [
    "# !combine -M FitDiagnostics -n CR4  datacard_CR4.txt --redefineSignalPOIs r,ZGammaBkgPhotonSF,WGammaBkgPhotonSF --saveWithUncertainties "
   ]
  }
 ],
 "metadata": {
  "kernelspec": {
   "display_name": "Python 2",
   "language": "python",
   "name": "python2"
  },
  "language_info": {
   "codemirror_mode": {
    "name": "ipython",
    "version": 2
   },
   "file_extension": ".py",
   "mimetype": "text/x-python",
   "name": "python",
   "nbconvert_exporter": "python",
   "pygments_lexer": "ipython2",
   "version": "2.7.14+"
  }
 },
 "nbformat": 4,
 "nbformat_minor": 2
}
