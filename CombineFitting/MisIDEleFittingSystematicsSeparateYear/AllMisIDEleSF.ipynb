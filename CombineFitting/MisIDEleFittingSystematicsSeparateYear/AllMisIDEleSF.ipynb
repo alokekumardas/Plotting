{
 "cells": [
  {
   "cell_type": "code",
   "execution_count": 1,
   "metadata": {},
   "outputs": [
    {
     "name": "stdout",
     "output_type": "stream",
     "text": [
      "Welcome to JupyROOT 6.12/07\n",
      "/uscms_data/d3/npoudyal/TTGammaSemiLeptonic13TeV/CMSSW_10_2_14/src/TTGammaSemiLep_13TeV/Plotting/CombineFitting/MisIDEleFittingSystematicsSeparateYear\r\n"
     ]
    }
   ],
   "source": [
    "import ROOT\n",
    "!pwd"
   ]
  },
  {
   "cell_type": "code",
   "execution_count": 2,
   "metadata": {},
   "outputs": [],
   "source": [
    "ListOfFiles2016 = [\"fitDiagnosticsCR123_2016.root\", \"fitDiagnosticsCR1_2016.root\",  \"fitDiagnosticsCR2_2016.root\", \"fitDiagnosticsCR3_2016.root\",\"fitDiagnosticsCR4_2016.root\"]\n",
    "ListOfFiles2017 = [\"fitDiagnosticsCR123_2017.root\", \"fitDiagnosticsCR1_2017.root\",  \"fitDiagnosticsCR2_2017.root\", \"fitDiagnosticsCR3_2017.root\",\"fitDiagnosticsCR4_2017.root\"]\n",
    "ListOfFiles2018 = [\"fitDiagnosticsCR123_2018.root\", \"fitDiagnosticsCR1_2018.root\",  \"fitDiagnosticsCR2_2018.root\", \"fitDiagnosticsCR3_2018.root\",\"fitDiagnosticsCR4_2018.root\"]\n"
   ]
  },
  {
   "cell_type": "code",
   "execution_count": 3,
   "metadata": {},
   "outputs": [],
   "source": [
    "controlRegionDict ={\"SR8\":\"tight\", \"CR123\":\"looseCRge2e0\", \"AR\":\"looseCRge2ge0\", \"CR7\":\"looseCRe3ge2\", \"CR3\":\"looseCRge4e0\", \"CR2\":\"looseCRe3e0\", \n",
    "\t\t\t\t   \"CR4\":\"looseCRe2e1\", \"CR1\":\"looseCRe2e0\", \"CR6\":\"looseCRe2e2\", \"CR5\":\"looseCRe3e1\" }\n",
    "\n",
    "\n",
    "CRDictMisID ={\"SR8\":\"misIDsfSReight\", \"CR123\":\"misIDsfCRall\", \"CR7\":\"misIDsfCRseven\", \"CR3\":\"misIDsfCRthree\", \"CR2\":\"misIDsfCRtwo\", \n",
    "\t\t \"CR4\":\"misIDsfCRfour\", \"CR1\":\"misIDsfCRone\", \"CR6\":\"misIDsfCRsix\", \"CR5\":\"misIDsfCRfive\" }\n",
    "\n",
    "CRDictZGamma ={\"SR8\":\"zGammasfSReight\", \"CR123\":\"zGammasfCRall\", \"CR7\":\"zGammasfCRseven\", \"CR3\":\"zGammasfCRthree\", \"CR2\":\"zGammasfCRtwo\", \n",
    "\t\t \"CR4\":\"zGammasfCRfour\", \"CR1\":\"zGammasfCRone\", \"CR6\":\"zGammasfCRsix\", \"CR5\":\"zGammasfCRfive\" }\n",
    "\n",
    "CRDictWGamma ={\"SR8\":\"wGammasfSReight\", \"CR123\":\"wGammasfCRall\", \"CR7\":\"wGammasfCRseven\", \"CR3\":\"wGammasfCRthree\", \"CR2\":\"wGammasfCRtwo\", \n",
    "\t\t \"CR4\":\"wGammasfCRfour\", \"CR1\":\"wGammasfCRone\", \"CR6\":\"wGammasfCRsix\", \"CR5\":\"wGammasfCRfive\" }"
   ]
  },
  {
   "cell_type": "code",
   "execution_count": 4,
   "metadata": {},
   "outputs": [],
   "source": [
    "line = \"\"\n",
    "for ifile in ListOfFiles2016:\n",
    "    myfile = ROOT.TFile(ifile,\"read\")\n",
    "    if myfile.GetListOfKeys().Contains(\"fit_s\") is False:\n",
    "        print ifile[14:-10], \": Fit failed.\"\n",
    "        continue\n",
    "    fit_s = myfile.Get(\"fit_s\")\n",
    "    line += \"MisIDEleSF_2016_%s = %.3f \\n\"%(controlRegionDict[ifile[14:-10]],fit_s.floatParsFinal().find(\"r\").getVal())\n",
    "    line +=   \"ZGammaSF_2016_%s = %.3f \\n\"%(controlRegionDict[ifile[14:-10]],fit_s.floatParsFinal().find(\"ZGammaBkgPhotonSF\").getVal())\n",
    "    line +=   \"WGammaSF_2016_%s = %.3f \\n\"%(controlRegionDict[ifile[14:-10]],fit_s.floatParsFinal().find(\"WGammaBkgPhotonSF\").getVal())\n",
    "\n",
    "for ifile in ListOfFiles2017:\n",
    "    myfile = ROOT.TFile(ifile,\"read\")\n",
    "    if myfile.GetListOfKeys().Contains(\"fit_s\") is False:\n",
    "        print ifile[14:-10], \": Fit failed.\"\n",
    "        continue\n",
    "    fit_s = myfile.Get(\"fit_s\")\n",
    "    line += \"MisIDEleSF_2017_%s = %.3f \\n\"%(controlRegionDict[ifile[14:-10]],fit_s.floatParsFinal().find(\"r\").getVal())\n",
    "    line +=   \"ZGammaSF_2017_%s = %.3f \\n\"%(controlRegionDict[ifile[14:-10]],fit_s.floatParsFinal().find(\"ZGammaBkgPhotonSF\").getVal())\n",
    "    line +=   \"WGammaSF_2017_%s = %.3f \\n\"%(controlRegionDict[ifile[14:-10]],fit_s.floatParsFinal().find(\"WGammaBkgPhotonSF\").getVal())\n",
    "\n",
    "for ifile in ListOfFiles2018:\n",
    "    myfile = ROOT.TFile(ifile,\"read\")\n",
    "    if myfile.GetListOfKeys().Contains(\"fit_s\") is False:\n",
    "        print ifile[14:-10], \": Fit failed.\"\n",
    "        continue\n",
    "    fit_s = myfile.Get(\"fit_s\")\n",
    "    line += \"MisIDEleSF_2018_%s = %.3f \\n\"%(controlRegionDict[ifile[14:-10]],fit_s.floatParsFinal().find(\"r\").getVal())\n",
    "    line +=   \"ZGammaSF_2018_%s = %.3f \\n\"%(controlRegionDict[ifile[14:-10]],fit_s.floatParsFinal().find(\"ZGammaBkgPhotonSF\").getVal())\n",
    "    line +=   \"WGammaSF_2018_%s = %.3f \\n\"%(controlRegionDict[ifile[14:-10]],fit_s.floatParsFinal().find(\"WGammaBkgPhotonSF\").getVal())\n",
    "\n",
    "with open(\"MisIDEleSFvalues.py\",\"w\") as _file:\n",
    "    _file.write(line)\n",
    "\n"
   ]
  },
  {
   "cell_type": "code",
   "execution_count": 6,
   "metadata": {},
   "outputs": [
    {
     "name": "stdout",
     "output_type": "stream",
     "text": [
      "MisIDEleSF_2016_looseCRge2e0 = 2.048 \r\n",
      "ZGammaSF_2016_looseCRge2e0 = 0.962 \r\n",
      "WGammaSF_2016_looseCRge2e0 = 1.302 \r\n",
      "MisIDEleSF_2016_looseCRe2e0 = 2.237 \r\n",
      "ZGammaSF_2016_looseCRe2e0 = 0.917 \r\n",
      "WGammaSF_2016_looseCRe2e0 = 1.336 \r\n",
      "MisIDEleSF_2016_looseCRe3e0 = 2.255 \r\n",
      "ZGammaSF_2016_looseCRe3e0 = 0.912 \r\n",
      "WGammaSF_2016_looseCRe3e0 = 1.351 \r\n",
      "MisIDEleSF_2016_looseCRge4e0 = 2.070 \r\n",
      "ZGammaSF_2016_looseCRge4e0 = 1.389 \r\n",
      "WGammaSF_2016_looseCRge4e0 = 1.405 \r\n",
      "MisIDEleSF_2016_looseCRe2e1 = 2.165 \r\n",
      "ZGammaSF_2016_looseCRe2e1 = 1.209 \r\n",
      "WGammaSF_2016_looseCRe2e1 = 1.873 \r\n",
      "MisIDEleSF_2017_looseCRge2e0 = 2.325 \r\n",
      "ZGammaSF_2017_looseCRge2e0 = 1.118 \r\n",
      "WGammaSF_2017_looseCRge2e0 = 1.621 \r\n",
      "MisIDEleSF_2017_looseCRe2e0 = 2.310 \r\n",
      "ZGammaSF_2017_looseCRe2e0 = 1.088 \r\n",
      "WGammaSF_2017_looseCRe2e0 = 1.524 \r\n",
      "MisIDEleSF_2017_looseCRe3e0 = 2.505 \r\n",
      "ZGammaSF_2017_looseCRe3e0 = 1.106 \r\n",
      "WGammaSF_2017_looseCRe3e0 = 1.810 \r\n",
      "MisIDEleSF_2017_looseCRge4e0 = 2.505 \r\n",
      "ZGammaSF_2017_looseCRge4e0 = 1.218 \r\n",
      "WGammaSF_2017_looseCRge4e0 = 2.363 \r\n",
      "MisIDEleSF_2017_looseCRe2e1 = 2.325 \r\n",
      "ZGammaSF_2017_looseCRe2e1 = 0.559 \r\n",
      "WGammaSF_2017_looseCRe2e1 = 3.228 \r\n",
      "MisIDEleSF_2018_looseCRge2e0 = 1.530 \r\n",
      "ZGammaSF_2018_looseCRge2e0 = 1.104 \r\n",
      "WGammaSF_2018_looseCRge2e0 = 1.245 \r\n",
      "MisIDEleSF_2018_looseCRe2e0 = 1.509 \r\n",
      "ZGammaSF_2018_looseCRe2e0 = 1.013 \r\n",
      "WGammaSF_2018_looseCRe2e0 = 1.299 \r\n",
      "MisIDEleSF_2018_looseCRe3e0 = 1.610 \r\n",
      "ZGammaSF_2018_looseCRe3e0 = 1.374 \r\n",
      "WGammaSF_2018_looseCRe3e0 = 1.251 \r\n",
      "MisIDEleSF_2018_looseCRge4e0 = 1.693 \r\n",
      "ZGammaSF_2018_looseCRge4e0 = 0.902 \r\n",
      "WGammaSF_2018_looseCRge4e0 = 2.003 \r\n",
      "MisIDEleSF_2018_looseCRe2e1 = 1.701 \r\n",
      "ZGammaSF_2018_looseCRe2e1 = 0.931 \r\n",
      "WGammaSF_2018_looseCRe2e1 = 1.269 \r\n"
     ]
    }
   ],
   "source": [
    "!cat MisIDEleSFvalues.py\n",
    "\n",
    "# ## copy the file to plotting folder\n",
    "# !cp MisIDEleSFvalues.py /uscms_data/d3/npoudyal/TTGammaSemiLeptonic13TeV/CMSSW_10_2_14/src/TTGammaSemiLep_13TeV/Plotting"
   ]
  },
  {
   "cell_type": "code",
   "execution_count": 7,
   "metadata": {},
   "outputs": [],
   "source": [
    "line = \"\"\n",
    "for ifile in ListOfFiles2016:\n",
    "    myfile = ROOT.TFile(ifile,\"read\")\n",
    "    if myfile.GetListOfKeys().Contains(\"fit_s\") is False:\n",
    "        print ifile[14:-10], \": Fit failed.\"\n",
    "        continue\n",
    "    fit_s = myfile.Get(\"fit_s\")\n",
    "    line += \"\\\\newcommand{\\\\%s} {\\ensuremath{%.3f \\\\substack{%.3f \\\\\\\\ +%.3f}}}\\n\"%(CRDictMisID[ifile[14:-10]]+\"Sixteen\",fit_s.floatParsFinal().find(\"r\").getVal(),fit_s.floatParsFinal().find(\"r\").getErrorLo(),fit_s.floatParsFinal().find(\"r\").getErrorHi())\n",
    "    line += \"\\\\newcommand{\\\\%s} {\\ensuremath{%.3f \\\\substack{%.3f \\\\\\\\ +%.3f}}}\\n\"%(CRDictZGamma[ifile[14:-10]]+\"Sixteen\",fit_s.floatParsFinal().find(\"ZGammaBkgPhotonSF\").getVal(),fit_s.floatParsFinal().find(\"r\").getErrorLo(),fit_s.floatParsFinal().find(\"ZGammaBkgPhotonSF\").getErrorHi())\n",
    "    line += \"\\\\newcommand{\\\\%s} {\\ensuremath{%.3f \\\\substack{%.3f \\\\\\\\ +%.3f}}}\\n\"%(CRDictWGamma[ifile[14:-10]]+\"Sixteen\",fit_s.floatParsFinal().find(\"WGammaBkgPhotonSF\").getVal(),fit_s.floatParsFinal().find(\"r\").getErrorLo(),fit_s.floatParsFinal().find(\"WGammaBkgPhotonSF\").getErrorHi())\n",
    "\n",
    "for ifile in ListOfFiles2017:\n",
    "    myfile = ROOT.TFile(ifile,\"read\")\n",
    "    if myfile.GetListOfKeys().Contains(\"fit_s\") is False:\n",
    "        print ifile[14:-10], \": Fit failed.\"\n",
    "        continue\n",
    "    fit_s = myfile.Get(\"fit_s\")\n",
    "    line += \"\\\\newcommand{\\\\%s} {\\ensuremath{%.3f \\\\substack{%.3f \\\\\\\\ +%.3f}}}\\n\"%(CRDictMisID[ifile[14:-10]]+\"Seventeen\",fit_s.floatParsFinal().find(\"r\").getVal(),fit_s.floatParsFinal().find(\"r\").getErrorLo(),fit_s.floatParsFinal().find(\"r\").getErrorHi())\n",
    "    line += \"\\\\newcommand{\\\\%s} {\\ensuremath{%.3f \\\\substack{%.3f \\\\\\\\ +%.3f}}}\\n\"%(CRDictZGamma[ifile[14:-10]]+\"Seventeen\",fit_s.floatParsFinal().find(\"ZGammaBkgPhotonSF\").getVal(),fit_s.floatParsFinal().find(\"r\").getErrorLo(),fit_s.floatParsFinal().find(\"ZGammaBkgPhotonSF\").getErrorHi())\n",
    "    line += \"\\\\newcommand{\\\\%s} {\\ensuremath{%.3f \\\\substack{%.3f \\\\\\\\ +%.3f}}}\\n\"%(CRDictWGamma[ifile[14:-10]]+\"Seventeen\",fit_s.floatParsFinal().find(\"WGammaBkgPhotonSF\").getVal(),fit_s.floatParsFinal().find(\"r\").getErrorLo(),fit_s.floatParsFinal().find(\"WGammaBkgPhotonSF\").getErrorHi())\n",
    "\n",
    "for ifile in ListOfFiles2018:\n",
    "    myfile = ROOT.TFile(ifile,\"read\")\n",
    "    if myfile.GetListOfKeys().Contains(\"fit_s\") is False:\n",
    "        print ifile[14:-10], \": Fit failed.\"\n",
    "        continue\n",
    "    fit_s = myfile.Get(\"fit_s\")\n",
    "    line += \"\\\\newcommand{\\\\%s} {\\ensuremath{%.3f \\\\substack{%.3f \\\\\\\\ +%.3f}}}\\n\"%(CRDictMisID[ifile[14:-10]]+\"Eighteen\",fit_s.floatParsFinal().find(\"r\").getVal(),fit_s.floatParsFinal().find(\"r\").getErrorLo(),fit_s.floatParsFinal().find(\"r\").getErrorHi())\n",
    "    line += \"\\\\newcommand{\\\\%s} {\\ensuremath{%.3f \\\\substack{%.3f \\\\\\\\ +%.3f}}}\\n\"%(CRDictZGamma[ifile[14:-10]]+\"Eighteen\",fit_s.floatParsFinal().find(\"ZGammaBkgPhotonSF\").getVal(),fit_s.floatParsFinal().find(\"r\").getErrorLo(),fit_s.floatParsFinal().find(\"ZGammaBkgPhotonSF\").getErrorHi())\n",
    "    line += \"\\\\newcommand{\\\\%s} {\\ensuremath{%.3f \\\\substack{%.3f \\\\\\\\ +%.3f}}}\\n\"%(CRDictWGamma[ifile[14:-10]]+\"Eighteen\",fit_s.floatParsFinal().find(\"WGammaBkgPhotonSF\").getVal(),fit_s.floatParsFinal().find(\"r\").getErrorLo(),fit_s.floatParsFinal().find(\"WGammaBkgPhotonSF\").getErrorHi())\n",
    "\n",
    "\n",
    "with open(\"MisIDEleSFvalues.tex\",\"w\") as _file:\n",
    "    _file.write(line)\n",
    "\n"
   ]
  },
  {
   "cell_type": "code",
   "execution_count": 9,
   "metadata": {},
   "outputs": [
    {
     "name": "stdout",
     "output_type": "stream",
     "text": [
      "\\newcommand{\\misIDsfCRallSixteen} {\\ensuremath{2.048 \\substack{-0.141 \\\\ +0.156}}}\r\n",
      "\\newcommand{\\zGammasfCRallSixteen} {\\ensuremath{0.962 \\substack{-0.141 \\\\ +0.081}}}\r\n",
      "\\newcommand{\\wGammasfCRallSixteen} {\\ensuremath{1.302 \\substack{-0.141 \\\\ +0.090}}}\r\n",
      "\\newcommand{\\misIDsfCRoneSixteen} {\\ensuremath{2.237 \\substack{-0.172 \\\\ +0.164}}}\r\n",
      "\\newcommand{\\zGammasfCRoneSixteen} {\\ensuremath{0.917 \\substack{-0.172 \\\\ +0.080}}}\r\n",
      "\\newcommand{\\wGammasfCRoneSixteen} {\\ensuremath{1.336 \\substack{-0.172 \\\\ +0.089}}}\r\n",
      "\\newcommand{\\misIDsfCRtwoSixteen} {\\ensuremath{2.255 \\substack{-0.195 \\\\ +0.213}}}\r\n",
      "\\newcommand{\\zGammasfCRtwoSixteen} {\\ensuremath{0.912 \\substack{-0.195 \\\\ +0.180}}}\r\n",
      "\\newcommand{\\wGammasfCRtwoSixteen} {\\ensuremath{1.351 \\substack{-0.195 \\\\ +0.158}}}\r\n",
      "\\newcommand{\\misIDsfCRthreeSixteen} {\\ensuremath{2.070 \\substack{-0.238 \\\\ +0.273}}}\r\n",
      "\\newcommand{\\zGammasfCRthreeSixteen} {\\ensuremath{1.389 \\substack{-0.238 \\\\ +0.402}}}\r\n",
      "\\newcommand{\\wGammasfCRthreeSixteen} {\\ensuremath{1.405 \\substack{-0.238 \\\\ +0.229}}}\r\n",
      "\\newcommand{\\misIDsfCRfourSixteen} {\\ensuremath{2.165 \\substack{-0.249 \\\\ +0.288}}}\r\n",
      "\\newcommand{\\zGammasfCRfourSixteen} {\\ensuremath{1.209 \\substack{-0.249 \\\\ +0.242}}}\r\n",
      "\\newcommand{\\wGammasfCRfourSixteen} {\\ensuremath{1.873 \\substack{-0.249 \\\\ +0.496}}}\r\n",
      "\\newcommand{\\misIDsfCRallSeventeen} {\\ensuremath{2.325 \\substack{-0.175 \\\\ +0.184}}}\r\n",
      "\\newcommand{\\zGammasfCRallSeventeen} {\\ensuremath{1.118 \\substack{-0.175 \\\\ +0.133}}}\r\n",
      "\\newcommand{\\wGammasfCRallSeventeen} {\\ensuremath{1.621 \\substack{-0.175 \\\\ +0.136}}}\r\n",
      "\\newcommand{\\misIDsfCRoneSeventeen} {\\ensuremath{2.310 \\substack{-0.176 \\\\ +0.190}}}\r\n",
      "\\newcommand{\\zGammasfCRoneSeventeen} {\\ensuremath{1.088 \\substack{-0.176 \\\\ +0.126}}}\r\n",
      "\\newcommand{\\wGammasfCRoneSeventeen} {\\ensuremath{1.524 \\substack{-0.176 \\\\ +0.133}}}\r\n",
      "\\newcommand{\\misIDsfCRtwoSeventeen} {\\ensuremath{2.505 \\substack{-0.211 \\\\ +0.225}}}\r\n",
      "\\newcommand{\\zGammasfCRtwoSeventeen} {\\ensuremath{1.106 \\substack{-0.211 \\\\ +0.219}}}\r\n",
      "\\newcommand{\\wGammasfCRtwoSeventeen} {\\ensuremath{1.810 \\substack{-0.211 \\\\ +0.201}}}\r\n",
      "\\newcommand{\\misIDsfCRthreeSeventeen} {\\ensuremath{2.505 \\substack{-0.320 \\\\ +0.371}}}\r\n",
      "\\newcommand{\\zGammasfCRthreeSeventeen} {\\ensuremath{1.218 \\substack{-0.320 \\\\ +0.821}}}\r\n",
      "\\newcommand{\\wGammasfCRthreeSeventeen} {\\ensuremath{2.363 \\substack{-0.320 \\\\ +0.513}}}\r\n",
      "\\newcommand{\\misIDsfCRfourSeventeen} {\\ensuremath{2.325 \\substack{-0.260 \\\\ +0.300}}}\r\n",
      "\\newcommand{\\zGammasfCRfourSeventeen} {\\ensuremath{0.559 \\substack{-0.260 \\\\ +0.366}}}\r\n",
      "\\newcommand{\\wGammasfCRfourSeventeen} {\\ensuremath{3.228 \\substack{-0.260 \\\\ +0.881}}}\r\n",
      "\\newcommand{\\misIDsfCRallEighteen} {\\ensuremath{1.530 \\substack{-0.076 \\\\ +0.079}}}\r\n",
      "\\newcommand{\\zGammasfCRallEighteen} {\\ensuremath{1.104 \\substack{-0.076 \\\\ +0.083}}}\r\n",
      "\\newcommand{\\wGammasfCRallEighteen} {\\ensuremath{1.245 \\substack{-0.076 \\\\ +0.093}}}\r\n",
      "\\newcommand{\\misIDsfCRoneEighteen} {\\ensuremath{1.509 \\substack{-0.074 \\\\ +0.077}}}\r\n",
      "\\newcommand{\\zGammasfCRoneEighteen} {\\ensuremath{1.013 \\substack{-0.074 \\\\ +0.084}}}\r\n",
      "\\newcommand{\\wGammasfCRoneEighteen} {\\ensuremath{1.299 \\substack{-0.074 \\\\ +0.099}}}\r\n",
      "\\newcommand{\\misIDsfCRtwoEighteen} {\\ensuremath{1.610 \\substack{-0.109 \\\\ +0.117}}}\r\n",
      "\\newcommand{\\zGammasfCRtwoEighteen} {\\ensuremath{1.374 \\substack{-0.109 \\\\ +0.146}}}\r\n",
      "\\newcommand{\\wGammasfCRtwoEighteen} {\\ensuremath{1.251 \\substack{-0.109 \\\\ +0.127}}}\r\n",
      "\\newcommand{\\misIDsfCRthreeEighteen} {\\ensuremath{1.693 \\substack{-0.172 \\\\ +0.195}}}\r\n",
      "\\newcommand{\\zGammasfCRthreeEighteen} {\\ensuremath{0.902 \\substack{-0.172 \\\\ +0.554}}}\r\n",
      "\\newcommand{\\wGammasfCRthreeEighteen} {\\ensuremath{2.003 \\substack{-0.172 \\\\ +0.326}}}\r\n",
      "\\newcommand{\\misIDsfCRfourEighteen} {\\ensuremath{1.701 \\substack{-0.151 \\\\ +0.173}}}\r\n",
      "\\newcommand{\\zGammasfCRfourEighteen} {\\ensuremath{0.931 \\substack{-0.151 \\\\ +0.181}}}\r\n",
      "\\newcommand{\\wGammasfCRfourEighteen} {\\ensuremath{1.269 \\substack{-0.151 \\\\ +0.354}}}\r\n"
     ]
    }
   ],
   "source": [
    "!cat MisIDEleSFvalues.tex\n",
    "\n",
    "# ## copy the file to plotting folder\n",
    "# !cp MisIDEleSFvalues.tex ../AllTexFiles "
   ]
  },
  {
   "cell_type": "code",
   "execution_count": null,
   "metadata": {},
   "outputs": [],
   "source": []
  }
 ],
 "metadata": {
  "kernelspec": {
   "display_name": "Python 2",
   "language": "python",
   "name": "python2"
  },
  "language_info": {
   "codemirror_mode": {
    "name": "ipython",
    "version": 2
   },
   "file_extension": ".py",
   "mimetype": "text/x-python",
   "name": "python",
   "nbconvert_exporter": "python",
   "pygments_lexer": "ipython2",
   "version": "2.7.14+"
  }
 },
 "nbformat": 4,
 "nbformat_minor": 2
}
