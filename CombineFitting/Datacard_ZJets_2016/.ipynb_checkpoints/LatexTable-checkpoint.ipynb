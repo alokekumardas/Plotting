{
 "cells": [
  {
   "cell_type": "code",
   "execution_count": 1,
   "metadata": {},
   "outputs": [],
   "source": [
    "import uproot"
   ]
  },
  {
   "cell_type": "code",
   "execution_count": 2,
   "metadata": {},
   "outputs": [],
   "source": [
    "ListOfFiles = [\"fitDiagnosticsAR_both.root\", \"fitDiagnosticsCR123_both.root\", \"fitDiagnosticsCR1_both.root\",  \"fitDiagnosticsCR2_both.root\", \"fitDiagnosticsCR3_both.root\",\n",
    "\t\t\t   \"fitDiagnosticsCR4_both.root\", \"fitDiagnosticsCR5_both.root\", \"fitDiagnosticsCR6_both.root\", \"fitDiagnosticsCR7_both.root\",  \"fitDiagnosticsSR8_both.root\"]"
   ]
  },
  {
   "cell_type": "code",
   "execution_count": 3,
   "metadata": {},
   "outputs": [],
   "source": [
    "controlRegionDict ={\"SR8\":\"tight\", \"CR123\":\"looseCRge2e0\", \"AR\":\"looseCRge2ge0\", \"CR7\":\"looseCRe3ge2\", \"CR3\":\"looseCRge4e0\", \"CR2\":\"looseCRe3e0\", \n",
    "\t\t\t\t   \"CR4\":\"looseCRe2e1\", \"CR1\":\"looseCRe2e0\", \"CR6\":\"looseCRe2e2\", \"CR5\":\"looseCRe3e1\" }"
   ]
  },
  {
   "cell_type": "code",
   "execution_count": 4,
   "metadata": {},
   "outputs": [
    {
     "name": "stdout",
     "output_type": "stream",
     "text": [
      "\\hline\n",
      "Control Regions & ZJetsSF 2016 \\\\\n",
      "\\hline\n",
      "AR & $ 1.214 \\substack{ -0.003 \\\\ + 0.003 }$ \\\\\n",
      "CR123 & $ 1.214 \\substack{ -0.003 \\\\ + 0.003 }$ \\\\\n",
      "CR1 & $ 1.227 \\substack{ -0.003 \\\\ + 0.003 }$ \\\\\n",
      "CR2 & $ 1.253 \\substack{ -0.006 \\\\ + 0.006 }$ \\\\\n",
      "CR3 & $ 1.124 \\substack{ -0.01 \\\\ + 0.01 }$ \\\\\n",
      "CR4 & $ 1.236 \\substack{ -0.009 \\\\ + 0.009 }$ \\\\\n",
      "CR5 & $ 1.265 \\substack{ -0.017 \\\\ + 0.017 }$ \\\\\n",
      "CR6 & $ 1.252 \\substack{ -0.031 \\\\ + 0.032 }$ \\\\\n",
      "CR7 & $ 1.305 \\substack{ -0.046 \\\\ + 0.048 }$ \\\\\n",
      "SR8 & $ 1.221 \\substack{ -0.023 \\\\ + 0.023 }$ \\\\\n"
     ]
    }
   ],
   "source": [
    "print \"\\\\hline\"\n",
    "print \"Control Regions & ZJetsSF 2016 \\\\\\\\\"\n",
    "print \"\\\\hline\"\n",
    "for ifile in ListOfFiles:\n",
    "    itree = uproot.open(ifile)[\"tree_fit_sb\"]\n",
    "    print ifile[14:-10],\"&\",\"$\",round(itree.array(\"r\"),3),\"\\substack{\" ,-round(itree.array(\"rLoErr\"),3),\"\\\\\\\\\", \"+\",round(itree.array(\"rHiErr\"),3),\"}$ \\\\\\\\\""
   ]
  },
  {
   "cell_type": "code",
   "execution_count": 8,
   "metadata": {},
   "outputs": [
    {
     "name": "stdout",
     "output_type": "stream",
     "text": [
      "/uscms_data/d3/npoudyal/TTGammaSemiLeptonic13TeV/CMSSW_10_2_14/src/HiggsAnalysis/CombinedLimit/ttgammaCombineFitting/Datacard_ZJets_2016\n",
      "AR looseCRge2ge0 ZJetSF= 1.214 ;\n",
      "CR123 looseCRge2e0 ZJetSF= 1.214 ;\n",
      "CR1 looseCRe2e0 ZJetSF= 1.227 ;\n",
      "CR2 looseCRe3e0 ZJetSF= 1.253 ;\n",
      "CR3 looseCRge4e0 ZJetSF= 1.124 ;\n",
      "CR4 looseCRe2e1 ZJetSF= 1.236 ;\n",
      "CR5 looseCRe3e1 ZJetSF= 1.265 ;\n",
      "CR6 looseCRe2e2 ZJetSF= 1.252 ;\n",
      "CR7 looseCRe3ge2 ZJetSF= 1.305 ;\n",
      "SR8 tight ZJetSF= 1.221 ;\n",
      "[1.214, 1.214, 1.227, 1.253, 1.124, 1.236, 1.265, 1.252, 1.305, 1.221]\n"
     ]
    }
   ],
   "source": [
    "!pwd\n",
    "myArray = []\n",
    "for ifile in ListOfFiles:\n",
    "    itree = uproot.open(ifile)[\"tree_fit_sb\"]\n",
    "    print ifile[14:-10],controlRegionDict[ifile[14:-10]],\"ZJetSF=\",round(itree.array(\"r\"),3),\";\"\n",
    "    myArray.append(round(itree.array(\"r\"),3))\n",
    "print myArray"
   ]
  },
  {
   "cell_type": "code",
   "execution_count": null,
   "metadata": {},
   "outputs": [],
   "source": []
  }
 ],
 "metadata": {
  "kernelspec": {
   "display_name": "Python 2",
   "language": "python",
   "name": "python2"
  },
  "language_info": {
   "codemirror_mode": {
    "name": "ipython",
    "version": 2
   },
   "file_extension": ".py",
   "mimetype": "text/x-python",
   "name": "python",
   "nbconvert_exporter": "python",
   "pygments_lexer": "ipython2",
   "version": "2.7.14+"
  }
 },
 "nbformat": 4,
 "nbformat_minor": 2
}
