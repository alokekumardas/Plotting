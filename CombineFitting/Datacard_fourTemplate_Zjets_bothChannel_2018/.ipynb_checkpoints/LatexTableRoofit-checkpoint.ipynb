{
 "cells": [
  {
   "cell_type": "code",
   "execution_count": 6,
   "metadata": {},
   "outputs": [
    {
     "name": "stdout",
     "output_type": "stream",
     "text": [
      "/uscms_data/d3/npoudyal/TTGammaSemiLeptonic13TeV/CMSSW_10_2_14/src/HiggsAnalysis/CombinedLimit/ttgammaCombineFitting/Datacard_fourTemplate_Zjets_bothChannel_2018\r\n"
     ]
    }
   ],
   "source": [
    "import ROOT\n",
    "!pwd"
   ]
  },
  {
   "cell_type": "code",
   "execution_count": 2,
   "metadata": {},
   "outputs": [],
   "source": [
    "ListOfFiles = [\"fitDiagnosticsCR123.root\", \"fitDiagnosticsCR1.root\",  \"fitDiagnosticsCR2.root\", \"fitDiagnosticsCR3.root\",\n",
    "\t\t\t   \"fitDiagnosticsCR4.root\"]"
   ]
  },
  {
   "cell_type": "code",
   "execution_count": 3,
   "metadata": {},
   "outputs": [],
   "source": [
    "controlRegionDict ={\"SR8\":\"tight\", \"CR123\":\"looseCRge2e0\", \"AR\":\"looseCRge2ge0\", \"CR7\":\"looseCRe3ge2\", \"CR3\":\"looseCRge4e0\", \"CR2\":\"looseCRe3e0\", \n",
    "\t\t\t\t   \"CR4\":\"looseCRe2e1\", \"CR1\":\"looseCRe2e0\", \"CR6\":\"looseCRe2e2\", \"CR5\":\"looseCRe3e1\" }"
   ]
  },
  {
   "cell_type": "code",
   "execution_count": 7,
   "metadata": {},
   "outputs": [
    {
     "name": "stdout",
     "output_type": "stream",
     "text": [
      "\\begin{tabular}{|l||l|l|l|} \n",
      "\\hline\n",
      "Control Regions & MisIDEleSF & ZGammaSF & WGammaSF \\\\  \n",
      "\\hline\n",
      "CR123 & $ 2.044 \\substack{ -0.051 \\\\ + 0.052 }$ & $ 1.084 \\substack{ -0.066 \\\\ + 0.052 }$ & $ 1.678 \\substack{ -0.068 \\\\ + 0.052 }$ \\\\\n",
      "CR1 & $ 2.071 \\substack{ -0.048 \\\\ + 0.05 }$ & $ 0.989 \\substack{ -0.067 \\\\ + 0.05 }$ & $ 1.68 \\substack{ -0.079 \\\\ + 0.05 }$ \\\\\n",
      "CR2 & $ 2.066 \\substack{ -0.124 \\\\ + 0.135 }$ & $ 1.594 \\substack{ -0.171 \\\\ + 0.135 }$ & $ 1.593 \\substack{ -0.142 \\\\ + 0.135 }$ \\\\\n",
      "CR3 & $ 2.171 \\substack{ -0.225 \\\\ + 0.261 }$ & $ 3.007 \\substack{ -0.557 \\\\ + 0.261 }$ & $ 1.807 \\substack{ -0.253 \\\\ + 0.261 }$ \\\\\n",
      "CR4 & $ 2.454 \\substack{ -0.179 \\\\ + 0.199 }$ & $ 1.163 \\substack{ -0.171 \\\\ + 0.199 }$ & $ 1.725 \\substack{ -0.485 \\\\ + 0.199 }$ \\\\\n",
      "\\hline\n",
      "\\end{tabular}\n"
     ]
    }
   ],
   "source": [
    "print \"\\\\begin{tabular}{|l||l|l|l|} \"\n",
    "print \"\\\\hline\"\n",
    "print \"Control Regions & MisIDEleSF & ZGammaSF & WGammaSF \\\\\\\\  \"\n",
    "print \"\\\\hline\"\n",
    "for ifile in ListOfFiles:\n",
    "    myfile = ROOT.TFile(ifile,\"read\")\n",
    "    if myfile.GetListOfKeys().Contains(\"fit_s\") is False:\n",
    "        print ifile[14:-5], \": Fit failed.\"\n",
    "        continue\n",
    "    fit_s = myfile.Get(\"fit_s\")\n",
    "\n",
    "    print ifile[14:-5], \"&\",\"$\", \\\n",
    "      round(fit_s.floatParsFinal().find(\"r\").getVal(),3), \"\\substack{\" ,round(fit_s.floatParsFinal().find(\"r\").getErrorLo(),3),\"\\\\\\\\\", \"+\",round(fit_s.floatParsFinal().find(\"r\").getErrorHi(),3),\"}$ &\", \"$\", \\\n",
    "      round(fit_s.floatParsFinal().find(\"ZGammaBkgPhotonSF\").getVal(),3), \"\\substack{\" ,round(fit_s.floatParsFinal().find(\"ZGammaBkgPhotonSF\").getErrorLo(),3),\"\\\\\\\\\", \"+\", round(fit_s.floatParsFinal().find(\"r\").getErrorHi(),3), \"}$ &\", \"$\",\\\n",
    "      round(fit_s.floatParsFinal().find(\"WGammaBkgPhotonSF\").getVal(),3), \"\\substack{\" ,round(fit_s.floatParsFinal().find(\"WGammaBkgPhotonSF\").getErrorLo(),3),\"\\\\\\\\\", \"+\", round(fit_s.floatParsFinal().find(\"r\").getErrorHi(),3),\"}$ \\\\\\\\\"\n",
    "    del myfile\n",
    "print \"\\\\hline\"\n",
    "print \"\\end{tabular}\""
   ]
  },
  {
   "cell_type": "code",
   "execution_count": 9,
   "metadata": {},
   "outputs": [
    {
     "name": "stdout",
     "output_type": "stream",
     "text": [
      "CR123 2.044\n",
      "CR123 1.084\n",
      "CR123 1.678\n",
      "------------------------------\n",
      "CR1 2.071\n",
      "CR1 0.989\n",
      "CR1 1.68\n",
      "------------------------------\n",
      "CR2 2.066\n",
      "CR2 1.594\n",
      "CR2 1.593\n",
      "------------------------------\n",
      "CR3 2.171\n",
      "CR3 3.007\n",
      "CR3 1.807\n",
      "------------------------------\n",
      "CR4 2.454\n",
      "CR4 1.163\n",
      "CR4 1.725\n",
      "------------------------------\n"
     ]
    }
   ],
   "source": [
    "for ifile in ListOfFiles:\n",
    "    myfile = ROOT.TFile(ifile,\"read\")\n",
    "    if myfile.GetListOfKeys().Contains(\"fit_s\") is False:\n",
    "        print ifile[14:-5], \": Fit failed.\"\n",
    "        continue\n",
    "    fit_s = myfile.Get(\"fit_s\")\n",
    "    print ifile[14:-5], round(fit_s.floatParsFinal().find(\"r\").getVal(),3)\n",
    "    print ifile[14:-5], round(fit_s.floatParsFinal().find(\"ZGammaBkgPhotonSF\").getVal(),3)\n",
    "    print ifile[14:-5], round(fit_s.floatParsFinal().find(\"WGammaBkgPhotonSF\").getVal(),3)\n",
    "    print \"------------------------------\"\n",
    "    del myfile"
   ]
  },
  {
   "cell_type": "code",
   "execution_count": null,
   "metadata": {},
   "outputs": [],
   "source": []
  }
 ],
 "metadata": {
  "kernelspec": {
   "display_name": "Python 2",
   "language": "python",
   "name": "python2"
  },
  "language_info": {
   "codemirror_mode": {
    "name": "ipython",
    "version": 2
   },
   "file_extension": ".py",
   "mimetype": "text/x-python",
   "name": "python",
   "nbconvert_exporter": "python",
   "pygments_lexer": "ipython2",
   "version": "2.7.14+"
  }
 },
 "nbformat": 4,
 "nbformat_minor": 2
}
