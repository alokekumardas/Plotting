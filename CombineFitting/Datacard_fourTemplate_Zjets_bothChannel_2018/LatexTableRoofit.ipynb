{
 "cells": [
  {
   "cell_type": "code",
   "execution_count": 6,
   "metadata": {},
   "outputs": [
    {
     "name": "stdout",
     "output_type": "stream",
     "text": [
      "/uscms_data/d3/npoudyal/TTGammaSemiLeptonic13TeV/CMSSW_10_2_14/src/HiggsAnalysis/CombinedLimit/ttgammaCombineFitting/Datacard_fourTemplate_Zjets_bothChannel_2018\r\n"
     ]
    }
   ],
   "source": [
    "import ROOT\n",
    "!pwd"
   ]
  },
  {
   "cell_type": "code",
   "execution_count": 7,
   "metadata": {},
   "outputs": [],
   "source": [
    "ListOfFiles = [\"fitDiagnosticsCR123.root\", \"fitDiagnosticsCR1.root\",  \"fitDiagnosticsCR2.root\", \"fitDiagnosticsCR3.root\",\n",
    "\t\t\t   \"fitDiagnosticsCR4.root\"]"
   ]
  },
  {
   "cell_type": "code",
   "execution_count": 8,
   "metadata": {},
   "outputs": [],
   "source": [
    "controlRegionDict ={\"SR8\":\"tight\", \"CR123\":\"looseCRge2e0\", \"AR\":\"looseCRge2ge0\", \"CR7\":\"looseCRe3ge2\", \"CR3\":\"looseCRge4e0\", \"CR2\":\"looseCRe3e0\", \n",
    "\t\t\t\t   \"CR4\":\"looseCRe2e1\", \"CR1\":\"looseCRe2e0\", \"CR6\":\"looseCRe2e2\", \"CR5\":\"looseCRe3e1\" }"
   ]
  },
  {
   "cell_type": "code",
   "execution_count": 9,
   "metadata": {},
   "outputs": [
    {
     "name": "stdout",
     "output_type": "stream",
     "text": [
      "/uscms_data/d3/npoudyal/TTGammaSemiLeptonic13TeV/CMSSW_10_2_14/src/HiggsAnalysis/CombinedLimit/ttgammaCombineFitting/Datacard_fourTemplate_Zjets_bothChannel_2018\n",
      "\\begin{tabular}{|l||l|l|l|} \n",
      "\\hline\n",
      "Control Regions & MisIDEleSF & ZGammaSF & WGammaSF \\\\  \n",
      "\\hline\n",
      "CR123 & $ 1.62 \\substack{ -0.041 \\\\ + 0.042 }$ & $ 1.17 \\substack{ -0.071 \\\\ + 0.042 }$ & $ 1.577 \\substack{ -0.06 \\\\ + 0.042 }$ \\\\\n",
      "CR1 & $ 1.634 \\substack{ -0.038 \\\\ + 0.039 }$ & $ 1.063 \\substack{ -0.071 \\\\ + 0.039 }$ & $ 1.61 \\substack{ -0.069 \\\\ + 0.039 }$ \\\\\n",
      "CR2 & $ 1.646 \\substack{ -0.099 \\\\ + 0.107 }$ & $ 1.467 \\substack{ -0.148 \\\\ + 0.107 }$ & $ 1.498 \\substack{ -0.113 \\\\ + 0.107 }$ \\\\\n",
      "CR3 & $ 1.707 \\substack{ -0.174 \\\\ + 0.199 }$ & $ 1.176 \\substack{ -0.588 \\\\ + 0.199 }$ & $ 2.172 \\substack{ -0.284 \\\\ + 0.199 }$ \\\\\n",
      "CR4 & $ 1.794 \\substack{ -0.133 \\\\ + 0.148 }$ & $ 1.114 \\substack{ -0.196 \\\\ + 0.148 }$ & $ 2.073 \\substack{ -0.38 \\\\ + 0.148 }$ \\\\\n",
      "\\hline\n",
      "\\end{tabular}\n"
     ]
    }
   ],
   "source": [
    "!pwd\n",
    "print \"\\\\begin{tabular}{|l||l|l|l|} \"\n",
    "print \"\\\\hline\"\n",
    "print \"Control Regions & MisIDEleSF & ZGammaSF & WGammaSF \\\\\\\\  \"\n",
    "print \"\\\\hline\"\n",
    "for ifile in ListOfFiles:\n",
    "    myfile = ROOT.TFile(ifile,\"read\")\n",
    "    if myfile.GetListOfKeys().Contains(\"fit_s\") is False:\n",
    "        print ifile[14:-5], \": Fit failed.\"\n",
    "        continue\n",
    "    fit_s = myfile.Get(\"fit_s\")\n",
    "\n",
    "    print ifile[14:-5], \"&\",\"$\", \\\n",
    "      round(fit_s.floatParsFinal().find(\"r\").getVal(),3), \"\\substack{\" ,round(fit_s.floatParsFinal().find(\"r\").getErrorLo(),3),\"\\\\\\\\\", \"+\",round(fit_s.floatParsFinal().find(\"r\").getErrorHi(),3),\"}$ &\", \"$\", \\\n",
    "      round(fit_s.floatParsFinal().find(\"ZGammaBkgPhotonSF\").getVal(),3), \"\\substack{\" ,round(fit_s.floatParsFinal().find(\"ZGammaBkgPhotonSF\").getErrorLo(),3),\"\\\\\\\\\", \"+\", round(fit_s.floatParsFinal().find(\"r\").getErrorHi(),3), \"}$ &\", \"$\",\\\n",
    "      round(fit_s.floatParsFinal().find(\"WGammaBkgPhotonSF\").getVal(),3), \"\\substack{\" ,round(fit_s.floatParsFinal().find(\"WGammaBkgPhotonSF\").getErrorLo(),3),\"\\\\\\\\\", \"+\", round(fit_s.floatParsFinal().find(\"r\").getErrorHi(),3),\"}$ \\\\\\\\\"\n",
    "    del myfile\n",
    "print \"\\\\hline\"\n",
    "print \"\\end{tabular}\""
   ]
  },
  {
   "cell_type": "code",
   "execution_count": 10,
   "metadata": {},
   "outputs": [
    {
     "name": "stdout",
     "output_type": "stream",
     "text": [
      "/uscms_data/d3/npoudyal/TTGammaSemiLeptonic13TeV/CMSSW_10_2_14/src/HiggsAnalysis/CombinedLimit/ttgammaCombineFitting/Datacard_fourTemplate_Zjets_bothChannel_2018\n",
      "CR123\n",
      "(1.62, 1.17, 1.577)\n",
      "CR1\n",
      "(1.634, 1.063, 1.61)\n",
      "CR2\n",
      "(1.646, 1.467, 1.498)\n",
      "CR3\n",
      "(1.707, 1.176, 2.172)\n",
      "CR4\n",
      "(1.794, 1.114, 2.073)\n",
      "[(1.62, 1.17, 1.577), (1.634, 1.063, 1.61), (1.646, 1.467, 1.498), (1.707, 1.176, 2.172), (1.794, 1.114, 2.073)]\n"
     ]
    }
   ],
   "source": [
    "!pwd\n",
    "myArray=[]\n",
    "myTuple = ()\n",
    "for ifile in ListOfFiles:\n",
    "    myfile = ROOT.TFile(ifile,\"read\")\n",
    "    if myfile.GetListOfKeys().Contains(\"fit_s\") is False:\n",
    "        print ifile[14:-5], \": Fit failed.\"\n",
    "        continue\n",
    "    fit_s = myfile.Get(\"fit_s\")\n",
    "    print ifile[14:-5]\n",
    "    print (\n",
    "    round(fit_s.floatParsFinal().find(\"r\").getVal(),3),\n",
    "    round(fit_s.floatParsFinal().find(\"ZGammaBkgPhotonSF\").getVal(),3),\n",
    "    round(fit_s.floatParsFinal().find(\"WGammaBkgPhotonSF\").getVal(),3))\n",
    "    myTuple = ( round(fit_s.floatParsFinal().find(\"r\").getVal(),3), round(fit_s.floatParsFinal().find(\"ZGammaBkgPhotonSF\").getVal(),3), round(fit_s.floatParsFinal().find(\"WGammaBkgPhotonSF\").getVal(),3))\n",
    "    myArray.append(myTuple)\n",
    "    del myfile\n",
    "# x , y, z = myArray[0]\n",
    "# print x, y, z\n",
    "print myArray"
   ]
  },
  {
   "cell_type": "code",
   "execution_count": 11,
   "metadata": {},
   "outputs": [
    {
     "data": {
      "text/plain": [
       "[(1.644, 1.253, 1.48),\n",
       " (1.654, 1.136, 1.523),\n",
       " (1.67, 1.594, 1.373),\n",
       " (1.754, 1.109, 2.061),\n",
       " (1.908, 1.254, 1.645)]"
      ]
     },
     "execution_count": 11,
     "metadata": {},
     "output_type": "execute_result"
    }
   ],
   "source": []
  }
 ],
 "metadata": {
  "kernelspec": {
   "display_name": "Python 2",
   "language": "python",
   "name": "python2"
  },
  "language_info": {
   "codemirror_mode": {
    "name": "ipython",
    "version": 2
   },
   "file_extension": ".py",
   "mimetype": "text/x-python",
   "name": "python",
   "nbconvert_exporter": "python",
   "pygments_lexer": "ipython2",
   "version": "2.7.14+"
  }
 },
 "nbformat": 4,
 "nbformat_minor": 2
}
