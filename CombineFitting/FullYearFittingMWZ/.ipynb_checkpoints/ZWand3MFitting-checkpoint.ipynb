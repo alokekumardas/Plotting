{
 "cells": [
  {
   "cell_type": "code",
   "execution_count": 1,
   "metadata": {},
   "outputs": [
    {
     "name": "stdout",
     "output_type": "stream",
     "text": [
      "Welcome to JupyROOT 6.12/07\n",
      "/uscms_data/d3/npoudyal/TTGammaSemiLeptonic13TeV/CMSSW_10_2_14/src/TTGammaSemiLep_13TeV/Plotting/CombineFitting/FullYearFitting\n",
      "ZWand3MFitting.ipynb\n"
     ]
    }
   ],
   "source": [
    "import ROOT\n",
    "import os\n",
    "!pwd\n",
    "!ls\n",
    "# --redefineSignalPOIs r,rSeventeen,rEighteen,ZGammaBkgPhotonSF,WGammaBkgPhotonSF"
   ]
  },
  {
   "cell_type": "code",
   "execution_count": 2,
   "metadata": {},
   "outputs": [
    {
     "name": "stdout",
     "output_type": "stream",
     "text": [
      " <<< Combine >>> \n",
      ">>> method used is FitDiagnostics\n",
      ">>> random number generator seed is 123456\n",
      "Traceback (most recent call last):\n",
      "  File \"/uscms_data/d3/npoudyal/TTGammaSemiLeptonic13TeV/CMSSW_10_2_14/bin/slc6_amd64_gcc700/text2workspace.py\", line 38, in <module>\n",
      "    DC = parseCard(file, options)\n",
      "  File \"/uscms_data/d3/npoudyal/TTGammaSemiLeptonic13TeV/CMSSW_10_2_14/python/HiggsAnalysis/CombinedLimit/DatacardParser.py\", line 109, in parseCard\n",
      "    if ret.shapeMap[f[2]].has_key(f[1]): raise RuntimeError, \"Duplicate definition for process '%s', channel '%s'\" % (f[1], f[2])\n",
      "RuntimeError: Error reading line 18 of file /uscms_data/d3/npoudyal/TTGammaSemiLeptonic13TeV/CMSSW_10_2_14/src/TTGammaSemiLep_13TeV/Plotting/CombineFitting/FullYearFitting/datacard_CR123_ZWand3M.txt: Duplicate definition for process 'data_obs', channel 'eleJets'\n",
      "Error when running the combination:\n",
      "\tFailed to convert the input datacard from LandS to RooStats format. The lines above probably contain more information about the error.\n"
     ]
    }
   ],
   "source": [
    "!combine -M FitDiagnostics -n CR123_ZWand3M  datacard_CR123_ZWand3M.txt  --saveWithUncertainties --plots "
   ]
  },
  {
   "cell_type": "code",
   "execution_count": null,
   "metadata": {},
   "outputs": [],
   "source": []
  }
 ],
 "metadata": {
  "kernelspec": {
   "display_name": "Python 2",
   "language": "python",
   "name": "python2"
  },
  "language_info": {
   "codemirror_mode": {
    "name": "ipython",
    "version": 2
   },
   "file_extension": ".py",
   "mimetype": "text/x-python",
   "name": "python",
   "nbconvert_exporter": "python",
   "pygments_lexer": "ipython2",
   "version": "2.7.14+"
  }
 },
 "nbformat": 4,
 "nbformat_minor": 2
}
